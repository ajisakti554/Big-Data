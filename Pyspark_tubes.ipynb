{
  "nbformat": 4,
  "nbformat_minor": 0,
  "metadata": {
    "colab": {
      "provenance": [],
      "collapsed_sections": [
        "OPZVUCvxCUDR",
        "KIpopF5JCbVi",
        "WzDsiXPJC9Ys",
        "xnT8al-YEbKJ",
        "goK5Kx2IIlAe",
        "QCXdPmYLJc13",
        "qmpKePatJwIz",
        "0PyXOCbqKS4J",
        "FY3rC1X1n15p",
        "vDOdZG3IuYSM",
        "VoedJyPzii0t",
        "ii5d4ADqreKT",
        "CHrdsMTtxkJP"
      ],
      "authorship_tag": "ABX9TyMFFLQXvQY+e3AUGdPg3GTr",
      "include_colab_link": true
    },
    "kernelspec": {
      "name": "python3",
      "display_name": "Python 3"
    },
    "language_info": {
      "name": "python"
    }
  },
  "cells": [
    {
      "cell_type": "markdown",
      "metadata": {
        "id": "view-in-github",
        "colab_type": "text"
      },
      "source": [
        "<a href=\"https://colab.research.google.com/github/ajisakti554/Big-Data/blob/main/Pyspark_tubes.ipynb\" target=\"_parent\"><img src=\"https://colab.research.google.com/assets/colab-badge.svg\" alt=\"Open In Colab\"/></a>"
      ]
    },
    {
      "cell_type": "markdown",
      "source": [
        "**TUGAS BESAR BIG DATA (preprocessing )**\n",
        "\n",
        "Nama kelompok :\n",
        "\n",
        "1.   Aji Sakti Saputra\n",
        "2.   Fadhli Jahfal\n",
        "3.   Rafid Farhan Zai\n",
        "4.   Yusuf Sohibul\n"
      ],
      "metadata": {
        "id": "LxcnpdoEK95C"
      }
    },
    {
      "cell_type": "markdown",
      "source": [
        "#1.  Instal Java dan PySpark"
      ],
      "metadata": {
        "id": "OPZVUCvxCUDR"
      }
    },
    {
      "cell_type": "code",
      "execution_count": null,
      "metadata": {
        "id": "MCZRWwWGCI0C"
      },
      "outputs": [],
      "source": [
        "!apt-get install openjdk-8-jdk-headless -qq > /dev/null\n",
        "!pip install -q pyspark"
      ]
    },
    {
      "cell_type": "markdown",
      "source": [
        "# 2. Set Environment Variabel"
      ],
      "metadata": {
        "id": "KIpopF5JCbVi"
      }
    },
    {
      "cell_type": "code",
      "source": [
        "import os\n",
        "\n",
        "os.environ[\"JAVA_HOME\"] = \"/usr/lib/jvm/java-8-openjdk-amd64\"\n",
        "os.environ[\"SPARK_HOME\"] = \"/usr/local/lib/python3.11/dist-packages/pyspark\""
      ],
      "metadata": {
        "id": "E-6_R5yhCfsQ"
      },
      "execution_count": null,
      "outputs": []
    },
    {
      "cell_type": "markdown",
      "source": [
        "# 3. Inisialisasi SparkSession"
      ],
      "metadata": {
        "id": "WzDsiXPJC9Ys"
      }
    },
    {
      "cell_type": "code",
      "source": [
        "from pyspark.sql import SparkSession\n",
        "\n",
        "spark = SparkSession.builder.master(\"local[*]\").appName(\"Colab PySpark\").getOrCreate()"
      ],
      "metadata": {
        "id": "RkS9lPd3DG-N"
      },
      "execution_count": null,
      "outputs": []
    },
    {
      "cell_type": "code",
      "source": [
        "# Upload file dari komputer lokal\n",
        "from google.colab import files\n",
        "uploaded = files.upload()\n"
      ],
      "metadata": {
        "colab": {
          "base_uri": "https://localhost:8080/",
          "height": 246
        },
        "id": "BLZ1C2BJDKtS",
        "outputId": "22c634c3-c240-45fc-c126-4b5c60db43a4"
      },
      "execution_count": null,
      "outputs": [
        {
          "output_type": "display_data",
          "data": {
            "text/plain": [
              "<IPython.core.display.HTML object>"
            ],
            "text/html": [
              "\n",
              "     <input type=\"file\" id=\"files-5405fee7-94d8-4c70-b805-8c87db36e229\" name=\"files[]\" multiple disabled\n",
              "        style=\"border:none\" />\n",
              "     <output id=\"result-5405fee7-94d8-4c70-b805-8c87db36e229\">\n",
              "      Upload widget is only available when the cell has been executed in the\n",
              "      current browser session. Please rerun this cell to enable.\n",
              "      </output>\n",
              "      <script>// Copyright 2017 Google LLC\n",
              "//\n",
              "// Licensed under the Apache License, Version 2.0 (the \"License\");\n",
              "// you may not use this file except in compliance with the License.\n",
              "// You may obtain a copy of the License at\n",
              "//\n",
              "//      http://www.apache.org/licenses/LICENSE-2.0\n",
              "//\n",
              "// Unless required by applicable law or agreed to in writing, software\n",
              "// distributed under the License is distributed on an \"AS IS\" BASIS,\n",
              "// WITHOUT WARRANTIES OR CONDITIONS OF ANY KIND, either express or implied.\n",
              "// See the License for the specific language governing permissions and\n",
              "// limitations under the License.\n",
              "\n",
              "/**\n",
              " * @fileoverview Helpers for google.colab Python module.\n",
              " */\n",
              "(function(scope) {\n",
              "function span(text, styleAttributes = {}) {\n",
              "  const element = document.createElement('span');\n",
              "  element.textContent = text;\n",
              "  for (const key of Object.keys(styleAttributes)) {\n",
              "    element.style[key] = styleAttributes[key];\n",
              "  }\n",
              "  return element;\n",
              "}\n",
              "\n",
              "// Max number of bytes which will be uploaded at a time.\n",
              "const MAX_PAYLOAD_SIZE = 100 * 1024;\n",
              "\n",
              "function _uploadFiles(inputId, outputId) {\n",
              "  const steps = uploadFilesStep(inputId, outputId);\n",
              "  const outputElement = document.getElementById(outputId);\n",
              "  // Cache steps on the outputElement to make it available for the next call\n",
              "  // to uploadFilesContinue from Python.\n",
              "  outputElement.steps = steps;\n",
              "\n",
              "  return _uploadFilesContinue(outputId);\n",
              "}\n",
              "\n",
              "// This is roughly an async generator (not supported in the browser yet),\n",
              "// where there are multiple asynchronous steps and the Python side is going\n",
              "// to poll for completion of each step.\n",
              "// This uses a Promise to block the python side on completion of each step,\n",
              "// then passes the result of the previous step as the input to the next step.\n",
              "function _uploadFilesContinue(outputId) {\n",
              "  const outputElement = document.getElementById(outputId);\n",
              "  const steps = outputElement.steps;\n",
              "\n",
              "  const next = steps.next(outputElement.lastPromiseValue);\n",
              "  return Promise.resolve(next.value.promise).then((value) => {\n",
              "    // Cache the last promise value to make it available to the next\n",
              "    // step of the generator.\n",
              "    outputElement.lastPromiseValue = value;\n",
              "    return next.value.response;\n",
              "  });\n",
              "}\n",
              "\n",
              "/**\n",
              " * Generator function which is called between each async step of the upload\n",
              " * process.\n",
              " * @param {string} inputId Element ID of the input file picker element.\n",
              " * @param {string} outputId Element ID of the output display.\n",
              " * @return {!Iterable<!Object>} Iterable of next steps.\n",
              " */\n",
              "function* uploadFilesStep(inputId, outputId) {\n",
              "  const inputElement = document.getElementById(inputId);\n",
              "  inputElement.disabled = false;\n",
              "\n",
              "  const outputElement = document.getElementById(outputId);\n",
              "  outputElement.innerHTML = '';\n",
              "\n",
              "  const pickedPromise = new Promise((resolve) => {\n",
              "    inputElement.addEventListener('change', (e) => {\n",
              "      resolve(e.target.files);\n",
              "    });\n",
              "  });\n",
              "\n",
              "  const cancel = document.createElement('button');\n",
              "  inputElement.parentElement.appendChild(cancel);\n",
              "  cancel.textContent = 'Cancel upload';\n",
              "  const cancelPromise = new Promise((resolve) => {\n",
              "    cancel.onclick = () => {\n",
              "      resolve(null);\n",
              "    };\n",
              "  });\n",
              "\n",
              "  // Wait for the user to pick the files.\n",
              "  const files = yield {\n",
              "    promise: Promise.race([pickedPromise, cancelPromise]),\n",
              "    response: {\n",
              "      action: 'starting',\n",
              "    }\n",
              "  };\n",
              "\n",
              "  cancel.remove();\n",
              "\n",
              "  // Disable the input element since further picks are not allowed.\n",
              "  inputElement.disabled = true;\n",
              "\n",
              "  if (!files) {\n",
              "    return {\n",
              "      response: {\n",
              "        action: 'complete',\n",
              "      }\n",
              "    };\n",
              "  }\n",
              "\n",
              "  for (const file of files) {\n",
              "    const li = document.createElement('li');\n",
              "    li.append(span(file.name, {fontWeight: 'bold'}));\n",
              "    li.append(span(\n",
              "        `(${file.type || 'n/a'}) - ${file.size} bytes, ` +\n",
              "        `last modified: ${\n",
              "            file.lastModifiedDate ? file.lastModifiedDate.toLocaleDateString() :\n",
              "                                    'n/a'} - `));\n",
              "    const percent = span('0% done');\n",
              "    li.appendChild(percent);\n",
              "\n",
              "    outputElement.appendChild(li);\n",
              "\n",
              "    const fileDataPromise = new Promise((resolve) => {\n",
              "      const reader = new FileReader();\n",
              "      reader.onload = (e) => {\n",
              "        resolve(e.target.result);\n",
              "      };\n",
              "      reader.readAsArrayBuffer(file);\n",
              "    });\n",
              "    // Wait for the data to be ready.\n",
              "    let fileData = yield {\n",
              "      promise: fileDataPromise,\n",
              "      response: {\n",
              "        action: 'continue',\n",
              "      }\n",
              "    };\n",
              "\n",
              "    // Use a chunked sending to avoid message size limits. See b/62115660.\n",
              "    let position = 0;\n",
              "    do {\n",
              "      const length = Math.min(fileData.byteLength - position, MAX_PAYLOAD_SIZE);\n",
              "      const chunk = new Uint8Array(fileData, position, length);\n",
              "      position += length;\n",
              "\n",
              "      const base64 = btoa(String.fromCharCode.apply(null, chunk));\n",
              "      yield {\n",
              "        response: {\n",
              "          action: 'append',\n",
              "          file: file.name,\n",
              "          data: base64,\n",
              "        },\n",
              "      };\n",
              "\n",
              "      let percentDone = fileData.byteLength === 0 ?\n",
              "          100 :\n",
              "          Math.round((position / fileData.byteLength) * 100);\n",
              "      percent.textContent = `${percentDone}% done`;\n",
              "\n",
              "    } while (position < fileData.byteLength);\n",
              "  }\n",
              "\n",
              "  // All done.\n",
              "  yield {\n",
              "    response: {\n",
              "      action: 'complete',\n",
              "    }\n",
              "  };\n",
              "}\n",
              "\n",
              "scope.google = scope.google || {};\n",
              "scope.google.colab = scope.google.colab || {};\n",
              "scope.google.colab._files = {\n",
              "  _uploadFiles,\n",
              "  _uploadFilesContinue,\n",
              "};\n",
              "})(self);\n",
              "</script> "
            ]
          },
          "metadata": {}
        },
        {
          "output_type": "stream",
          "name": "stdout",
          "text": [
            "Saving lobster_vessels_dataset.csv to lobster_vessels_dataset.csv\n",
            "Saving lobster_quality_inspections_dataset.csv to lobster_quality_inspections_dataset.csv\n",
            "Saving lobster_market_sales_dataset.csv to lobster_market_sales_dataset.csv\n",
            "Saving lobster_fishing_grounds_dataset.csv to lobster_fishing_grounds_dataset.csv\n",
            "Saving lobster_fishers_dataset.csv to lobster_fishers_dataset.csv\n",
            "Saving lobster_dataset.csv to lobster_dataset.csv\n"
          ]
        }
      ]
    },
    {
      "cell_type": "markdown",
      "source": [
        "# Input dataset pertama yaitu dataset lobster_dataset"
      ],
      "metadata": {
        "id": "xnT8al-YEbKJ"
      }
    },
    {
      "cell_type": "code",
      "source": [
        "# Untuk CSV\n",
        "df_lobster = spark.read.option(\"header\", \"true\").option(\"inferSchema\", \"true\").csv(\"lobster_dataset.csv\")\n",
        "df_lobster.show()"
      ],
      "metadata": {
        "colab": {
          "base_uri": "https://localhost:8080/"
        },
        "id": "30luq2WXDsu9",
        "outputId": "043e49c2-1940-4cbe-c090-f518f4a9ebb2"
      },
      "execution_count": null,
      "outputs": [
        {
          "output_type": "stream",
          "name": "stdout",
          "text": [
            "+----------+----------------+----------+---------+------------+------------------+-------+---------------+------------+---------+---------+-----------------+-------------------+--------+-----------------+------------+\n",
            "|lobster_id|         species|catch_date|length_cm|weight_grams|carapace_length_cm|  grade|shell_condition|catch_method|fisher_id|vessel_id|fishing_ground_id|market_price_per_kg|is_alive|inspection_passed|export_ready|\n",
            "+----------+----------------+----------+---------+------------+------------------+-------+---------------+------------+---------+---------+-----------------+-------------------+--------+-----------------+------------+\n",
            "|  LOB00001|American Lobster| 10/5/2023|    15.75|       557.5|             10.23|Grade A|     Hard Shell|Hand Picking|   FSH005|   VSL002|            FG003|              37.03|    true|             true|       false|\n",
            "|  LOB00002|European Lobster|  8/9/2024|    28.48|       561.6|             16.69|Grade B|    Paper Shell|    Trawling|   FSH036|   VSL010|            FG007|              77.65|   false|             true|        true|\n",
            "|  LOB00003|    Rock Lobster| 10/8/2023|     17.9|      1301.7|             14.04|Grade A|    Paper Shell|        Trap|   FSH049|   VSL006|            FG018|              41.12|   false|             true|        true|\n",
            "|  LOB00004|American Lobster|10/25/2024|    34.84|      1205.0|             17.85|Grade B|     Hard Shell|Hand Picking|   FSH036|   VSL030|            FG021|              70.88|    true|            false|       false|\n",
            "|  LOB00005|European Lobster| 9/22/2024|    35.11|      1112.4|             14.84|Grade A|     Soft Shell|      Diving|   FSH021|   VSL030|            FG013|              39.85|    true|            false|        true|\n",
            "|  LOB00006|European Lobster| 1/26/2024|    39.65|      1246.6|             12.01|Grade A|     Soft Shell|    Trawling|   FSH028|   VSL042|            FG016|              46.76|   false|             true|       false|\n",
            "|  LOB00007|European Lobster| 12/1/2024|     22.4|       929.8|             10.63| Reject|    Paper Shell|    Trawling|   FSH029|   VSL009|            FG017|              52.14|    true|             true|        true|\n",
            "|  LOB00008|European Lobster| 2/24/2024|    38.76|       748.8|              8.64| Reject|    Paper Shell|    Trawling|   FSH071|   VSL001|            FG022|              64.64|   false|            false|        true|\n",
            "|  LOB00009|   Spiny Lobster| 8/10/2024|    28.04|       789.8|             17.54|Grade C|     Soft Shell|        Trap|   FSH081|   VSL020|            FG021|              52.92|    true|             true|       false|\n",
            "|  LOB00010|European Lobster| 4/15/2025|    31.18|      1212.2|              13.3|Grade A|         Peeler|Hand Picking|   FSH003|   VSL008|            FG012|              73.33|   false|             true|        true|\n",
            "|  LOB00011|European Lobster| 1/26/2024|    41.34|      1431.0|              8.86| Reject|     Hard Shell|      Diving|   FSH017|   VSL043|            FG016|              77.08|    true|            false|       false|\n",
            "|  LOB00012|European Lobster| 10/9/2023|    42.87|      1181.8|              14.9|Grade C|    Paper Shell|    Trawling|   FSH057|   VSL034|            FG015|              31.66|    true|             true|       false|\n",
            "|  LOB00013|American Lobster| 11/8/2024|    32.65|       499.1|              10.2|Grade A|     Hard Shell|      Diving|   FSH009|   VSL003|            FG011|               28.9|    true|            false|       false|\n",
            "|  LOB00014|European Lobster| 9/26/2024|    31.18|      1140.4|             16.82| Reject|     Soft Shell|Hand Picking|   FSH053|   VSL013|            FG004|              30.33|   false|            false|       false|\n",
            "|  LOB00015|    Rock Lobster| 8/11/2023|    29.01|      1147.8|             14.73|Grade A|     Hard Shell|Hand Picking|   FSH094|   VSL022|            FG004|              38.68|    true|            false|        true|\n",
            "|  LOB00016|    Rock Lobster|10/19/2024|     20.5|       801.4|             16.74|Grade A|           NULL|        Trap|   FSH007|   VSL042|            FG018|              70.98|    true|             true|        true|\n",
            "|  LOB00017|    Rock Lobster|10/24/2023|    29.57|       477.9|             12.01|Grade A|     Soft Shell|Hand Picking|   FSH001|   VSL025|            FG009|              75.96|   false|            false|       false|\n",
            "|  LOB00018| Slipper Lobster|10/24/2023|    34.86|       832.7|               9.9|Grade B|     Hard Shell|        Trap|   FSH096|   VSL021|            FG002|              27.76|   false|             true|        true|\n",
            "|  LOB00019| Slipper Lobster| 10/8/2023|     17.4|       441.6|             13.95|Grade B|    Paper Shell|        Trap|   FSH073|   VSL016|            FG019|               57.7|    true|            false|       false|\n",
            "|  LOB00020|   Spiny Lobster| 3/19/2024|    21.13|      1131.0|             10.39| Reject|     Soft Shell|    Trawling|   FSH059|   VSL021|            FG025|              76.47|    true|            false|        true|\n",
            "+----------+----------------+----------+---------+------------+------------------+-------+---------------+------------+---------+---------+-----------------+-------------------+--------+-----------------+------------+\n",
            "only showing top 20 rows\n",
            "\n"
          ]
        }
      ]
    },
    {
      "cell_type": "markdown",
      "source": [
        "**Karena dataset ke 1 memiliki data yang null dan duplikasi, maka cleaning terlebih dahulu**"
      ],
      "metadata": {
        "id": "mZBycuQBoULW"
      }
    },
    {
      "cell_type": "code",
      "source": [
        "# 1. Cek missing values\n",
        "from pyspark.sql.functions import col, sum\n",
        "\n",
        "missing_values = df_lobster.select([sum(col(c).isNull().cast(\"int\")).alias(c) for c in df_lobster.columns])\n",
        "missing_values.show()"
      ],
      "metadata": {
        "colab": {
          "base_uri": "https://localhost:8080/"
        },
        "id": "0pEyUYwpodxO",
        "outputId": "c72c5f37-bc3b-4067-b977-55661490b3a2"
      },
      "execution_count": null,
      "outputs": [
        {
          "output_type": "stream",
          "name": "stdout",
          "text": [
            "+----------+-------+----------+---------+------------+------------------+-----+---------------+------------+---------+---------+-----------------+-------------------+--------+-----------------+------------+\n",
            "|lobster_id|species|catch_date|length_cm|weight_grams|carapace_length_cm|grade|shell_condition|catch_method|fisher_id|vessel_id|fishing_ground_id|market_price_per_kg|is_alive|inspection_passed|export_ready|\n",
            "+----------+-------+----------+---------+------------+------------------+-----+---------------+------------+---------+---------+-----------------+-------------------+--------+-----------------+------------+\n",
            "|         0|      0|         0|        2|           1|                 0|    0|              1|           0|        0|        0|                0|                  0|       0|                0|           0|\n",
            "+----------+-------+----------+---------+------------+------------------+-----+---------------+------------+---------+---------+-----------------+-------------------+--------+-----------------+------------+\n",
            "\n"
          ]
        }
      ]
    },
    {
      "cell_type": "code",
      "source": [
        "# 2. Isi missing value di kolom length_cm dengan nilai median\n",
        "from pyspark.sql.functions import median\n",
        "\n",
        "median_height =df_lobster.select(median(\"length_cm\")).first()[0]\n",
        "df_lobster = df_lobster.na.fill(median_height, subset=[\"length_cm\"])\n",
        "\n",
        "df_lobster.show()"
      ],
      "metadata": {
        "colab": {
          "base_uri": "https://localhost:8080/"
        },
        "id": "VVvcaHTsoyJm",
        "outputId": "6ae097fb-9a2b-41a0-e7d3-53eee07b3e64"
      },
      "execution_count": null,
      "outputs": [
        {
          "output_type": "stream",
          "name": "stdout",
          "text": [
            "+----------+----------------+----------+---------+------------+------------------+-------+---------------+------------+---------+---------+-----------------+-------------------+--------+-----------------+------------+\n",
            "|lobster_id|         species|catch_date|length_cm|weight_grams|carapace_length_cm|  grade|shell_condition|catch_method|fisher_id|vessel_id|fishing_ground_id|market_price_per_kg|is_alive|inspection_passed|export_ready|\n",
            "+----------+----------------+----------+---------+------------+------------------+-------+---------------+------------+---------+---------+-----------------+-------------------+--------+-----------------+------------+\n",
            "|  LOB00001|American Lobster| 10/5/2023|    15.75|       557.5|             10.23|Grade A|     Hard Shell|Hand Picking|   FSH005|   VSL002|            FG003|              37.03|    true|             true|       false|\n",
            "|  LOB00002|European Lobster|  8/9/2024|    28.48|       561.6|             16.69|Grade B|    Paper Shell|    Trawling|   FSH036|   VSL010|            FG007|              77.65|   false|             true|        true|\n",
            "|  LOB00003|    Rock Lobster| 10/8/2023|     17.9|      1301.7|             14.04|Grade A|    Paper Shell|        Trap|   FSH049|   VSL006|            FG018|              41.12|   false|             true|        true|\n",
            "|  LOB00004|American Lobster|10/25/2024|    34.84|      1205.0|             17.85|Grade B|     Hard Shell|Hand Picking|   FSH036|   VSL030|            FG021|              70.88|    true|            false|       false|\n",
            "|  LOB00005|European Lobster| 9/22/2024|    35.11|      1112.4|             14.84|Grade A|     Soft Shell|      Diving|   FSH021|   VSL030|            FG013|              39.85|    true|            false|        true|\n",
            "|  LOB00006|European Lobster| 1/26/2024|    39.65|      1246.6|             12.01|Grade A|     Soft Shell|    Trawling|   FSH028|   VSL042|            FG016|              46.76|   false|             true|       false|\n",
            "|  LOB00007|European Lobster| 12/1/2024|     22.4|       929.8|             10.63| Reject|    Paper Shell|    Trawling|   FSH029|   VSL009|            FG017|              52.14|    true|             true|        true|\n",
            "|  LOB00008|European Lobster| 2/24/2024|    38.76|       748.8|              8.64| Reject|    Paper Shell|    Trawling|   FSH071|   VSL001|            FG022|              64.64|   false|            false|        true|\n",
            "|  LOB00009|   Spiny Lobster| 8/10/2024|    28.04|       789.8|             17.54|Grade C|     Soft Shell|        Trap|   FSH081|   VSL020|            FG021|              52.92|    true|             true|       false|\n",
            "|  LOB00010|European Lobster| 4/15/2025|    31.18|      1212.2|              13.3|Grade A|         Peeler|Hand Picking|   FSH003|   VSL008|            FG012|              73.33|   false|             true|        true|\n",
            "|  LOB00011|European Lobster| 1/26/2024|    41.34|      1431.0|              8.86| Reject|     Hard Shell|      Diving|   FSH017|   VSL043|            FG016|              77.08|    true|            false|       false|\n",
            "|  LOB00012|European Lobster| 10/9/2023|    42.87|      1181.8|              14.9|Grade C|    Paper Shell|    Trawling|   FSH057|   VSL034|            FG015|              31.66|    true|             true|       false|\n",
            "|  LOB00013|American Lobster| 11/8/2024|    32.65|       499.1|              10.2|Grade A|     Hard Shell|      Diving|   FSH009|   VSL003|            FG011|               28.9|    true|            false|       false|\n",
            "|  LOB00014|European Lobster| 9/26/2024|    31.18|      1140.4|             16.82| Reject|     Soft Shell|Hand Picking|   FSH053|   VSL013|            FG004|              30.33|   false|            false|       false|\n",
            "|  LOB00015|    Rock Lobster| 8/11/2023|    29.01|      1147.8|             14.73|Grade A|     Hard Shell|Hand Picking|   FSH094|   VSL022|            FG004|              38.68|    true|            false|        true|\n",
            "|  LOB00016|    Rock Lobster|10/19/2024|     20.5|       801.4|             16.74|Grade A|           NULL|        Trap|   FSH007|   VSL042|            FG018|              70.98|    true|             true|        true|\n",
            "|  LOB00017|    Rock Lobster|10/24/2023|    29.57|       477.9|             12.01|Grade A|     Soft Shell|Hand Picking|   FSH001|   VSL025|            FG009|              75.96|   false|            false|       false|\n",
            "|  LOB00018| Slipper Lobster|10/24/2023|    34.86|       832.7|               9.9|Grade B|     Hard Shell|        Trap|   FSH096|   VSL021|            FG002|              27.76|   false|             true|        true|\n",
            "|  LOB00019| Slipper Lobster| 10/8/2023|     17.4|       441.6|             13.95|Grade B|    Paper Shell|        Trap|   FSH073|   VSL016|            FG019|               57.7|    true|            false|       false|\n",
            "|  LOB00020|   Spiny Lobster| 3/19/2024|    21.13|      1131.0|             10.39| Reject|     Soft Shell|    Trawling|   FSH059|   VSL021|            FG025|              76.47|    true|            false|        true|\n",
            "+----------+----------------+----------+---------+------------+------------------+-------+---------------+------------+---------+---------+-----------------+-------------------+--------+-----------------+------------+\n",
            "only showing top 20 rows\n",
            "\n"
          ]
        }
      ]
    },
    {
      "cell_type": "code",
      "source": [
        "# 2. Isi missing value di kolom  weight_gram dengan nilai median\n",
        "from pyspark.sql.functions import median\n",
        "\n",
        "median_weight =df_lobster.select(median(\"weight_grams\")).first()[0]\n",
        "df_lobster = df_lobster.na.fill(median_weight, subset=[\"weight_grams\"])\n",
        "\n",
        "df_lobster.show()"
      ],
      "metadata": {
        "colab": {
          "base_uri": "https://localhost:8080/"
        },
        "id": "TXrdhNTlpQoS",
        "outputId": "8201f196-64d5-4fa2-a773-d9478d8a136e"
      },
      "execution_count": null,
      "outputs": [
        {
          "output_type": "stream",
          "name": "stdout",
          "text": [
            "+----------+----------------+----------+---------+------------+------------------+-------+---------------+------------+---------+---------+-----------------+-------------------+--------+-----------------+------------+\n",
            "|lobster_id|         species|catch_date|length_cm|weight_grams|carapace_length_cm|  grade|shell_condition|catch_method|fisher_id|vessel_id|fishing_ground_id|market_price_per_kg|is_alive|inspection_passed|export_ready|\n",
            "+----------+----------------+----------+---------+------------+------------------+-------+---------------+------------+---------+---------+-----------------+-------------------+--------+-----------------+------------+\n",
            "|  LOB00001|American Lobster| 10/5/2023|    15.75|       557.5|             10.23|Grade A|     Hard Shell|Hand Picking|   FSH005|   VSL002|            FG003|              37.03|    true|             true|       false|\n",
            "|  LOB00002|European Lobster|  8/9/2024|    28.48|       561.6|             16.69|Grade B|    Paper Shell|    Trawling|   FSH036|   VSL010|            FG007|              77.65|   false|             true|        true|\n",
            "|  LOB00003|    Rock Lobster| 10/8/2023|     17.9|      1301.7|             14.04|Grade A|    Paper Shell|        Trap|   FSH049|   VSL006|            FG018|              41.12|   false|             true|        true|\n",
            "|  LOB00004|American Lobster|10/25/2024|    34.84|      1205.0|             17.85|Grade B|     Hard Shell|Hand Picking|   FSH036|   VSL030|            FG021|              70.88|    true|            false|       false|\n",
            "|  LOB00005|European Lobster| 9/22/2024|    35.11|      1112.4|             14.84|Grade A|     Soft Shell|      Diving|   FSH021|   VSL030|            FG013|              39.85|    true|            false|        true|\n",
            "|  LOB00006|European Lobster| 1/26/2024|    39.65|      1246.6|             12.01|Grade A|     Soft Shell|    Trawling|   FSH028|   VSL042|            FG016|              46.76|   false|             true|       false|\n",
            "|  LOB00007|European Lobster| 12/1/2024|     22.4|       929.8|             10.63| Reject|    Paper Shell|    Trawling|   FSH029|   VSL009|            FG017|              52.14|    true|             true|        true|\n",
            "|  LOB00008|European Lobster| 2/24/2024|    38.76|       748.8|              8.64| Reject|    Paper Shell|    Trawling|   FSH071|   VSL001|            FG022|              64.64|   false|            false|        true|\n",
            "|  LOB00009|   Spiny Lobster| 8/10/2024|    28.04|       789.8|             17.54|Grade C|     Soft Shell|        Trap|   FSH081|   VSL020|            FG021|              52.92|    true|             true|       false|\n",
            "|  LOB00010|European Lobster| 4/15/2025|    31.18|      1212.2|              13.3|Grade A|         Peeler|Hand Picking|   FSH003|   VSL008|            FG012|              73.33|   false|             true|        true|\n",
            "|  LOB00011|European Lobster| 1/26/2024|    41.34|      1431.0|              8.86| Reject|     Hard Shell|      Diving|   FSH017|   VSL043|            FG016|              77.08|    true|            false|       false|\n",
            "|  LOB00012|European Lobster| 10/9/2023|    42.87|      1181.8|              14.9|Grade C|    Paper Shell|    Trawling|   FSH057|   VSL034|            FG015|              31.66|    true|             true|       false|\n",
            "|  LOB00013|American Lobster| 11/8/2024|    32.65|       499.1|              10.2|Grade A|     Hard Shell|      Diving|   FSH009|   VSL003|            FG011|               28.9|    true|            false|       false|\n",
            "|  LOB00014|European Lobster| 9/26/2024|    31.18|      1140.4|             16.82| Reject|     Soft Shell|Hand Picking|   FSH053|   VSL013|            FG004|              30.33|   false|            false|       false|\n",
            "|  LOB00015|    Rock Lobster| 8/11/2023|    29.01|      1147.8|             14.73|Grade A|     Hard Shell|Hand Picking|   FSH094|   VSL022|            FG004|              38.68|    true|            false|        true|\n",
            "|  LOB00016|    Rock Lobster|10/19/2024|     20.5|       801.4|             16.74|Grade A|           NULL|        Trap|   FSH007|   VSL042|            FG018|              70.98|    true|             true|        true|\n",
            "|  LOB00017|    Rock Lobster|10/24/2023|    29.57|       477.9|             12.01|Grade A|     Soft Shell|Hand Picking|   FSH001|   VSL025|            FG009|              75.96|   false|            false|       false|\n",
            "|  LOB00018| Slipper Lobster|10/24/2023|    34.86|       832.7|               9.9|Grade B|     Hard Shell|        Trap|   FSH096|   VSL021|            FG002|              27.76|   false|             true|        true|\n",
            "|  LOB00019| Slipper Lobster| 10/8/2023|     17.4|       441.6|             13.95|Grade B|    Paper Shell|        Trap|   FSH073|   VSL016|            FG019|               57.7|    true|            false|       false|\n",
            "|  LOB00020|   Spiny Lobster| 3/19/2024|    21.13|      1131.0|             10.39| Reject|     Soft Shell|    Trawling|   FSH059|   VSL021|            FG025|              76.47|    true|            false|        true|\n",
            "+----------+----------------+----------+---------+------------+------------------+-------+---------------+------------+---------+---------+-----------------+-------------------+--------+-----------------+------------+\n",
            "only showing top 20 rows\n",
            "\n"
          ]
        }
      ]
    },
    {
      "cell_type": "code",
      "source": [
        "#isi missing value di kolom shell_condition dengan nilai ffill\n",
        "from pyspark.sql.functions import col\n",
        "\n",
        "# ✅ SOLUSI 1: Menggunakan fillna() dengan nilai default\n",
        "df_lobster = df_lobster.withColumn(\"shell_condition\", col(\"shell_condition\").cast(\"string\"))\n",
        "df_lobster = df_lobster.fillna(\"Unknown\", subset=[\"shell_condition\"])\n",
        "df_lobster.show()\n",
        "\n"
      ],
      "metadata": {
        "colab": {
          "base_uri": "https://localhost:8080/"
        },
        "id": "4YMyF-o0qAjW",
        "outputId": "737d6173-2ab8-4196-afb8-0a7e3864f465"
      },
      "execution_count": null,
      "outputs": [
        {
          "output_type": "stream",
          "name": "stdout",
          "text": [
            "+----------+----------------+----------+---------+------------+------------------+-------+---------------+------------+---------+---------+-----------------+-------------------+--------+-----------------+------------+\n",
            "|lobster_id|         species|catch_date|length_cm|weight_grams|carapace_length_cm|  grade|shell_condition|catch_method|fisher_id|vessel_id|fishing_ground_id|market_price_per_kg|is_alive|inspection_passed|export_ready|\n",
            "+----------+----------------+----------+---------+------------+------------------+-------+---------------+------------+---------+---------+-----------------+-------------------+--------+-----------------+------------+\n",
            "|  LOB00001|American Lobster| 10/5/2023|    15.75|       557.5|             10.23|Grade A|     Hard Shell|Hand Picking|   FSH005|   VSL002|            FG003|              37.03|    true|             true|       false|\n",
            "|  LOB00002|European Lobster|  8/9/2024|    28.48|       561.6|             16.69|Grade B|    Paper Shell|    Trawling|   FSH036|   VSL010|            FG007|              77.65|   false|             true|        true|\n",
            "|  LOB00003|    Rock Lobster| 10/8/2023|     17.9|      1301.7|             14.04|Grade A|    Paper Shell|        Trap|   FSH049|   VSL006|            FG018|              41.12|   false|             true|        true|\n",
            "|  LOB00004|American Lobster|10/25/2024|    34.84|      1205.0|             17.85|Grade B|     Hard Shell|Hand Picking|   FSH036|   VSL030|            FG021|              70.88|    true|            false|       false|\n",
            "|  LOB00005|European Lobster| 9/22/2024|    35.11|      1112.4|             14.84|Grade A|     Soft Shell|      Diving|   FSH021|   VSL030|            FG013|              39.85|    true|            false|        true|\n",
            "|  LOB00006|European Lobster| 1/26/2024|    39.65|      1246.6|             12.01|Grade A|     Soft Shell|    Trawling|   FSH028|   VSL042|            FG016|              46.76|   false|             true|       false|\n",
            "|  LOB00007|European Lobster| 12/1/2024|     22.4|       929.8|             10.63| Reject|    Paper Shell|    Trawling|   FSH029|   VSL009|            FG017|              52.14|    true|             true|        true|\n",
            "|  LOB00008|European Lobster| 2/24/2024|    38.76|       748.8|              8.64| Reject|    Paper Shell|    Trawling|   FSH071|   VSL001|            FG022|              64.64|   false|            false|        true|\n",
            "|  LOB00009|   Spiny Lobster| 8/10/2024|    28.04|       789.8|             17.54|Grade C|     Soft Shell|        Trap|   FSH081|   VSL020|            FG021|              52.92|    true|             true|       false|\n",
            "|  LOB00010|European Lobster| 4/15/2025|    31.18|      1212.2|              13.3|Grade A|         Peeler|Hand Picking|   FSH003|   VSL008|            FG012|              73.33|   false|             true|        true|\n",
            "|  LOB00011|European Lobster| 1/26/2024|    41.34|      1431.0|              8.86| Reject|     Hard Shell|      Diving|   FSH017|   VSL043|            FG016|              77.08|    true|            false|       false|\n",
            "|  LOB00012|European Lobster| 10/9/2023|    42.87|      1181.8|              14.9|Grade C|    Paper Shell|    Trawling|   FSH057|   VSL034|            FG015|              31.66|    true|             true|       false|\n",
            "|  LOB00013|American Lobster| 11/8/2024|    32.65|       499.1|              10.2|Grade A|     Hard Shell|      Diving|   FSH009|   VSL003|            FG011|               28.9|    true|            false|       false|\n",
            "|  LOB00014|European Lobster| 9/26/2024|    31.18|      1140.4|             16.82| Reject|     Soft Shell|Hand Picking|   FSH053|   VSL013|            FG004|              30.33|   false|            false|       false|\n",
            "|  LOB00015|    Rock Lobster| 8/11/2023|    29.01|      1147.8|             14.73|Grade A|     Hard Shell|Hand Picking|   FSH094|   VSL022|            FG004|              38.68|    true|            false|        true|\n",
            "|  LOB00016|    Rock Lobster|10/19/2024|     20.5|       801.4|             16.74|Grade A|        Unknown|        Trap|   FSH007|   VSL042|            FG018|              70.98|    true|             true|        true|\n",
            "|  LOB00017|    Rock Lobster|10/24/2023|    29.57|       477.9|             12.01|Grade A|     Soft Shell|Hand Picking|   FSH001|   VSL025|            FG009|              75.96|   false|            false|       false|\n",
            "|  LOB00018| Slipper Lobster|10/24/2023|    34.86|       832.7|               9.9|Grade B|     Hard Shell|        Trap|   FSH096|   VSL021|            FG002|              27.76|   false|             true|        true|\n",
            "|  LOB00019| Slipper Lobster| 10/8/2023|     17.4|       441.6|             13.95|Grade B|    Paper Shell|        Trap|   FSH073|   VSL016|            FG019|               57.7|    true|            false|       false|\n",
            "|  LOB00020|   Spiny Lobster| 3/19/2024|    21.13|      1131.0|             10.39| Reject|     Soft Shell|    Trawling|   FSH059|   VSL021|            FG025|              76.47|    true|            false|        true|\n",
            "+----------+----------------+----------+---------+------------+------------------+-------+---------------+------------+---------+---------+-----------------+-------------------+--------+-----------------+------------+\n",
            "only showing top 20 rows\n",
            "\n"
          ]
        }
      ]
    },
    {
      "cell_type": "code",
      "source": [
        "# 1. Cek missing values kembali untuk memastikan dataset sudah clean\n",
        "from pyspark.sql.functions import col, sum\n",
        "\n",
        "missing_values = df_lobster.select([sum(col(c).isNull().cast(\"int\")).alias(c) for c in df_lobster.columns])\n",
        "missing_values.show()"
      ],
      "metadata": {
        "colab": {
          "base_uri": "https://localhost:8080/"
        },
        "id": "kQwc6p3Braux",
        "outputId": "54caa226-4224-4707-bf81-3e5f926b16e6"
      },
      "execution_count": null,
      "outputs": [
        {
          "output_type": "stream",
          "name": "stdout",
          "text": [
            "+----------+-------+----------+---------+------------+------------------+-----+---------------+------------+---------+---------+-----------------+-------------------+--------+-----------------+------------+\n",
            "|lobster_id|species|catch_date|length_cm|weight_grams|carapace_length_cm|grade|shell_condition|catch_method|fisher_id|vessel_id|fishing_ground_id|market_price_per_kg|is_alive|inspection_passed|export_ready|\n",
            "+----------+-------+----------+---------+------------+------------------+-----+---------------+------------+---------+---------+-----------------+-------------------+--------+-----------------+------------+\n",
            "|         0|      0|         0|        0|           0|                 0|    0|              0|           0|        0|        0|                0|                  0|       0|                0|           0|\n",
            "+----------+-------+----------+---------+------------+------------------+-----+---------------+------------+---------+---------+-----------------+-------------------+--------+-----------------+------------+\n",
            "\n"
          ]
        }
      ]
    },
    {
      "cell_type": "markdown",
      "source": [
        "# Dataset kedua"
      ],
      "metadata": {
        "id": "goK5Kx2IIlAe"
      }
    },
    {
      "cell_type": "code",
      "source": [
        "# Untuk CSV\n",
        "df_lobster_fisher = df_lobster_fisher = spark.read.option(\"header\", \"true\") \\\n",
        "                               .option(\"inferSchema\", \"true\") \\\n",
        "                               .option(\"multiLine\", \"true\") \\\n",
        "                               .option(\"quote\", '\"') \\\n",
        "                               .option(\"escape\", '\"') \\\n",
        "                               .option(\"mode\", \"PERMISSIVE\") \\\n",
        "                               .csv(\"lobster_fishers_dataset.csv\")\n",
        "df_lobster_fisher.show()"
      ],
      "metadata": {
        "colab": {
          "base_uri": "https://localhost:8080/"
        },
        "id": "Tp77D--aElSB",
        "outputId": "1652db0f-853b-4839-fb96-33d469802462"
      },
      "execution_count": null,
      "outputs": [
        {
          "output_type": "stream",
          "name": "stdout",
          "text": [
            "+---------+-----------------+--------------+--------------------+--------------------+------------+--------------------+--------------------+----------------+--------------+------------+---------+---------------+---------------------+\n",
            "|fisher_id|      fisher_name|license_number|             address|                city|       state|               phone|               email|experience_years|license_expiry|vessel_owner|crew_size|annual_quota_kg|total_catch_this_year|\n",
            "+---------+-----------------+--------------+--------------------+--------------------+------------+--------------------+--------------------+----------------+--------------+------------+---------+---------------+---------------------+\n",
            "|   FSH001|  Courtney Harris|      LIC31125|624 Samantha Aven...|          Port Robin|   Minnesota|     +1-416-342-6015|hamiltoncassandra...|               1|    2027-01-10|        true|        8|           1329|                 2819|\n",
            "|   FSH002|       Jade Banks|      LIC17002|Unit 4378 Box 757...|             Boydton|       Maine|  899-786-5212x51162|castroian@example...|              29|    2026-06-06|       false|        4|           1558|                 4363|\n",
            "|   FSH003|      Julie Smith|      LIC23718|PSC 6720, Box 576...|          Ortizhaven|    Delaware|          9266691811|gregory22@example...|              13|    2026-08-14|        true|        1|           4194|                 1600|\n",
            "|   FSH004|    Kayla Holland|      LIC68484|4458 Hodges Knoll...|   North Luisborough|   Minnesota|  (891)496-3935x8898| james28@example.org|               9|    2025-08-31|       false|        8|           2131|                 2758|\n",
            "|   FSH005|     Keith Miller|      LIC31000|74293 Jessica Fal...|          West David|    Illinois|   454-659-2473x8532| lfranco@example.net|              16|    2026-02-18|        true|        7|           4098|                 3631|\n",
            "|   FSH006|      Laura Lopez|      LIC23420|74918 Douglas Sta...|      Lake Kevinfurt|North Dakota|     +1-988-504-0991|   druiz@example.com|              11|    2027-01-10|       false|        2|           4206|                 3405|\n",
            "|   FSH007|      Bruce Brown|      LIC97752|5787 Mclaughlin V...|         Allisonside|    Colorado|        380-762-7748|  adam46@example.net|              27|    2026-07-23|        true|        4|           4311|                 2808|\n",
            "|   FSH008|  Kristen Goodwin|      LIC94065|920 Sherry Gatewa...|            Josefort|    Illinois|  (840)817-9974x9327|kaitlyncherry@exa...|              12|    2027-01-28|        true|        3|           2676|                 1728|\n",
            "|   FSH009|   Joshua Mathews|      LIC28293|4259 Lane Course ...|   New Christinaberg|    New York|+1-698-813-7008x6557|ronaldcollins@exa...|              17|    2027-01-25|        true|        4|           2786|                 4110|\n",
            "|   FSH010|  Bradley Mueller|      LIC77939|Unit 9742 Box 806...|   West Michellefurt|      Oregon|       (954)671-4721|   xking@example.net|              20|    2026-06-24|       false|        1|           4963|                 3419|\n",
            "|   FSH011|     George Smith|      LIC32027|75588 Brandon Sky...|South Allisonchester|    Illinois|001-270-282-7379x...|zoesmall@example.org|              14|    2026-03-29|       false|        6|            989|                 2570|\n",
            "|   FSH012|   Melissa Carter|      LIC69083|72458 Kerry Shoal...|         Rebeccabury|    Nebraska|    259.861.5771x313|thompsonstephanie...|              33|    2026-04-19|        true|        8|           4763|                 2132|\n",
            "|   FSH013| Jeffery Davidson|      LIC15446|625 Lee Garden Ap...|       Port Kristine|        Iowa|001-815-776-9748x...|thomas48@example.com|              37|    2025-12-03|       false|        3|           3659|                 2072|\n",
            "|   FSH014| Nicholas Richard|      LIC84351|8459 Perez Walks\\...|         North David|       Maine|001-766-239-1603x168| tracy07@example.net|              31|    2025-07-02|       false|        2|           4034|                 3420|\n",
            "|   FSH015|   Zachary Mcneil|      LIC10462|PSC 0998, Box 084...|           Port Lisa|    Virginia|     +1-225-484-2912|jesseharris@examp...|              37|    2025-07-29|        true|        4|           2657|                  729|\n",
            "|   FSH016| Jennifer Schmidt|      LIC19570|6290 Bradley Cany...|    East Thomasshire|South Dakota|    640-697-5459x493|williamhoward@exa...|              38|    2027-02-04|        true|        7|           1751|                 2772|\n",
            "|   FSH017|  Jennifer Rivers|      LIC15847|405 Blackburn For...|          Jeremyland|    Arkansas|001-214-355-1456x...|virginia50@exampl...|              15|    2027-02-02|       false|        4|           1441|                 2232|\n",
            "|   FSH018|  Jessica Johnson|      LIC91542|042 Daniels Cape ...|  North Anthonymouth|       Idaho|    294.671.6660x542|hayesbryan@exampl...|               5|    2026-02-12|       false|        4|           4117|                  270|\n",
            "|   FSH019|Jonathan Santiago|      LIC46823|66950 Shannon Har...|   New Michellemouth|  California|  (665)931-9235x4761| ningram@example.com|               2|    2026-11-21|       false|        3|           3577|                 4120|\n",
            "|   FSH020| Charles Davidson|      LIC79777|8191 Hill Prairie...|    South Sandrastad|   Tennessee|+1-832-855-3750x7840|  msmith@example.net|               3|    2026-08-03|       false|        1|           2736|                  908|\n",
            "+---------+-----------------+--------------+--------------------+--------------------+------------+--------------------+--------------------+----------------+--------------+------------+---------+---------------+---------------------+\n",
            "only showing top 20 rows\n",
            "\n"
          ]
        }
      ]
    },
    {
      "cell_type": "markdown",
      "source": [
        "# Dataset ke 3"
      ],
      "metadata": {
        "id": "QCXdPmYLJc13"
      }
    },
    {
      "cell_type": "code",
      "source": [
        "df_lobster_fishing_grounds = spark.read.option(\"header\", \"true\").option(\"inferSchema\", \"true\").csv(\"lobster_fishing_grounds_dataset.csv\")\n",
        "df_lobster_fishing_grounds.show()"
      ],
      "metadata": {
        "colab": {
          "base_uri": "https://localhost:8080/"
        },
        "id": "IYBRBLA8IhEs",
        "outputId": "583d0d68-d401-48bb-98d2-bdde78a81df0"
      },
      "execution_count": null,
      "outputs": [
        {
          "output_type": "stream",
          "name": "stdout",
          "text": [
            "+-----------------+--------------------+---------+----------+------------------+-----------------+---------------------+------------------------+----------------+--------------+----------------------+-----------+----------------+--------------------+\n",
            "|fishing_ground_id|         ground_name| latitude| longitude|water_depth_meters|       water_type|average_temperature_c|lobster_density_per_sqkm|seasonal_closure|protected_area|distance_from_shore_km|bottom_type|current_strength|accessibility_rating|\n",
            "+-----------------+--------------------+---------+----------+------------------+-----------------+---------------------+------------------------+----------------+--------------+----------------------+-----------+----------------+--------------------+\n",
            "|            FG001|     Bobbyland Ridge|41.093432|-74.396275|                53|       Deep Water|                  8.6|                     285|           false|         false|                  31.6|      Rocky|            Weak|                   8|\n",
            "|            FG002| Lake Amberton Ridge|37.909529|-68.968687|                46|          Coastal|                 15.9|                     358|           false|         false|                  63.6|      Mixed|          Strong|                   8|\n",
            "|            FG003|  Lake Melissa Ridge|43.151354|-70.060466|               186|       Deep Water|                  8.5|                     417|            true|         false|                  59.9|      Rocky|        Moderate|                   2|\n",
            "|            FG004| Morenoborough Ridge|44.937554|-71.608866|                65|     Sandy Bottom|                 16.0|                     266|           false|          true|                  20.1|      Sandy|          Strong|                   7|\n",
            "|            FG005|North Brandiberg ...|35.569966|-72.575325|                31|          Coastal|                 17.9|                     333|           false|          true|                  94.2|      Mixed|        Moderate|                   3|\n",
            "|            FG006|   West Ashley Shelf|37.701107|-68.981238|               192|          Coastal|                 14.3|                     299|           false|         false|                  43.3|      Rocky|            Weak|                   6|\n",
            "|            FG007|    Keychester Shelf|41.234383|-73.786059|               183|       Deep Water|                 13.6|                     201|            true|          true|                  47.1|      Mixed|          Strong|                   5|\n",
            "|            FG008|   Justinstad Ground|  43.2841|-67.726324|                85|       Deep Water|                 16.6|                     173|            true|         false|                   6.8|      Sandy|            Weak|                   3|\n",
            "|            FG009|Port Pamelaland S...|43.064806|-65.171953|                64|          Coastal|                 11.0|                      57|            true|         false|                   7.8|      Mixed|        Moderate|                   1|\n",
            "|            FG010|   South Brent Banks|35.774054|-66.967428|                96|     Rocky Bottom|                 10.0|                     146|            true|         false|                  54.5|      Sandy|            Weak|                   3|\n",
            "|            FG011|South Johnathansi...|42.409871|-70.202806|               120|       Deep Water|                 10.4|                     159|           false|          true|                  87.5|      Rocky|            Weak|                   6|\n",
            "|            FG012|   Michaelbury Banks|39.214566| -69.61368|                26|Continental Shelf|                 11.0|                     120|           false|         false|                  62.6|      Mixed|        Moderate|                   2|\n",
            "|            FG013|      Joshuaton Area|35.973523|-70.581948|                41|          Coastal|                 11.8|                     327|            true|         false|                  45.3|      Rocky|            Weak|                   3|\n",
            "|            FG014|     Georgeview Area|44.419912|-67.905033|                83|Continental Shelf|                 16.0|                     120|           false|         false|                  21.0|      Rocky|        Moderate|                   6|\n",
            "|            FG015|   New Thomas Ground|38.604152|-65.333126|               160|          Coastal|                 10.7|                     114|           false|         false|                  48.4|      Mixed|          Strong|                   5|\n",
            "|            FG016|    East Donna Ridge|40.442365| -67.18777|                75|     Sandy Bottom|                 10.0|                     145|           false|         false|                  74.4|      Muddy|        Moderate|                   5|\n",
            "|            FG017|   New Melissa Banks|45.446216|-69.982816|               143|          Coastal|                 14.3|                     169|           false|          true|                  94.3|      Rocky|            Weak|                   1|\n",
            "|            FG018|  Mckinneyport Shelf|42.243998|-71.638338|               177|     Sandy Bottom|                 17.9|                     219|            true|          true|                  23.6|      Sandy|        Moderate|                   3|\n",
            "|            FG019|West Brittanyches...|45.140069|-70.941468|                27|     Rocky Bottom|                  9.7|                      75|            true|          true|                  87.1|      Mixed|            Weak|                   2|\n",
            "|            FG020|  Randallmouth Ridge|40.551138|-73.466709|               133|Continental Shelf|                 10.8|                     416|           false|         false|                  18.5|      Mixed|            Weak|                   2|\n",
            "+-----------------+--------------------+---------+----------+------------------+-----------------+---------------------+------------------------+----------------+--------------+----------------------+-----------+----------------+--------------------+\n",
            "only showing top 20 rows\n",
            "\n"
          ]
        }
      ]
    },
    {
      "cell_type": "markdown",
      "source": [
        "# Dataset ke 4"
      ],
      "metadata": {
        "id": "qmpKePatJwIz"
      }
    },
    {
      "cell_type": "code",
      "source": [
        "df_lobster_market_sales_dataset=spark.read.option(\"header\", \"true\").option(\"inferSchema\", \"true\").csv(\"lobster_market_sales_dataset.csv\")\n",
        "df_lobster_market_sales_dataset.show()"
      ],
      "metadata": {
        "colab": {
          "base_uri": "https://localhost:8080/"
        },
        "id": "e99-Wh2rJ7NB",
        "outputId": "016f1534-18c3-41d5-99b0-4040f738cc6e"
      },
      "execution_count": null,
      "outputs": [
        {
          "output_type": "stream",
          "name": "stdout",
          "text": [
            "+---------+----------+----------+-------------------+---------------+----------------+------------+--------------+------------------+-------------+--------------------+---------------+------------------+-------------------+\n",
            "|  sale_id|lobster_id| sale_date|         buyer_name|   sale_channel|quantity_sold_kg|price_per_kg|transport_cost|commission_percent|payment_terms|   delivery_location|customer_rating|  total_sale_value|         net_profit|\n",
            "+---------+----------+----------+-------------------+---------------+----------------+------------+--------------+------------------+-------------+--------------------+---------------+------------------+-------------------+\n",
            "|SALE00001|  LOB08396|2025-04-16|   Seafood Market A|        Auction|            1.22|       40.31|         20.78|              12.9|       Net 30|          Port Shawn|              5|49.178200000000004| 22.054212200000002|\n",
            "|SALE00002|  LOB07364|2025-02-27| Restaurant Chain B|    Direct Sale|             1.2|       51.76|         25.33|              14.3|          COD|            Daleland|              2|62.111999999999995| 27.899983999999996|\n",
            "|SALE00003|  LOB03073|2024-10-22|   Seafood Market A|Online Platform|            0.21|       65.89|         16.38|               5.2|         Cash|  Port Christinabury|              1|           13.8369| -3.262618799999999|\n",
            "|SALE00004|  LOB02930|2024-11-15| Processing Plant E|       Contract|            0.55|       38.21|         46.45|              11.7|       Net 30|        Williamshire|              2|21.015500000000003|        -27.8933135|\n",
            "|SALE00005|  LOB02422|2024-11-07| Restaurant Chain B|Online Platform|            1.41|        51.0|         42.59|              10.1|          COD|     North Christine|              1|             71.91| 22.057089999999995|\n",
            "|SALE00006|  LOB04129|2024-08-25| Restaurant Chain B|        Auction|            1.05|       31.59|          43.4|               7.7|          COD|           Jonesport|              5|           33.1695|        -12.7845515|\n",
            "|SALE00007|  LOB04638|2024-12-13|Local Distributor D|       Contract|            1.05|       33.07|         47.29|              12.3|         Cash|   North Leslieville|              4|           34.7235|-16.837490499999998|\n",
            "|SALE00008|  LOB07877|2024-08-31|Local Distributor D|        Auction|            1.19|       68.84|         22.87|               8.8|          COD|           Alanmouth|              4|           81.9196|         51.8406752|\n",
            "|SALE00009|  LOB08779|2024-09-08|   Export Company C|       Contract|            0.98|       38.67|         23.24|               9.9|         Cash|           Rioshaven|              3|           37.8966| 10.904836600000001|\n",
            "|SALE00010|  LOB08294|2025-01-24|Local Distributor D|        Auction|            0.98|        78.8|          36.0|               9.1|          COD|Port Christopherfurt|              3| 77.22399999999999|  34.19661599999999|\n",
            "|SALE00011|  LOB04701|2024-08-06| Restaurant Chain B|Online Platform|            0.75|        82.6|         17.56|              11.8|       Net 30|         Lake Joshua|              3|61.949999999999996|            37.0799|\n",
            "|SALE00012|  LOB04359|2024-11-28|   Seafood Market A|       Contract|            0.75|       48.34|         23.25|               7.6|       Net 30|         Richardland|              3|            36.255| 10.249620000000002|\n",
            "|SALE00013|  LOB07109|2024-07-21|Local Distributor D|       Contract|            1.41|       74.69|         49.77|              14.2|          COD|          Jesseshire|              2|105.31289999999998|  40.58846819999998|\n",
            "|SALE00014|  LOB09274|2024-08-20| Restaurant Chain B|Online Platform|            0.54|       38.24|         19.01|              10.8|         Cash|             Johnton|              3|20.649600000000003| -0.590556799999999|\n",
            "|SALE00015|  LOB06474|2025-01-27| Processing Plant E|    Direct Sale|            0.41|       39.29|          9.43|               5.9|       Net 30|          Meganmouth|              2|           16.1089|  5.728474899999998|\n",
            "|SALE00016|  LOB07983|2024-08-27| Processing Plant E|       Contract|            1.05|       78.74|          6.94|               8.9|       Net 30|           Kellyfort|              2| 82.67699999999999|  68.37874699999999|\n",
            "|SALE00017|  LOB03660|2024-08-28|   Seafood Market A|        Auction|            1.41|        42.5|         28.69|              11.2|          COD|         Woodchester|              4|            59.925| 24.523399999999995|\n",
            "|SALE00018|  LOB00377|2025-02-03|Local Distributor D|        Auction|             1.1|       38.18|         31.26|               7.9|          COD|   South Valerietown|              5|41.998000000000005| 7.4201580000000025|\n",
            "|SALE00019|  LOB08834|2024-11-05| Processing Plant E|        Auction|            1.31|       63.31|         34.97|               7.8|         Cash|           West Carl|              1| 82.93610000000001|  41.49708420000001|\n",
            "|SALE00020|  LOB03069|2025-05-27| Processing Plant E|Online Platform|            0.39|        36.4|         10.18|              14.3|       Net 15|     Port Hannahstad|              1|            14.196| 1.9859719999999998|\n",
            "+---------+----------+----------+-------------------+---------------+----------------+------------+--------------+------------------+-------------+--------------------+---------------+------------------+-------------------+\n",
            "only showing top 20 rows\n",
            "\n"
          ]
        }
      ]
    },
    {
      "cell_type": "markdown",
      "source": [
        "# Dataset ke 5"
      ],
      "metadata": {
        "id": "0PyXOCbqKS4J"
      }
    },
    {
      "cell_type": "code",
      "source": [
        "lobster_quality_inspections=df_lobster_quality_inspections=spark.read.option(\"header\", \"true\").option(\"inferSchema\", \"true\").csv(\"lobster_quality_inspections_dataset.csv\")\n",
        "lobster_quality_inspections.show()"
      ],
      "metadata": {
        "colab": {
          "base_uri": "https://localhost:8080/"
        },
        "id": "rCmdtkVjKrOP",
        "outputId": "0ed176bd-0c52-47ee-94c9-51fd808078f7"
      },
      "execution_count": null,
      "outputs": [
        {
          "output_type": "stream",
          "name": "stdout",
          "text": [
            "+-------------+----------+---------------+--------------+-----------------+---------------+---------------+--------------+--------------+------------------+----------------+---------------+------------------+--------------------+\n",
            "|inspection_id|lobster_id|inspection_date|inspector_name|visual_inspection|size_compliance|shell_integrity|  meat_quality|parasite_check|contamination_test|  overall_result|inspection_cost|certificate_issued|               notes|\n",
            "+-------------+----------+---------------+--------------+-----------------+---------------+---------------+--------------+--------------+------------------+----------------+---------------+------------------+--------------------+\n",
            "|     INS00001|  LOB09664|     2025-01-20|  Sarah Wilson|  Retest Required|          false|           Poor|Below Standard|   Significant|          Positive|Conditional Pass|           19.1|             false|Somebody compare ...|\n",
            "|     INS00002|  LOB00866|     2025-01-05|  Sarah Wilson|  Retest Required|          false|           Fair|       Premium|         Minor|          Positive|            Fail|          23.98|              true|Develop happen pl...|\n",
            "|     INS00003|  LOB05862|     2025-05-27| Michael Brown|             Fail|           true|           Fair|      Standard|         Minor|          Positive| Retest Required|           23.4|             false|Mother necessary ...|\n",
            "|     INS00004|  LOB00044|     2025-03-09|  Sarah Wilson| Conditional Pass|          false|           Poor|      Standard|         Clear|          Negative|Conditional Pass|          15.31|             false|Participant espec...|\n",
            "|     INS00005|  LOB01462|     2025-02-12|    John Smith|  Retest Required|          false|           Poor|      Standard|         Clear|          Negative|            Fail|          20.98|              true|Way relate stay a...|\n",
            "|     INS00006|  LOB02080|     2025-05-24| Michael Brown|             Pass|           true|           Good|Below Standard|         Minor|          Negative|Conditional Pass|          23.23|             false|Thing follow Mr c...|\n",
            "|     INS00007|  LOB00135|     2025-03-28|    John Smith|             Fail|          false|           Fair|Below Standard|   Significant|          Negative| Retest Required|          24.39|             false|Single real relat...|\n",
            "|     INS00008|  LOB05380|     2025-03-02| David Johnson|  Retest Required|           true|           Fair|      Standard|   Significant|          Negative| Retest Required|          23.86|             false|Moment apply road...|\n",
            "|     INS00009|  LOB03331|     2025-03-08| David Johnson|             Pass|          false|           Fair|Below Standard|   Significant|          Positive|            Fail|          23.58|             false|American whom sta...|\n",
            "|     INS00010|  LOB07860|     2025-04-25|  Maria Garcia| Conditional Pass|           true|           Fair|      Standard|         Minor|          Positive|Conditional Pass|           10.9|              true|Feeling new move ...|\n",
            "|     INS00011|  LOB05151|     2025-04-30| David Johnson|  Retest Required|           true|           Poor|      Standard|         Clear|          Positive|            Fail|          14.63|              true|House skin simply...|\n",
            "|     INS00012|  LOB01067|     2025-05-24| David Johnson| Conditional Pass|           true|           Fair|      Standard|         Minor|          Positive|Conditional Pass|           12.8|              true|Free list rest tu...|\n",
            "|     INS00013|  LOB01577|     2025-01-29| Michael Brown|  Retest Required|           true|      Excellent|Below Standard|   Significant|          Positive| Retest Required|          13.83|             false|Strategy exist fi...|\n",
            "|     INS00014|  LOB09737|     2025-01-31|  Sarah Wilson| Conditional Pass|           true|           Good|Below Standard|         Minor|          Negative|            Fail|           9.58|             false|Question nation a...|\n",
            "|     INS00015|  LOB09896|     2025-04-06| David Johnson| Conditional Pass|          false|           Poor|Below Standard|         Minor|          Positive| Retest Required|          19.69|             false|Player clearly pe...|\n",
            "|     INS00016|  LOB06592|     2025-04-18| Michael Brown|  Retest Required|          false|           Good|      Standard|         Clear|          Negative|Conditional Pass|           6.92|              true|Floor never subje...|\n",
            "|     INS00017|  LOB00975|     2025-03-26| David Johnson|             Fail|          false|      Excellent|Below Standard|         Minor|          Positive|            Pass|          20.94|             false|Future represent ...|\n",
            "|     INS00018|  LOB03763|     2025-01-14| Michael Brown| Conditional Pass|          false|           Fair|      Standard|         Minor|          Positive| Retest Required|          14.66|              true|Usually avoid num...|\n",
            "|     INS00019|  LOB07166|     2025-04-01|    John Smith| Conditional Pass|           true|           Good|      Standard|         Minor|          Negative|            Fail|           15.2|              true|Live new to actio...|\n",
            "|     INS00020|  LOB09954|     2025-05-28| David Johnson| Conditional Pass|           true|           Good|Below Standard|         Clear|          Positive|            Pass|          23.66|             false|Would consumer st...|\n",
            "+-------------+----------+---------------+--------------+-----------------+---------------+---------------+--------------+--------------+------------------+----------------+---------------+------------------+--------------------+\n",
            "only showing top 20 rows\n",
            "\n"
          ]
        }
      ]
    },
    {
      "cell_type": "markdown",
      "source": [
        "# Dataset ke 6"
      ],
      "metadata": {
        "id": "FY3rC1X1n15p"
      }
    },
    {
      "cell_type": "code",
      "source": [
        "lobster_vessels_dataset=spark.read.option(\"header\", \"true\").option(\"inferSchema\", \"true\").csv(\"lobster_vessels_dataset.csv\")\n",
        "lobster_vessels_dataset.show()"
      ],
      "metadata": {
        "colab": {
          "base_uri": "https://localhost:8080/"
        },
        "id": "YjU4rtian1I5",
        "outputId": "0c6c4746-3b40-4615-92ca-449988340d1a"
      },
      "execution_count": null,
      "outputs": [
        {
          "output_type": "stream",
          "name": "stdout",
          "text": [
            "+---------+--------------------+---------------+-----------+---------+-------------+-----------------+---------------------+-------------+----------+-----------------+-------------------+---------------+------------+--------------+\n",
            "|vessel_id|         vessel_name|    vessel_type|length_feet|beam_feet|hull_material|engine_horsepower|fuel_capacity_gallons|crew_capacity|built_year|        home_port|registration_number|insurance_value|gps_equipped|sonar_equipped|\n",
            "+---------+--------------------+---------------+-----------+---------+-------------+-----------------+---------------------+-------------+----------+-----------------+-------------------+---------------+------------+--------------+\n",
            "|   VSL001|Campbell, Young a...|Offshore Vessel|         56|       25|   Fiberglass|             1259|                 1687|           12|      2013|    Lake Victoria|            REG5146|        1445654|       false|          true|\n",
            "|   VSL002|Hamilton-Osborne ...|Offshore Vessel|        112|       19|     Aluminum|             1450|                  833|            7|      2018|   West Johnmouth|            REG2268|         238090|        true|         false|\n",
            "|   VSL003|Ramirez, Owens an...|   Lobster Boat|        119|        9|         Wood|             1183|                  277|            9|      2002|        Simonview|            REG4131|         994619|       false|         false|\n",
            "|   VSL004|  English Ltd Seeker|   Lobster Boat|         77|       10|   Fiberglass|              743|                 1561|            5|      2013| New Rebekahmouth|            REG5759|         911615|        true|         false|\n",
            "|   VSL005|Whitaker, Montoya...|   Lobster Boat|         88|       22|   Fiberglass|              556|                 1266|           10|      2000|  Port Gracemouth|            REG3407|         406909|       false|         false|\n",
            "|   VSL006| Pacheco Ltd Catcher|       Day Boat|         61|       14|     Aluminum|              826|                  755|            9|      2010|       Jamesburgh|            REG7759|        1098526|       false|         false|\n",
            "|   VSL007| Love-Bates Explorer|       Day Boat|         54|        9|     Aluminum|             1428|                 1100|            5|      2012|East Michelleport|            REG2982|        1997014|       false|         false|\n",
            "|   VSL008|Anderson, Carter ...|Offshore Vessel|         35|       10|   Fiberglass|              878|                 1817|            6|      2017|     East Jessica|            REG5388|        1032273|        true|          true|\n",
            "|   VSL009|Ibarra Group Expl...|       Day Boat|         71|       13|         Wood|              976|                 1300|            6|      1997| North Haleymouth|            REG6518|         345534|        true|          true|\n",
            "|   VSL010|Horton and Sons E...|       Day Boat|         63|       15|   Fiberglass|             1054|                  407|            4|      1994|      Triciamouth|            REG6850|        1805959|       false|         false|\n",
            "|   VSL011|Pope, Cook and Ro...|        Trawler|         90|        8|     Aluminum|              465|                  522|            6|      2001|     North Ashley|            REG8971|         461330|       false|          true|\n",
            "|   VSL012|Frey, Barnes and ...|   Lobster Boat|         82|       11|        Steel|             1472|                 1803|            6|      2002|       Dannyhaven|            REG1997|         370359|       false|          true|\n",
            "|   VSL013|Edwards, Elliott ...|   Lobster Boat|         61|       12|     Aluminum|              783|                  153|            6|      1982|      Timothyport|            REG1609|         106319|       false|          true|\n",
            "|   VSL014|   Pope PLC Explorer|       Day Boat|         79|       11|         Wood|              825|                  674|           10|      1985|       Wattsmouth|            REG8268|         290678|       false|         false|\n",
            "|   VSL015|     Hall Inc Hunter|        Trawler|        117|       10|     Aluminum|             1162|                 1178|            5|      1988|   Port Stephanie|            REG4640|        1414290|        true|         false|\n",
            "|   VSL016|Bryant, Myers and...|   Lobster Boat|         25|        9|        Steel|             1195|                 1797|            9|      2009|    West Danaport|            REG2818|        1177417|       false|         false|\n",
            "|   VSL017|Erickson Group Ca...|   Lobster Boat|         82|       15|     Aluminum|             1087|                  841|            7|      2018|     Johnsonmouth|            REG5422|         404123|       false|         false|\n",
            "|   VSL018| Torres LLC Explorer|   Lobster Boat|         34|       25|     Aluminum|              759|                 1482|            8|      1991|         Bushland|            REG7700|        1736386|       false|          true|\n",
            "|   VSL019|Clark, Alvarez an...|       Day Boat|         44|        8|         Wood|             1432|                  303|           12|      2023|      Cynthiafort|            REG7872|        1473687|        true|         false|\n",
            "|   VSL020|Carr and Sons Hunter|        Trawler|         64|        8|   Fiberglass|             1116|                  559|            3|      2019|       Kiaraburgh|            REG4116|        1318949|       false|         false|\n",
            "+---------+--------------------+---------------+-----------+---------+-------------+-----------------+---------------------+-------------+----------+-----------------+-------------------+---------------+------------+--------------+\n",
            "only showing top 20 rows\n",
            "\n"
          ]
        }
      ]
    },
    {
      "cell_type": "markdown",
      "source": [
        "**Karena sebelumnya di pandas hanya dataset ke 1 yang memiliki dataset yang data kotor (null,duplikasi), jdi dapat dipastikan semua dataset siap di analisis**"
      ],
      "metadata": {
        "id": "TOEOtT6tr16F"
      }
    },
    {
      "cell_type": "markdown",
      "source": [
        "# INNER JOIN DATASET 1 DAN 2"
      ],
      "metadata": {
        "id": "vDOdZG3IuYSM"
      }
    },
    {
      "cell_type": "code",
      "source": [
        "# Inner Join berdasarkan kolom 'fisher_id'\n",
        "joined_df = df_lobster.join(df_lobster_fisher, on=\"fisher_id\", how=\"inner\")\n",
        "\n",
        "# Tampilkan hasil\n",
        "joined_df.show()\n"
      ],
      "metadata": {
        "colab": {
          "base_uri": "https://localhost:8080/"
        },
        "id": "LEMIYSGdP5TB",
        "outputId": "6c18e453-53ea-4430-d0ea-9ce0157f1139"
      },
      "execution_count": null,
      "outputs": [
        {
          "output_type": "stream",
          "name": "stdout",
          "text": [
            "+---------+----------+----------------+----------+---------+------------+------------------+-------+---------------+------------+---------+-----------------+-------------------+--------+-----------------+------------+-----------------+--------------+--------------------+--------------------+--------------+--------------------+--------------------+----------------+--------------+------------+---------+---------------+---------------------+\n",
            "|fisher_id|lobster_id|         species|catch_date|length_cm|weight_grams|carapace_length_cm|  grade|shell_condition|catch_method|vessel_id|fishing_ground_id|market_price_per_kg|is_alive|inspection_passed|export_ready|      fisher_name|license_number|             address|                city|         state|               phone|               email|experience_years|license_expiry|vessel_owner|crew_size|annual_quota_kg|total_catch_this_year|\n",
            "+---------+----------+----------------+----------+---------+------------+------------------+-------+---------------+------------+---------+-----------------+-------------------+--------+-----------------+------------+-----------------+--------------+--------------------+--------------------+--------------+--------------------+--------------------+----------------+--------------+------------+---------+---------------+---------------------+\n",
            "|   FSH005|  LOB00001|American Lobster| 10/5/2023|    15.75|       557.5|             10.23|Grade A|     Hard Shell|Hand Picking|   VSL002|            FG003|              37.03|    true|             true|       false|     Keith Miller|      LIC31000|74293 Jessica Fal...|          West David|      Illinois|   454-659-2473x8532| lfranco@example.net|              16|    2026-02-18|        true|        7|           4098|                 3631|\n",
            "|   FSH036|  LOB00002|European Lobster|  8/9/2024|    28.48|       561.6|             16.69|Grade B|    Paper Shell|    Trawling|   VSL010|            FG007|              77.65|   false|             true|        true|     Timothy Hall|      LIC59702|3871 Vanessa Park...|North Deborahborough|      Virginia|  223.290.7348x93467|hfitzgerald@examp...|               3|    2026-11-04|       false|        6|           2767|                 1336|\n",
            "|   FSH049|  LOB00003|    Rock Lobster| 10/8/2023|     17.9|      1301.7|             14.04|Grade A|    Paper Shell|        Trap|   VSL006|            FG018|              41.12|   false|             true|        true|     Stacey Munoz|      LIC94788|9297 Phillip Vist...|        Stewartmouth|        Nevada|        930.423.8260| xgordon@example.com|              14|    2025-09-21|        true|        1|           1494|                 1095|\n",
            "|   FSH036|  LOB00004|American Lobster|10/25/2024|    34.84|      1205.0|             17.85|Grade B|     Hard Shell|Hand Picking|   VSL030|            FG021|              70.88|    true|            false|       false|     Timothy Hall|      LIC59702|3871 Vanessa Park...|North Deborahborough|      Virginia|  223.290.7348x93467|hfitzgerald@examp...|               3|    2026-11-04|       false|        6|           2767|                 1336|\n",
            "|   FSH021|  LOB00005|European Lobster| 9/22/2024|    35.11|      1112.4|             14.84|Grade A|     Soft Shell|      Diving|   VSL030|            FG013|              39.85|    true|            false|        true|    Erin Atkinson|      LIC15806|5722 Mueller Terr...|      North Jennifer|         Texas|    001-344-417-0544|kylealvarez@examp...|              10|    2025-12-19|        true|        7|           1087|                 1754|\n",
            "|   FSH028|  LOB00006|European Lobster| 1/26/2024|    39.65|      1246.6|             12.01|Grade A|     Soft Shell|    Trawling|   VSL042|            FG016|              46.76|   false|             true|       false|   Krystal Palmer|      LIC54809|3049 Mann Squares...|  West Jennifermouth|       Georgia|        478.287.1823| dylan46@example.com|              23|    2027-04-21|        true|        3|           1205|                  840|\n",
            "|   FSH029|  LOB00007|European Lobster| 12/1/2024|     22.4|       929.8|             10.63| Reject|    Paper Shell|    Trawling|   VSL009|            FG017|              52.14|    true|             true|        true|    Lauren Kramer|      LIC47022|830 Tucker Tunnel...|           East Paul|      New York|        679-496-2997| derek49@example.org|              29|    2025-12-17|       false|        3|           2092|                 1650|\n",
            "|   FSH071|  LOB00008|European Lobster| 2/24/2024|    38.76|       748.8|              8.64| Reject|    Paper Shell|    Trawling|   VSL001|            FG022|              64.64|   false|            false|        true|     Thomas Stone|      LIC94687|USNS Evans\\nFPO A...|          Andreafort|      Arkansas|  (781)839-4554x5051|danielle11@exampl...|              27|    2027-02-09|       false|        7|           4069|                 1921|\n",
            "|   FSH081|  LOB00009|   Spiny Lobster| 8/10/2024|    28.04|       789.8|             17.54|Grade C|     Soft Shell|        Trap|   VSL020|            FG021|              52.92|    true|             true|       false|       Tyler West|      LIC61415|1447 Brenda Garde...|     Port Brianville|       Vermont|   (342)207-4373x017|michaelrodriguez@...|              10|    2026-05-01|        true|        6|           3894|                 1161|\n",
            "|   FSH003|  LOB00010|European Lobster| 4/15/2025|    31.18|      1212.2|              13.3|Grade A|         Peeler|Hand Picking|   VSL008|            FG012|              73.33|   false|             true|        true|      Julie Smith|      LIC23718|PSC 6720, Box 576...|          Ortizhaven|      Delaware|          9266691811|gregory22@example...|              13|    2026-08-14|        true|        1|           4194|                 1600|\n",
            "|   FSH017|  LOB00011|European Lobster| 1/26/2024|    41.34|      1431.0|              8.86| Reject|     Hard Shell|      Diving|   VSL043|            FG016|              77.08|    true|            false|       false|  Jennifer Rivers|      LIC15847|405 Blackburn For...|          Jeremyland|      Arkansas|001-214-355-1456x...|virginia50@exampl...|              15|    2027-02-02|       false|        4|           1441|                 2232|\n",
            "|   FSH057|  LOB00012|European Lobster| 10/9/2023|    42.87|      1181.8|              14.9|Grade C|    Paper Shell|    Trawling|   VSL034|            FG015|              31.66|    true|             true|       false|   Logan Randolph|      LIC33067|02797 Mills Shore...|       Kathleenmouth|        Oregon|001-246-608-0294x265|  kclark@example.org|              28|    2025-09-10|       false|        6|           2347|                 3829|\n",
            "|   FSH009|  LOB00013|American Lobster| 11/8/2024|    32.65|       499.1|              10.2|Grade A|     Hard Shell|      Diving|   VSL003|            FG011|               28.9|    true|            false|       false|   Joshua Mathews|      LIC28293|4259 Lane Course ...|   New Christinaberg|      New York|+1-698-813-7008x6557|ronaldcollins@exa...|              17|    2027-01-25|        true|        4|           2786|                 4110|\n",
            "|   FSH053|  LOB00014|European Lobster| 9/26/2024|    31.18|      1140.4|             16.82| Reject|     Soft Shell|Hand Picking|   VSL013|            FG004|              30.33|   false|            false|       false|  Laura Blanchard|      LIC65632|87286 Theresa Pla...|         Harpershire|South Carolina|    438-541-7130x133|joshuajackson@exa...|              17|    2027-01-27|        true|        1|           4363|                  375|\n",
            "|   FSH094|  LOB00015|    Rock Lobster| 8/11/2023|    29.01|      1147.8|             14.73|Grade A|     Hard Shell|Hand Picking|   VSL022|            FG004|              38.68|    true|            false|        true|     Lisa Freeman|      LIC63799|5624 Cindy Brook\\...|           Jamesport|    New Mexico|+1-487-602-2743x0504|joseph47@example.com|              28|    2025-11-05|        true|        7|           3633|                 1183|\n",
            "|   FSH007|  LOB00016|    Rock Lobster|10/19/2024|     20.5|       801.4|             16.74|Grade A|        Unknown|        Trap|   VSL042|            FG018|              70.98|    true|             true|        true|      Bruce Brown|      LIC97752|5787 Mclaughlin V...|         Allisonside|      Colorado|        380-762-7748|  adam46@example.net|              27|    2026-07-23|        true|        4|           4311|                 2808|\n",
            "|   FSH001|  LOB00017|    Rock Lobster|10/24/2023|    29.57|       477.9|             12.01|Grade A|     Soft Shell|Hand Picking|   VSL025|            FG009|              75.96|   false|            false|       false|  Courtney Harris|      LIC31125|624 Samantha Aven...|          Port Robin|     Minnesota|     +1-416-342-6015|hamiltoncassandra...|               1|    2027-01-10|        true|        8|           1329|                 2819|\n",
            "|   FSH096|  LOB00018| Slipper Lobster|10/24/2023|    34.86|       832.7|               9.9|Grade B|     Hard Shell|        Trap|   VSL021|            FG002|              27.76|   false|             true|        true|      Kyle Nguyen|      LIC48437|3346 Fowler Orcha...|     Benjaminborough|      Missouri|       (253)946-0394|melanieallen@exam...|              25|    2027-02-23|        true|        4|           2153|                 1721|\n",
            "|   FSH073|  LOB00019| Slipper Lobster| 10/8/2023|     17.4|       441.6|             13.95|Grade B|    Paper Shell|        Trap|   VSL016|            FG019|               57.7|    true|            false|       false|Jacqueline Harris|      LIC35637|6329 Joseph Garde...|          South Anne| Massachusetts|    001-699-876-1043|rferguson@example...|              36|    2026-01-10|        true|        2|           1790|                 2988|\n",
            "|   FSH059|  LOB00020|   Spiny Lobster| 3/19/2024|    21.13|      1131.0|             10.39| Reject|     Soft Shell|    Trawling|   VSL021|            FG025|              76.47|    true|            false|        true|     Carol Hayden|      LIC37521|USCGC Whitaker\\nF...|       South Jessica|  North Dakota|    001-243-644-1108|qkennedy@example.com|               5|    2026-08-26|       false|        6|           2153|                  459|\n",
            "+---------+----------+----------------+----------+---------+------------+------------------+-------+---------------+------------+---------+-----------------+-------------------+--------+-----------------+------------+-----------------+--------------+--------------------+--------------------+--------------+--------------------+--------------------+----------------+--------------+------------+---------+---------------+---------------------+\n",
            "only showing top 20 rows\n",
            "\n"
          ]
        }
      ]
    },
    {
      "cell_type": "markdown",
      "source": [
        "membuat kolom baru"
      ],
      "metadata": {
        "id": "UF-sadIZQh45"
      }
    },
    {
      "cell_type": "code",
      "source": [
        "from pyspark.sql.functions import to_date, year\n",
        "\n",
        "# Ubah 'catch_date' ke format tanggal\n",
        "joined_df = joined_df.withColumn(\"catch_date\", to_date(\"catch_date\", \"M/d/yyyy\"))\n",
        "\n",
        "# Ambil tahun dan simpan di kolom baru 'catch_year'\n",
        "joined_df = joined_df.withColumn(\"catch_year\", year(\"catch_date\"))\n"
      ],
      "metadata": {
        "id": "FTnFj--TQCwh"
      },
      "execution_count": null,
      "outputs": []
    },
    {
      "cell_type": "code",
      "source": [
        "joined_df.show()"
      ],
      "metadata": {
        "colab": {
          "base_uri": "https://localhost:8080/"
        },
        "id": "vXJLMnQWQdeS",
        "outputId": "7a80ebcc-4974-4faa-9b88-8c632469c2db"
      },
      "execution_count": null,
      "outputs": [
        {
          "output_type": "stream",
          "name": "stdout",
          "text": [
            "+---------+----------+----------------+----------+---------+------------+------------------+-------+---------------+------------+---------+-----------------+-------------------+--------+-----------------+------------+-----------------+--------------+--------------------+--------------------+--------------+--------------------+--------------------+----------------+--------------+------------+---------+---------------+---------------------+----------+\n",
            "|fisher_id|lobster_id|         species|catch_date|length_cm|weight_grams|carapace_length_cm|  grade|shell_condition|catch_method|vessel_id|fishing_ground_id|market_price_per_kg|is_alive|inspection_passed|export_ready|      fisher_name|license_number|             address|                city|         state|               phone|               email|experience_years|license_expiry|vessel_owner|crew_size|annual_quota_kg|total_catch_this_year|catch_year|\n",
            "+---------+----------+----------------+----------+---------+------------+------------------+-------+---------------+------------+---------+-----------------+-------------------+--------+-----------------+------------+-----------------+--------------+--------------------+--------------------+--------------+--------------------+--------------------+----------------+--------------+------------+---------+---------------+---------------------+----------+\n",
            "|   FSH005|  LOB00001|American Lobster|2023-10-05|    15.75|       557.5|             10.23|Grade A|     Hard Shell|Hand Picking|   VSL002|            FG003|              37.03|    true|             true|       false|     Keith Miller|      LIC31000|74293 Jessica Fal...|          West David|      Illinois|   454-659-2473x8532| lfranco@example.net|              16|    2026-02-18|        true|        7|           4098|                 3631|      2023|\n",
            "|   FSH036|  LOB00002|European Lobster|2024-08-09|    28.48|       561.6|             16.69|Grade B|    Paper Shell|    Trawling|   VSL010|            FG007|              77.65|   false|             true|        true|     Timothy Hall|      LIC59702|3871 Vanessa Park...|North Deborahborough|      Virginia|  223.290.7348x93467|hfitzgerald@examp...|               3|    2026-11-04|       false|        6|           2767|                 1336|      2024|\n",
            "|   FSH049|  LOB00003|    Rock Lobster|2023-10-08|     17.9|      1301.7|             14.04|Grade A|    Paper Shell|        Trap|   VSL006|            FG018|              41.12|   false|             true|        true|     Stacey Munoz|      LIC94788|9297 Phillip Vist...|        Stewartmouth|        Nevada|        930.423.8260| xgordon@example.com|              14|    2025-09-21|        true|        1|           1494|                 1095|      2023|\n",
            "|   FSH036|  LOB00004|American Lobster|2024-10-25|    34.84|      1205.0|             17.85|Grade B|     Hard Shell|Hand Picking|   VSL030|            FG021|              70.88|    true|            false|       false|     Timothy Hall|      LIC59702|3871 Vanessa Park...|North Deborahborough|      Virginia|  223.290.7348x93467|hfitzgerald@examp...|               3|    2026-11-04|       false|        6|           2767|                 1336|      2024|\n",
            "|   FSH021|  LOB00005|European Lobster|2024-09-22|    35.11|      1112.4|             14.84|Grade A|     Soft Shell|      Diving|   VSL030|            FG013|              39.85|    true|            false|        true|    Erin Atkinson|      LIC15806|5722 Mueller Terr...|      North Jennifer|         Texas|    001-344-417-0544|kylealvarez@examp...|              10|    2025-12-19|        true|        7|           1087|                 1754|      2024|\n",
            "|   FSH028|  LOB00006|European Lobster|2024-01-26|    39.65|      1246.6|             12.01|Grade A|     Soft Shell|    Trawling|   VSL042|            FG016|              46.76|   false|             true|       false|   Krystal Palmer|      LIC54809|3049 Mann Squares...|  West Jennifermouth|       Georgia|        478.287.1823| dylan46@example.com|              23|    2027-04-21|        true|        3|           1205|                  840|      2024|\n",
            "|   FSH029|  LOB00007|European Lobster|2024-12-01|     22.4|       929.8|             10.63| Reject|    Paper Shell|    Trawling|   VSL009|            FG017|              52.14|    true|             true|        true|    Lauren Kramer|      LIC47022|830 Tucker Tunnel...|           East Paul|      New York|        679-496-2997| derek49@example.org|              29|    2025-12-17|       false|        3|           2092|                 1650|      2024|\n",
            "|   FSH071|  LOB00008|European Lobster|2024-02-24|    38.76|       748.8|              8.64| Reject|    Paper Shell|    Trawling|   VSL001|            FG022|              64.64|   false|            false|        true|     Thomas Stone|      LIC94687|USNS Evans\\nFPO A...|          Andreafort|      Arkansas|  (781)839-4554x5051|danielle11@exampl...|              27|    2027-02-09|       false|        7|           4069|                 1921|      2024|\n",
            "|   FSH081|  LOB00009|   Spiny Lobster|2024-08-10|    28.04|       789.8|             17.54|Grade C|     Soft Shell|        Trap|   VSL020|            FG021|              52.92|    true|             true|       false|       Tyler West|      LIC61415|1447 Brenda Garde...|     Port Brianville|       Vermont|   (342)207-4373x017|michaelrodriguez@...|              10|    2026-05-01|        true|        6|           3894|                 1161|      2024|\n",
            "|   FSH003|  LOB00010|European Lobster|2025-04-15|    31.18|      1212.2|              13.3|Grade A|         Peeler|Hand Picking|   VSL008|            FG012|              73.33|   false|             true|        true|      Julie Smith|      LIC23718|PSC 6720, Box 576...|          Ortizhaven|      Delaware|          9266691811|gregory22@example...|              13|    2026-08-14|        true|        1|           4194|                 1600|      2025|\n",
            "|   FSH017|  LOB00011|European Lobster|2024-01-26|    41.34|      1431.0|              8.86| Reject|     Hard Shell|      Diving|   VSL043|            FG016|              77.08|    true|            false|       false|  Jennifer Rivers|      LIC15847|405 Blackburn For...|          Jeremyland|      Arkansas|001-214-355-1456x...|virginia50@exampl...|              15|    2027-02-02|       false|        4|           1441|                 2232|      2024|\n",
            "|   FSH057|  LOB00012|European Lobster|2023-10-09|    42.87|      1181.8|              14.9|Grade C|    Paper Shell|    Trawling|   VSL034|            FG015|              31.66|    true|             true|       false|   Logan Randolph|      LIC33067|02797 Mills Shore...|       Kathleenmouth|        Oregon|001-246-608-0294x265|  kclark@example.org|              28|    2025-09-10|       false|        6|           2347|                 3829|      2023|\n",
            "|   FSH009|  LOB00013|American Lobster|2024-11-08|    32.65|       499.1|              10.2|Grade A|     Hard Shell|      Diving|   VSL003|            FG011|               28.9|    true|            false|       false|   Joshua Mathews|      LIC28293|4259 Lane Course ...|   New Christinaberg|      New York|+1-698-813-7008x6557|ronaldcollins@exa...|              17|    2027-01-25|        true|        4|           2786|                 4110|      2024|\n",
            "|   FSH053|  LOB00014|European Lobster|2024-09-26|    31.18|      1140.4|             16.82| Reject|     Soft Shell|Hand Picking|   VSL013|            FG004|              30.33|   false|            false|       false|  Laura Blanchard|      LIC65632|87286 Theresa Pla...|         Harpershire|South Carolina|    438-541-7130x133|joshuajackson@exa...|              17|    2027-01-27|        true|        1|           4363|                  375|      2024|\n",
            "|   FSH094|  LOB00015|    Rock Lobster|2023-08-11|    29.01|      1147.8|             14.73|Grade A|     Hard Shell|Hand Picking|   VSL022|            FG004|              38.68|    true|            false|        true|     Lisa Freeman|      LIC63799|5624 Cindy Brook\\...|           Jamesport|    New Mexico|+1-487-602-2743x0504|joseph47@example.com|              28|    2025-11-05|        true|        7|           3633|                 1183|      2023|\n",
            "|   FSH007|  LOB00016|    Rock Lobster|2024-10-19|     20.5|       801.4|             16.74|Grade A|        Unknown|        Trap|   VSL042|            FG018|              70.98|    true|             true|        true|      Bruce Brown|      LIC97752|5787 Mclaughlin V...|         Allisonside|      Colorado|        380-762-7748|  adam46@example.net|              27|    2026-07-23|        true|        4|           4311|                 2808|      2024|\n",
            "|   FSH001|  LOB00017|    Rock Lobster|2023-10-24|    29.57|       477.9|             12.01|Grade A|     Soft Shell|Hand Picking|   VSL025|            FG009|              75.96|   false|            false|       false|  Courtney Harris|      LIC31125|624 Samantha Aven...|          Port Robin|     Minnesota|     +1-416-342-6015|hamiltoncassandra...|               1|    2027-01-10|        true|        8|           1329|                 2819|      2023|\n",
            "|   FSH096|  LOB00018| Slipper Lobster|2023-10-24|    34.86|       832.7|               9.9|Grade B|     Hard Shell|        Trap|   VSL021|            FG002|              27.76|   false|             true|        true|      Kyle Nguyen|      LIC48437|3346 Fowler Orcha...|     Benjaminborough|      Missouri|       (253)946-0394|melanieallen@exam...|              25|    2027-02-23|        true|        4|           2153|                 1721|      2023|\n",
            "|   FSH073|  LOB00019| Slipper Lobster|2023-10-08|     17.4|       441.6|             13.95|Grade B|    Paper Shell|        Trap|   VSL016|            FG019|               57.7|    true|            false|       false|Jacqueline Harris|      LIC35637|6329 Joseph Garde...|          South Anne| Massachusetts|    001-699-876-1043|rferguson@example...|              36|    2026-01-10|        true|        2|           1790|                 2988|      2023|\n",
            "|   FSH059|  LOB00020|   Spiny Lobster|2024-03-19|    21.13|      1131.0|             10.39| Reject|     Soft Shell|    Trawling|   VSL021|            FG025|              76.47|    true|            false|        true|     Carol Hayden|      LIC37521|USCGC Whitaker\\nF...|       South Jessica|  North Dakota|    001-243-644-1108|qkennedy@example.com|               5|    2026-08-26|       false|        6|           2153|                  459|      2024|\n",
            "+---------+----------+----------------+----------+---------+------------+------------------+-------+---------------+------------+---------+-----------------+-------------------+--------+-----------------+------------+-----------------+--------------+--------------------+--------------------+--------------+--------------------+--------------------+----------------+--------------+------------+---------+---------------+---------------------+----------+\n",
            "only showing top 20 rows\n",
            "\n"
          ]
        }
      ]
    },
    {
      "cell_type": "code",
      "source": [
        "# 1. Cek missing values\n",
        "from pyspark.sql.functions import col, sum\n",
        "\n",
        "missing_values = joined_df.select([sum(col(c).isNull().cast(\"int\")).alias(c) for c in joined_df.columns])\n",
        "missing_values.show()"
      ],
      "metadata": {
        "colab": {
          "base_uri": "https://localhost:8080/"
        },
        "id": "m4hSy6CCvTVL",
        "outputId": "d8c69fc3-a47a-4a40-82e8-b87a7619de32"
      },
      "execution_count": null,
      "outputs": [
        {
          "output_type": "stream",
          "name": "stdout",
          "text": [
            "+---------+----------+-------+----------+---------+------------+------------------+-----+---------------+------------+---------+-----------------+-------------------+--------+-----------------+------------+-----------+--------------+-------+----+-----+-----+-----+----------------+--------------+------------+---------+---------------+---------------------+----------+\n",
            "|fisher_id|lobster_id|species|catch_date|length_cm|weight_grams|carapace_length_cm|grade|shell_condition|catch_method|vessel_id|fishing_ground_id|market_price_per_kg|is_alive|inspection_passed|export_ready|fisher_name|license_number|address|city|state|phone|email|experience_years|license_expiry|vessel_owner|crew_size|annual_quota_kg|total_catch_this_year|catch_year|\n",
            "+---------+----------+-------+----------+---------+------------+------------------+-----+---------------+------------+---------+-----------------+-------------------+--------+-----------------+------------+-----------+--------------+-------+----+-----+-----+-----+----------------+--------------+------------+---------+---------------+---------------------+----------+\n",
            "|        0|         0|      0|         0|        0|           0|                 0|    0|              0|           0|        0|                0|                  0|       0|                0|           0|          0|             0|      0|   0|    0|    0|    0|               0|             0|           0|        0|              0|                    0|         0|\n",
            "+---------+----------+-------+----------+---------+------------+------------------+-----+---------------+------------+---------+-----------------+-------------------+--------+-----------------+------------+-----------+--------------+-------+----+-----+-----+-----+----------------+--------------+------------+---------+---------------+---------------------+----------+\n",
            "\n"
          ]
        }
      ]
    },
    {
      "cell_type": "markdown",
      "source": [
        "**1.menganalisis total tangkapan lobster di setiap tahunnya berdasarkan species**"
      ],
      "metadata": {
        "id": "1KtlP0_4Q-ID"
      }
    },
    {
      "cell_type": "code",
      "source": [
        "from pyspark.sql.functions import sum\n",
        "\n",
        "tangkapan_lobster_sum = joined_df.groupBy(\"catch_year\", \"species\") \\\n",
        "                                  .agg(sum(\"total_catch_this_year\").alias(\"total_catch\")) \\\n",
        "                                  .orderBy(\"total_catch\", ascending=False)\n",
        "tangkapan_lobster_sum.show()\n"
      ],
      "metadata": {
        "colab": {
          "base_uri": "https://localhost:8080/"
        },
        "id": "t3MofZJIQ30b",
        "outputId": "3e2393af-d7ef-4257-83d5-30fc7a5bcf8b"
      },
      "execution_count": null,
      "outputs": [
        {
          "output_type": "stream",
          "name": "stdout",
          "text": [
            "+----------+----------------+-----------+\n",
            "|catch_year|         species|total_catch|\n",
            "+----------+----------------+-----------+\n",
            "|      2024| Slipper Lobster|    2466671|\n",
            "|      2024|European Lobster|    2440580|\n",
            "|      2024|    Rock Lobster|    2388588|\n",
            "|      2024|American Lobster|    2319937|\n",
            "|      2024|   Spiny Lobster|    2288114|\n",
            "|      2023|American Lobster|    1431251|\n",
            "|      2023|European Lobster|    1369341|\n",
            "|      2023|    Rock Lobster|    1351377|\n",
            "|      2023| Slipper Lobster|    1351032|\n",
            "|      2023|   Spiny Lobster|    1337283|\n",
            "|      2025| Slipper Lobster|    1091912|\n",
            "|      2025|    Rock Lobster|    1056055|\n",
            "|      2025|American Lobster|     979226|\n",
            "|      2025|   Spiny Lobster|     964814|\n",
            "|      2025|European Lobster|     958030|\n",
            "+----------+----------------+-----------+\n",
            "\n"
          ]
        }
      ]
    },
    {
      "cell_type": "markdown",
      "source": [],
      "metadata": {
        "id": "5GGZaVFL565d"
      }
    },
    {
      "cell_type": "code",
      "source": [
        "from pyspark.sql.functions import sum\n",
        "\n",
        "tangkapan_lobster_sum = joined_df.groupBy(\"species\", \"catch_method\") \\\n",
        "                                  .agg(sum(\"total_catch_this_year\").alias(\"total_catch\")) \\\n",
        "                                  .orderBy(\"total_catch\", ascending=False)\n",
        "tangkapan_lobster_sum.show()\n"
      ],
      "metadata": {
        "colab": {
          "base_uri": "https://localhost:8080/"
        },
        "id": "K0qyV3IVRA1y",
        "outputId": "87ec688b-cc35-403c-e0e4-a1ac9284ae93"
      },
      "execution_count": null,
      "outputs": [
        {
          "output_type": "stream",
          "name": "stdout",
          "text": [
            "+----------------+------------+-----------+\n",
            "|         species|catch_method|total_catch|\n",
            "+----------------+------------+-----------+\n",
            "| Slipper Lobster|        Trap|    1337880|\n",
            "|European Lobster|      Diving|    1254156|\n",
            "| Slipper Lobster|Hand Picking|    1252037|\n",
            "|   Spiny Lobster|      Diving|    1244691|\n",
            "|European Lobster|Hand Picking|    1241343|\n",
            "|American Lobster|Hand Picking|    1217589|\n",
            "|    Rock Lobster|      Diving|    1211054|\n",
            "| Slipper Lobster|    Trawling|    1206281|\n",
            "|    Rock Lobster|    Trawling|    1203318|\n",
            "|    Rock Lobster|        Trap|    1197480|\n",
            "|American Lobster|      Diving|    1194787|\n",
            "|    Rock Lobster|Hand Picking|    1184168|\n",
            "|European Lobster|        Trap|    1167454|\n",
            "|American Lobster|    Trawling|    1162371|\n",
            "|American Lobster|        Trap|    1155667|\n",
            "|   Spiny Lobster|    Trawling|    1141958|\n",
            "|   Spiny Lobster|        Trap|    1115866|\n",
            "| Slipper Lobster|      Diving|    1113417|\n",
            "|European Lobster|    Trawling|    1104998|\n",
            "|   Spiny Lobster|Hand Picking|    1087696|\n",
            "+----------------+------------+-----------+\n",
            "\n"
          ]
        }
      ]
    },
    {
      "cell_type": "markdown",
      "source": [
        "**3. menghitung banyaknya tangkapan lobster berdasarkan metode penangkapan berdasarkan tahun ketahun**"
      ],
      "metadata": {
        "id": "NkvA8o7LRuuh"
      }
    },
    {
      "cell_type": "markdown",
      "source": [
        "PySpark tidak memiliki fungsi pivot_table seperti Pandas,jadi kami mendapatkan hasil yang setara dengan menggunakan method .groupBy().pivot().agg().\n",
        "\n"
      ],
      "metadata": {
        "id": "VuVweOihR6O6"
      }
    },
    {
      "cell_type": "code",
      "source": [
        "from pyspark.sql.functions import sum\n",
        "\n",
        "pivot_table = joined_df.groupBy(\"catch_method\") \\\n",
        "                       .pivot(\"catch_year\") \\\n",
        "                       .agg(sum(\"total_catch_this_year\"))\n",
        "pivot_table.show()\n"
      ],
      "metadata": {
        "colab": {
          "base_uri": "https://localhost:8080/"
        },
        "id": "UDdp49-ERqnZ",
        "outputId": "be9d4bdf-c322-4bdc-b3d8-a0c6b8f35053"
      },
      "execution_count": null,
      "outputs": [
        {
          "output_type": "stream",
          "name": "stdout",
          "text": [
            "+------------+-------+-------+-------+\n",
            "|catch_method|   2023|   2024|   2025|\n",
            "+------------+-------+-------+-------+\n",
            "|        Trap|1768444|2940590|1265313|\n",
            "|    Trawling|1712509|2886978|1219439|\n",
            "|      Diving|1675087|3031563|1311455|\n",
            "|Hand Picking|1684244|3044759|1253830|\n",
            "+------------+-------+-------+-------+\n",
            "\n"
          ]
        }
      ]
    },
    {
      "cell_type": "markdown",
      "source": [
        "# INNER JOIN DATASETS 1 DAN 3"
      ],
      "metadata": {
        "id": "99I7Zzd-udOA"
      }
    },
    {
      "cell_type": "code",
      "metadata": {
        "colab": {
          "base_uri": "https://localhost:8080/"
        },
        "id": "6f060d08",
        "outputId": "2698db33-9b29-4c8c-8295-754b70c1cc6d"
      },
      "source": [
        "# 8. Lakukan inner join antara joined_df dan df_lobster_fishing_grounds\n",
        "joined_df = joined_df.join(df_lobster_fishing_grounds, on=[\"fishing_ground_id\"], how=\"inner\")\n",
        "\n",
        "joined_df.show()"
      ],
      "execution_count": null,
      "outputs": [
        {
          "output_type": "stream",
          "name": "stdout",
          "text": [
            "+-----------------+---------+----------+----------------+----------+---------+------------+------------------+-------+---------------+------------+---------+-------------------+--------+-----------------+------------+-----------------+--------------+--------------------+--------------------+--------------+--------------------+--------------------+----------------+--------------+------------+---------+---------------+---------------------+----------+--------------------+---------+----------+------------------+-----------------+---------------------+------------------------+----------------+--------------+----------------------+-----------+----------------+--------------------+\n",
            "|fishing_ground_id|fisher_id|lobster_id|         species|catch_date|length_cm|weight_grams|carapace_length_cm|  grade|shell_condition|catch_method|vessel_id|market_price_per_kg|is_alive|inspection_passed|export_ready|      fisher_name|license_number|             address|                city|         state|               phone|               email|experience_years|license_expiry|vessel_owner|crew_size|annual_quota_kg|total_catch_this_year|catch_year|         ground_name| latitude| longitude|water_depth_meters|       water_type|average_temperature_c|lobster_density_per_sqkm|seasonal_closure|protected_area|distance_from_shore_km|bottom_type|current_strength|accessibility_rating|\n",
            "+-----------------+---------+----------+----------------+----------+---------+------------+------------------+-------+---------------+------------+---------+-------------------+--------+-----------------+------------+-----------------+--------------+--------------------+--------------------+--------------+--------------------+--------------------+----------------+--------------+------------+---------+---------------+---------------------+----------+--------------------+---------+----------+------------------+-----------------+---------------------+------------------------+----------------+--------------+----------------------+-----------+----------------+--------------------+\n",
            "|            FG003|   FSH005|  LOB00001|American Lobster|2023-10-05|    15.75|       557.5|             10.23|Grade A|     Hard Shell|Hand Picking|   VSL002|              37.03|    true|             true|       false|     Keith Miller|      LIC31000|74293 Jessica Fal...|          West David|      Illinois|   454-659-2473x8532| lfranco@example.net|              16|    2026-02-18|        true|        7|           4098|                 3631|      2023|  Lake Melissa Ridge|43.151354|-70.060466|               186|       Deep Water|                  8.5|                     417|            true|         false|                  59.9|      Rocky|        Moderate|                   2|\n",
            "|            FG007|   FSH036|  LOB00002|European Lobster|2024-08-09|    28.48|       561.6|             16.69|Grade B|    Paper Shell|    Trawling|   VSL010|              77.65|   false|             true|        true|     Timothy Hall|      LIC59702|3871 Vanessa Park...|North Deborahborough|      Virginia|  223.290.7348x93467|hfitzgerald@examp...|               3|    2026-11-04|       false|        6|           2767|                 1336|      2024|    Keychester Shelf|41.234383|-73.786059|               183|       Deep Water|                 13.6|                     201|            true|          true|                  47.1|      Mixed|          Strong|                   5|\n",
            "|            FG018|   FSH049|  LOB00003|    Rock Lobster|2023-10-08|     17.9|      1301.7|             14.04|Grade A|    Paper Shell|        Trap|   VSL006|              41.12|   false|             true|        true|     Stacey Munoz|      LIC94788|9297 Phillip Vist...|        Stewartmouth|        Nevada|        930.423.8260| xgordon@example.com|              14|    2025-09-21|        true|        1|           1494|                 1095|      2023|  Mckinneyport Shelf|42.243998|-71.638338|               177|     Sandy Bottom|                 17.9|                     219|            true|          true|                  23.6|      Sandy|        Moderate|                   3|\n",
            "|            FG021|   FSH036|  LOB00004|American Lobster|2024-10-25|    34.84|      1205.0|             17.85|Grade B|     Hard Shell|Hand Picking|   VSL030|              70.88|    true|            false|       false|     Timothy Hall|      LIC59702|3871 Vanessa Park...|North Deborahborough|      Virginia|  223.290.7348x93467|hfitzgerald@examp...|               3|    2026-11-04|       false|        6|           2767|                 1336|      2024|West Benjaminboro...|37.864626|-67.354359|                29|Continental Shelf|                 14.7|                     226|           false|          true|                  36.5|      Rocky|        Moderate|                   9|\n",
            "|            FG013|   FSH021|  LOB00005|European Lobster|2024-09-22|    35.11|      1112.4|             14.84|Grade A|     Soft Shell|      Diving|   VSL030|              39.85|    true|            false|        true|    Erin Atkinson|      LIC15806|5722 Mueller Terr...|      North Jennifer|         Texas|    001-344-417-0544|kylealvarez@examp...|              10|    2025-12-19|        true|        7|           1087|                 1754|      2024|      Joshuaton Area|35.973523|-70.581948|                41|          Coastal|                 11.8|                     327|            true|         false|                  45.3|      Rocky|            Weak|                   3|\n",
            "|            FG016|   FSH028|  LOB00006|European Lobster|2024-01-26|    39.65|      1246.6|             12.01|Grade A|     Soft Shell|    Trawling|   VSL042|              46.76|   false|             true|       false|   Krystal Palmer|      LIC54809|3049 Mann Squares...|  West Jennifermouth|       Georgia|        478.287.1823| dylan46@example.com|              23|    2027-04-21|        true|        3|           1205|                  840|      2024|    East Donna Ridge|40.442365| -67.18777|                75|     Sandy Bottom|                 10.0|                     145|           false|         false|                  74.4|      Muddy|        Moderate|                   5|\n",
            "|            FG017|   FSH029|  LOB00007|European Lobster|2024-12-01|     22.4|       929.8|             10.63| Reject|    Paper Shell|    Trawling|   VSL009|              52.14|    true|             true|        true|    Lauren Kramer|      LIC47022|830 Tucker Tunnel...|           East Paul|      New York|        679-496-2997| derek49@example.org|              29|    2025-12-17|       false|        3|           2092|                 1650|      2024|   New Melissa Banks|45.446216|-69.982816|               143|          Coastal|                 14.3|                     169|           false|          true|                  94.3|      Rocky|            Weak|                   1|\n",
            "|            FG022|   FSH071|  LOB00008|European Lobster|2024-02-24|    38.76|       748.8|              8.64| Reject|    Paper Shell|    Trawling|   VSL001|              64.64|   false|            false|        true|     Thomas Stone|      LIC94687|USNS Evans\\nFPO A...|          Andreafort|      Arkansas|  (781)839-4554x5051|danielle11@exampl...|              27|    2027-02-09|       false|        7|           4069|                 1921|      2024|      Erinton Ground| 42.45049|-67.379435|                27|       Deep Water|                 11.5|                     186|           false|          true|                  96.7|      Mixed|        Moderate|                   6|\n",
            "|            FG021|   FSH081|  LOB00009|   Spiny Lobster|2024-08-10|    28.04|       789.8|             17.54|Grade C|     Soft Shell|        Trap|   VSL020|              52.92|    true|             true|       false|       Tyler West|      LIC61415|1447 Brenda Garde...|     Port Brianville|       Vermont|   (342)207-4373x017|michaelrodriguez@...|              10|    2026-05-01|        true|        6|           3894|                 1161|      2024|West Benjaminboro...|37.864626|-67.354359|                29|Continental Shelf|                 14.7|                     226|           false|          true|                  36.5|      Rocky|        Moderate|                   9|\n",
            "|            FG012|   FSH003|  LOB00010|European Lobster|2025-04-15|    31.18|      1212.2|              13.3|Grade A|         Peeler|Hand Picking|   VSL008|              73.33|   false|             true|        true|      Julie Smith|      LIC23718|PSC 6720, Box 576...|          Ortizhaven|      Delaware|          9266691811|gregory22@example...|              13|    2026-08-14|        true|        1|           4194|                 1600|      2025|   Michaelbury Banks|39.214566| -69.61368|                26|Continental Shelf|                 11.0|                     120|           false|         false|                  62.6|      Mixed|        Moderate|                   2|\n",
            "|            FG016|   FSH017|  LOB00011|European Lobster|2024-01-26|    41.34|      1431.0|              8.86| Reject|     Hard Shell|      Diving|   VSL043|              77.08|    true|            false|       false|  Jennifer Rivers|      LIC15847|405 Blackburn For...|          Jeremyland|      Arkansas|001-214-355-1456x...|virginia50@exampl...|              15|    2027-02-02|       false|        4|           1441|                 2232|      2024|    East Donna Ridge|40.442365| -67.18777|                75|     Sandy Bottom|                 10.0|                     145|           false|         false|                  74.4|      Muddy|        Moderate|                   5|\n",
            "|            FG015|   FSH057|  LOB00012|European Lobster|2023-10-09|    42.87|      1181.8|              14.9|Grade C|    Paper Shell|    Trawling|   VSL034|              31.66|    true|             true|       false|   Logan Randolph|      LIC33067|02797 Mills Shore...|       Kathleenmouth|        Oregon|001-246-608-0294x265|  kclark@example.org|              28|    2025-09-10|       false|        6|           2347|                 3829|      2023|   New Thomas Ground|38.604152|-65.333126|               160|          Coastal|                 10.7|                     114|           false|         false|                  48.4|      Mixed|          Strong|                   5|\n",
            "|            FG011|   FSH009|  LOB00013|American Lobster|2024-11-08|    32.65|       499.1|              10.2|Grade A|     Hard Shell|      Diving|   VSL003|               28.9|    true|            false|       false|   Joshua Mathews|      LIC28293|4259 Lane Course ...|   New Christinaberg|      New York|+1-698-813-7008x6557|ronaldcollins@exa...|              17|    2027-01-25|        true|        4|           2786|                 4110|      2024|South Johnathansi...|42.409871|-70.202806|               120|       Deep Water|                 10.4|                     159|           false|          true|                  87.5|      Rocky|            Weak|                   6|\n",
            "|            FG004|   FSH053|  LOB00014|European Lobster|2024-09-26|    31.18|      1140.4|             16.82| Reject|     Soft Shell|Hand Picking|   VSL013|              30.33|   false|            false|       false|  Laura Blanchard|      LIC65632|87286 Theresa Pla...|         Harpershire|South Carolina|    438-541-7130x133|joshuajackson@exa...|              17|    2027-01-27|        true|        1|           4363|                  375|      2024| Morenoborough Ridge|44.937554|-71.608866|                65|     Sandy Bottom|                 16.0|                     266|           false|          true|                  20.1|      Sandy|          Strong|                   7|\n",
            "|            FG004|   FSH094|  LOB00015|    Rock Lobster|2023-08-11|    29.01|      1147.8|             14.73|Grade A|     Hard Shell|Hand Picking|   VSL022|              38.68|    true|            false|        true|     Lisa Freeman|      LIC63799|5624 Cindy Brook\\...|           Jamesport|    New Mexico|+1-487-602-2743x0504|joseph47@example.com|              28|    2025-11-05|        true|        7|           3633|                 1183|      2023| Morenoborough Ridge|44.937554|-71.608866|                65|     Sandy Bottom|                 16.0|                     266|           false|          true|                  20.1|      Sandy|          Strong|                   7|\n",
            "|            FG018|   FSH007|  LOB00016|    Rock Lobster|2024-10-19|     20.5|       801.4|             16.74|Grade A|        Unknown|        Trap|   VSL042|              70.98|    true|             true|        true|      Bruce Brown|      LIC97752|5787 Mclaughlin V...|         Allisonside|      Colorado|        380-762-7748|  adam46@example.net|              27|    2026-07-23|        true|        4|           4311|                 2808|      2024|  Mckinneyport Shelf|42.243998|-71.638338|               177|     Sandy Bottom|                 17.9|                     219|            true|          true|                  23.6|      Sandy|        Moderate|                   3|\n",
            "|            FG009|   FSH001|  LOB00017|    Rock Lobster|2023-10-24|    29.57|       477.9|             12.01|Grade A|     Soft Shell|Hand Picking|   VSL025|              75.96|   false|            false|       false|  Courtney Harris|      LIC31125|624 Samantha Aven...|          Port Robin|     Minnesota|     +1-416-342-6015|hamiltoncassandra...|               1|    2027-01-10|        true|        8|           1329|                 2819|      2023|Port Pamelaland S...|43.064806|-65.171953|                64|          Coastal|                 11.0|                      57|            true|         false|                   7.8|      Mixed|        Moderate|                   1|\n",
            "|            FG002|   FSH096|  LOB00018| Slipper Lobster|2023-10-24|    34.86|       832.7|               9.9|Grade B|     Hard Shell|        Trap|   VSL021|              27.76|   false|             true|        true|      Kyle Nguyen|      LIC48437|3346 Fowler Orcha...|     Benjaminborough|      Missouri|       (253)946-0394|melanieallen@exam...|              25|    2027-02-23|        true|        4|           2153|                 1721|      2023| Lake Amberton Ridge|37.909529|-68.968687|                46|          Coastal|                 15.9|                     358|           false|         false|                  63.6|      Mixed|          Strong|                   8|\n",
            "|            FG019|   FSH073|  LOB00019| Slipper Lobster|2023-10-08|     17.4|       441.6|             13.95|Grade B|    Paper Shell|        Trap|   VSL016|               57.7|    true|            false|       false|Jacqueline Harris|      LIC35637|6329 Joseph Garde...|          South Anne| Massachusetts|    001-699-876-1043|rferguson@example...|              36|    2026-01-10|        true|        2|           1790|                 2988|      2023|West Brittanyches...|45.140069|-70.941468|                27|     Rocky Bottom|                  9.7|                      75|            true|          true|                  87.1|      Mixed|            Weak|                   2|\n",
            "|            FG025|   FSH059|  LOB00020|   Spiny Lobster|2024-03-19|    21.13|      1131.0|             10.39| Reject|     Soft Shell|    Trawling|   VSL021|              76.47|    true|            false|        true|     Carol Hayden|      LIC37521|USCGC Whitaker\\nF...|       South Jessica|  North Dakota|    001-243-644-1108|qkennedy@example.com|               5|    2026-08-26|       false|        6|           2153|                  459|      2024|   Lake Donald Shelf|39.601839| -72.03405|               160|     Rocky Bottom|                 16.3|                     474|           false|         false|                  29.5|      Muddy|          Strong|                   7|\n",
            "+-----------------+---------+----------+----------------+----------+---------+------------+------------------+-------+---------------+------------+---------+-------------------+--------+-----------------+------------+-----------------+--------------+--------------------+--------------------+--------------+--------------------+--------------------+----------------+--------------+------------+---------+---------------+---------------------+----------+--------------------+---------+----------+------------------+-----------------+---------------------+------------------------+----------------+--------------+----------------------+-----------+----------------+--------------------+\n",
            "only showing top 20 rows\n",
            "\n"
          ]
        }
      ]
    },
    {
      "cell_type": "markdown",
      "source": [
        "**4. melihat jumlah penangkapan lobster berdasarkan species dan type air**"
      ],
      "metadata": {
        "id": "rgSbQud9S6Hx"
      }
    },
    {
      "cell_type": "code",
      "source": [
        "from pyspark.sql.functions import sum\n",
        "\n",
        "pivott = joined_df.groupBy(\"species\") \\\n",
        "                   .pivot(\"water_type\") \\\n",
        "                   .agg(sum(\"total_catch_this_year\").alias(\"total_catch\"))\n",
        "\n",
        "pivott.show()\n"
      ],
      "metadata": {
        "colab": {
          "base_uri": "https://localhost:8080/"
        },
        "id": "84EVpF1seRVt",
        "outputId": "53203395-5c45-4482-b420-11c6265306f3"
      },
      "execution_count": null,
      "outputs": [
        {
          "output_type": "stream",
          "name": "stdout",
          "text": [
            "+----------------+-------+-----------------+----------+------------+------------+\n",
            "|         species|Coastal|Continental Shelf|Deep Water|Rocky Bottom|Sandy Bottom|\n",
            "+----------------+-------+-----------------+----------+------------+------------+\n",
            "|American Lobster|1444083|          1001493|   1169907|      544417|      570514|\n",
            "|    Rock Lobster|1531130|           917649|   1222436|      522909|      601896|\n",
            "| Slipper Lobster|1536801|          1051827|   1148966|      619837|      552184|\n",
            "|   Spiny Lobster|1477261|           885875|   1041231|      624079|      561765|\n",
            "|European Lobster|1475510|          1012382|   1122411|      552274|      605374|\n",
            "+----------------+-------+-----------------+----------+------------+------------+\n",
            "\n"
          ]
        }
      ]
    },
    {
      "cell_type": "markdown",
      "source": [
        "**5. melihat apakah total penangkapan lobster dari tahun ke tahun berada dalam musimnya/tidak**"
      ],
      "metadata": {
        "id": "9dO-JbhjeZ0N"
      }
    },
    {
      "cell_type": "code",
      "source": [
        "print(joined_df.columns)\n"
      ],
      "metadata": {
        "colab": {
          "base_uri": "https://localhost:8080/"
        },
        "id": "Qnsvl8FLgS13",
        "outputId": "87957c2c-004a-4132-a34a-44dee66aa819"
      },
      "execution_count": null,
      "outputs": [
        {
          "output_type": "stream",
          "name": "stdout",
          "text": [
            "['fishing_ground_id', 'fisher_id', 'lobster_id', 'species', 'catch_date', 'length_cm', 'weight_grams', 'carapace_length_cm', 'grade', 'shell_condition', 'catch_method', 'vessel_id', 'market_price_per_kg', 'is_alive', 'inspection_passed', 'export_ready', 'fisher_name', 'license_number', 'address', 'city', 'state', 'phone', 'email', 'experience_years', 'license_expiry', 'vessel_owner', 'crew_size', 'annual_quota_kg', 'total_catch_this_year', 'catch_year', 'ground_name', 'latitude', 'longitude', 'water_depth_meters', 'water_type', 'average_temperature_c', 'lobster_density_per_sqkm', 'seasonal_closure', 'protected_area', 'distance_from_shore_km', 'bottom_type', 'current_strength', 'accessibility_rating']\n"
          ]
        }
      ]
    },
    {
      "cell_type": "code",
      "source": [
        "from pyspark.sql.functions import sum\n",
        "\n",
        "musim = joined_df.groupBy(\"species\", \"seasonal_closure_clean\") \\\n",
        "    .agg(sum(\"total_catch_this_year\").alias(\"total_catch\"))\n",
        "\n",
        "musim.show()\n"
      ],
      "metadata": {
        "colab": {
          "base_uri": "https://localhost:8080/",
          "height": 1000
        },
        "id": "uDx6e-dmg-3R",
        "outputId": "3a172a83-10b8-4ddd-adcf-03839caa1072"
      },
      "execution_count": null,
      "outputs": [
        {
          "output_type": "error",
          "ename": "AnalysisException",
          "evalue": "[UNRESOLVED_COLUMN.WITH_SUGGESTION] A column or function parameter with name `seasonal_closure_clean` cannot be resolved. Did you mean one of the following? [`seasonal_closure`, `sonar_equipped`, `total_sale_value`, `visual_inspection`, `annual_quota_kg`].;\n'Aggregate [species#18, 'seasonal_closure_clean], [species#18, 'seasonal_closure_clean, sum(total_catch_this_year#906) AS total_catch#5567L]\n+- Project [vessel_id#27, lobster_id#17, fishing_ground_id#28, fisher_id#26, species#18, catch_date#1644, length_cm#355, weight_grams#484, carapace_length_cm#22, grade#23, shell_condition#615, catch_method#25, market_price_per_kg#29, is_alive#30, inspection_passed#31, export_ready#32, fisher_name#894, license_number#895, address#896, city#897, state#898, phone#899, email#900, experience_years#901, ... 60 more fields]\n   +- Join Inner, (vessel_id#27 = vessel_id#1361)\n      :- Project [lobster_id#17, fishing_ground_id#28, fisher_id#26, species#18, catch_date#1644, length_cm#355, weight_grams#484, carapace_length_cm#22, grade#23, shell_condition#615, catch_method#25, vessel_id#27, market_price_per_kg#29, is_alive#30, inspection_passed#31, export_ready#32, fisher_name#894, license_number#895, address#896, city#897, state#898, phone#899, email#900, experience_years#901, ... 46 more fields]\n      :  +- Join Inner, (lobster_id#17 = lobster_id#1245)\n      :     :- Project [lobster_id#17, fishing_ground_id#28, fisher_id#26, species#18, catch_date#1644, length_cm#355, weight_grams#484, carapace_length_cm#22, grade#23, shell_condition#615, catch_method#25, vessel_id#27, market_price_per_kg#29, is_alive#30, inspection_passed#31, export_ready#32, fisher_name#894, license_number#895, address#896, city#897, state#898, phone#899, email#900, experience_years#901, ... 33 more fields]\n      :     :  +- Project [lobster_id#17, fishing_ground_id#28, fisher_id#26, species#18, catch_date#1644, length_cm#355, weight_grams#484, carapace_length_cm#22, grade#23, shell_condition#615, catch_method#25, vessel_id#27, market_price_per_kg#29, is_alive#30, inspection_passed#31, export_ready#32, fisher_name#894, license_number#895, address#896, city#897, state#898, phone#899, email#900, experience_years#901, ... 32 more fields]\n      :     :     +- Join Inner, (lobster_id#17 = lobster_id#1128)\n      :     :        :- Project [fishing_ground_id#28, fisher_id#26, lobster_id#17, species#18, catch_date#1644, length_cm#355, weight_grams#484, carapace_length_cm#22, grade#23, shell_condition#615, catch_method#25, vessel_id#27, market_price_per_kg#29, is_alive#30, inspection_passed#31, export_ready#32, fisher_name#894, license_number#895, address#896, city#897, state#898, phone#899, email#900, experience_years#901, ... 19 more fields]\n      :     :        :  +- Join Inner, (fishing_ground_id#28 = fishing_ground_id#1010)\n      :     :        :     :- Project [fisher_id#26, lobster_id#17, species#18, catch_date#1644, length_cm#355, weight_grams#484, carapace_length_cm#22, grade#23, shell_condition#615, catch_method#25, vessel_id#27, fishing_ground_id#28, market_price_per_kg#29, is_alive#30, inspection_passed#31, export_ready#32, fisher_name#894, license_number#895, address#896, city#897, state#898, phone#899, email#900, experience_years#901, ... 6 more fields]\n      :     :        :     :  +- Project [fisher_id#26, lobster_id#17, species#18, to_date(catch_date#19, Some(M/d/yyyy), Some(Etc/UTC), false) AS catch_date#1644, length_cm#355, weight_grams#484, carapace_length_cm#22, grade#23, shell_condition#615, catch_method#25, vessel_id#27, fishing_ground_id#28, market_price_per_kg#29, is_alive#30, inspection_passed#31, export_ready#32, fisher_name#894, license_number#895, address#896, city#897, state#898, phone#899, email#900, experience_years#901, ... 5 more fields]\n      :     :        :     :     +- Project [fisher_id#26, lobster_id#17, species#18, catch_date#19, length_cm#355, weight_grams#484, carapace_length_cm#22, grade#23, shell_condition#615, catch_method#25, vessel_id#27, fishing_ground_id#28, market_price_per_kg#29, is_alive#30, inspection_passed#31, export_ready#32, fisher_name#894, license_number#895, address#896, city#897, state#898, phone#899, email#900, experience_years#901, ... 5 more fields]\n      :     :        :     :        +- Join Inner, (fisher_id#26 = fisher_id#893)\n      :     :        :     :           :- Project [lobster_id#17, species#18, catch_date#19, length_cm#355, weight_grams#484, carapace_length_cm#22, grade#23, coalesce(shell_condition#582, cast(Unknown as string)) AS shell_condition#615, catch_method#25, fisher_id#26, vessel_id#27, fishing_ground_id#28, market_price_per_kg#29, is_alive#30, inspection_passed#31, export_ready#32]\n      :     :        :     :           :  +- Project [lobster_id#17, species#18, catch_date#19, length_cm#355, weight_grams#484, carapace_length_cm#22, grade#23, cast(shell_condition#24 as string) AS shell_condition#582, catch_method#25, fisher_id#26, vessel_id#27, fishing_ground_id#28, market_price_per_kg#29, is_alive#30, inspection_passed#31, export_ready#32]\n      :     :        :     :           :     +- Project [lobster_id#17, species#18, catch_date#19, length_cm#355, coalesce(nanvl(weight_grams#21, cast(null as double)), cast(844.05 as double)) AS weight_grams#484, carapace_length_cm#22, grade#23, shell_condition#24, catch_method#25, fisher_id#26, vessel_id#27, fishing_ground_id#28, market_price_per_kg#29, is_alive#30, inspection_passed#31, export_ready#32]\n      :     :        :     :           :        +- Project [lobster_id#17, species#18, catch_date#19, coalesce(nanvl(length_cm#20, cast(null as double)), cast(30.02 as double)) AS length_cm#355, weight_grams#21, carapace_length_cm#22, grade#23, shell_condition#24, catch_method#25, fisher_id#26, vessel_id#27, fishing_ground_id#28, market_price_per_kg#29, is_alive#30, inspection_passed#31, export_ready#32]\n      :     :        :     :           :           +- Relation [lobster_id#17,species#18,catch_date#19,length_cm#20,weight_grams#21,carapace_length_cm#22,grade#23,shell_condition#24,catch_method#25,fisher_id#26,vessel_id#27,fishing_ground_id#28,market_price_per_kg#29,is_alive#30,inspection_passed#31,export_ready#32] csv\n      :     :        :     :           +- Relation [fisher_id#893,fisher_name#894,license_number#895,address#896,city#897,state#898,phone#899,email#900,experience_years#901,license_expiry#902,vessel_owner#903,crew_size#904,annual_quota_kg#905,total_catch_this_year#906] csv\n      :     :        :     +- Relation [fishing_ground_id#1010,ground_name#1011,latitude#1012,longitude#1013,water_depth_meters#1014,water_type#1015,average_temperature_c#1016,lobster_density_per_sqkm#1017,seasonal_closure#1018,protected_area#1019,distance_from_shore_km#1020,bottom_type#1021,current_strength#1022,accessibility_rating#1023] csv\n      :     :        +- Relation [sale_id#1127,lobster_id#1128,sale_date#1129,buyer_name#1130,sale_channel#1131,quantity_sold_kg#1132,price_per_kg#1133,transport_cost#1134,commission_percent#1135,payment_terms#1136,delivery_location#1137,customer_rating#1138,total_sale_value#1139,net_profit#1140] csv\n      :     +- Relation [inspection_id#1244,lobster_id#1245,inspection_date#1246,inspector_name#1247,visual_inspection#1248,size_compliance#1249,shell_integrity#1250,meat_quality#1251,parasite_check#1252,contamination_test#1253,overall_result#1254,inspection_cost#1255,certificate_issued#1256,notes#1257] csv\n      +- Relation [vessel_id#1361,vessel_name#1362,vessel_type#1363,length_feet#1364,beam_feet#1365,hull_material#1366,engine_horsepower#1367,fuel_capacity_gallons#1368,crew_capacity#1369,built_year#1370,home_port#1371,registration_number#1372,insurance_value#1373,gps_equipped#1374,sonar_equipped#1375] csv\n",
          "traceback": [
            "\u001b[0;31m---------------------------------------------------------------------------\u001b[0m",
            "\u001b[0;31mAnalysisException\u001b[0m                         Traceback (most recent call last)",
            "\u001b[0;32m<ipython-input-42-3765544785>\u001b[0m in \u001b[0;36m<cell line: 0>\u001b[0;34m()\u001b[0m\n\u001b[1;32m      2\u001b[0m \u001b[0;34m\u001b[0m\u001b[0m\n\u001b[1;32m      3\u001b[0m \u001b[0mmusim\u001b[0m \u001b[0;34m=\u001b[0m \u001b[0mjoined_df\u001b[0m\u001b[0;34m.\u001b[0m\u001b[0mgroupBy\u001b[0m\u001b[0;34m(\u001b[0m\u001b[0;34m\"species\"\u001b[0m\u001b[0;34m,\u001b[0m \u001b[0;34m\"seasonal_closure_clean\"\u001b[0m\u001b[0;34m)\u001b[0m\u001b[0;31m \u001b[0m\u001b[0;31m\\\u001b[0m\u001b[0;34m\u001b[0m\u001b[0;34m\u001b[0m\u001b[0m\n\u001b[0;32m----> 4\u001b[0;31m     \u001b[0;34m.\u001b[0m\u001b[0magg\u001b[0m\u001b[0;34m(\u001b[0m\u001b[0msum\u001b[0m\u001b[0;34m(\u001b[0m\u001b[0;34m\"total_catch_this_year\"\u001b[0m\u001b[0;34m)\u001b[0m\u001b[0;34m.\u001b[0m\u001b[0malias\u001b[0m\u001b[0;34m(\u001b[0m\u001b[0;34m\"total_catch\"\u001b[0m\u001b[0;34m)\u001b[0m\u001b[0;34m)\u001b[0m\u001b[0;34m\u001b[0m\u001b[0;34m\u001b[0m\u001b[0m\n\u001b[0m\u001b[1;32m      5\u001b[0m \u001b[0;34m\u001b[0m\u001b[0m\n\u001b[1;32m      6\u001b[0m \u001b[0mmusim\u001b[0m\u001b[0;34m.\u001b[0m\u001b[0mshow\u001b[0m\u001b[0;34m(\u001b[0m\u001b[0;34m)\u001b[0m\u001b[0;34m\u001b[0m\u001b[0;34m\u001b[0m\u001b[0m\n",
            "\u001b[0;32m/usr/local/lib/python3.11/dist-packages/pyspark/sql/group.py\u001b[0m in \u001b[0;36magg\u001b[0;34m(self, *exprs)\u001b[0m\n\u001b[1;32m    184\u001b[0m             \u001b[0;32massert\u001b[0m \u001b[0mall\u001b[0m\u001b[0;34m(\u001b[0m\u001b[0misinstance\u001b[0m\u001b[0;34m(\u001b[0m\u001b[0mc\u001b[0m\u001b[0;34m,\u001b[0m \u001b[0mColumn\u001b[0m\u001b[0;34m)\u001b[0m \u001b[0;32mfor\u001b[0m \u001b[0mc\u001b[0m \u001b[0;32min\u001b[0m \u001b[0mexprs\u001b[0m\u001b[0;34m)\u001b[0m\u001b[0;34m,\u001b[0m \u001b[0;34m\"all exprs should be Column\"\u001b[0m\u001b[0;34m\u001b[0m\u001b[0;34m\u001b[0m\u001b[0m\n\u001b[1;32m    185\u001b[0m             \u001b[0mexprs\u001b[0m \u001b[0;34m=\u001b[0m \u001b[0mcast\u001b[0m\u001b[0;34m(\u001b[0m\u001b[0mTuple\u001b[0m\u001b[0;34m[\u001b[0m\u001b[0mColumn\u001b[0m\u001b[0;34m,\u001b[0m \u001b[0;34m...\u001b[0m\u001b[0;34m]\u001b[0m\u001b[0;34m,\u001b[0m \u001b[0mexprs\u001b[0m\u001b[0;34m)\u001b[0m\u001b[0;34m\u001b[0m\u001b[0;34m\u001b[0m\u001b[0m\n\u001b[0;32m--> 186\u001b[0;31m             \u001b[0mjdf\u001b[0m \u001b[0;34m=\u001b[0m \u001b[0mself\u001b[0m\u001b[0;34m.\u001b[0m\u001b[0m_jgd\u001b[0m\u001b[0;34m.\u001b[0m\u001b[0magg\u001b[0m\u001b[0;34m(\u001b[0m\u001b[0mexprs\u001b[0m\u001b[0;34m[\u001b[0m\u001b[0;36m0\u001b[0m\u001b[0;34m]\u001b[0m\u001b[0;34m.\u001b[0m\u001b[0m_jc\u001b[0m\u001b[0;34m,\u001b[0m \u001b[0m_to_seq\u001b[0m\u001b[0;34m(\u001b[0m\u001b[0mself\u001b[0m\u001b[0;34m.\u001b[0m\u001b[0msession\u001b[0m\u001b[0;34m.\u001b[0m\u001b[0m_sc\u001b[0m\u001b[0;34m,\u001b[0m \u001b[0;34m[\u001b[0m\u001b[0mc\u001b[0m\u001b[0;34m.\u001b[0m\u001b[0m_jc\u001b[0m \u001b[0;32mfor\u001b[0m \u001b[0mc\u001b[0m \u001b[0;32min\u001b[0m \u001b[0mexprs\u001b[0m\u001b[0;34m[\u001b[0m\u001b[0;36m1\u001b[0m\u001b[0;34m:\u001b[0m\u001b[0;34m]\u001b[0m\u001b[0;34m]\u001b[0m\u001b[0;34m)\u001b[0m\u001b[0;34m)\u001b[0m\u001b[0;34m\u001b[0m\u001b[0;34m\u001b[0m\u001b[0m\n\u001b[0m\u001b[1;32m    187\u001b[0m         \u001b[0;32mreturn\u001b[0m \u001b[0mDataFrame\u001b[0m\u001b[0;34m(\u001b[0m\u001b[0mjdf\u001b[0m\u001b[0;34m,\u001b[0m \u001b[0mself\u001b[0m\u001b[0;34m.\u001b[0m\u001b[0msession\u001b[0m\u001b[0;34m)\u001b[0m\u001b[0;34m\u001b[0m\u001b[0;34m\u001b[0m\u001b[0m\n\u001b[1;32m    188\u001b[0m \u001b[0;34m\u001b[0m\u001b[0m\n",
            "\u001b[0;32m/usr/local/lib/python3.11/dist-packages/py4j/java_gateway.py\u001b[0m in \u001b[0;36m__call__\u001b[0;34m(self, *args)\u001b[0m\n\u001b[1;32m   1320\u001b[0m \u001b[0;34m\u001b[0m\u001b[0m\n\u001b[1;32m   1321\u001b[0m         \u001b[0manswer\u001b[0m \u001b[0;34m=\u001b[0m \u001b[0mself\u001b[0m\u001b[0;34m.\u001b[0m\u001b[0mgateway_client\u001b[0m\u001b[0;34m.\u001b[0m\u001b[0msend_command\u001b[0m\u001b[0;34m(\u001b[0m\u001b[0mcommand\u001b[0m\u001b[0;34m)\u001b[0m\u001b[0;34m\u001b[0m\u001b[0;34m\u001b[0m\u001b[0m\n\u001b[0;32m-> 1322\u001b[0;31m         return_value = get_return_value(\n\u001b[0m\u001b[1;32m   1323\u001b[0m             answer, self.gateway_client, self.target_id, self.name)\n\u001b[1;32m   1324\u001b[0m \u001b[0;34m\u001b[0m\u001b[0m\n",
            "\u001b[0;32m/usr/local/lib/python3.11/dist-packages/pyspark/errors/exceptions/captured.py\u001b[0m in \u001b[0;36mdeco\u001b[0;34m(*a, **kw)\u001b[0m\n\u001b[1;32m    183\u001b[0m                 \u001b[0;31m# Hide where the exception came from that shows a non-Pythonic\u001b[0m\u001b[0;34m\u001b[0m\u001b[0;34m\u001b[0m\u001b[0m\n\u001b[1;32m    184\u001b[0m                 \u001b[0;31m# JVM exception message.\u001b[0m\u001b[0;34m\u001b[0m\u001b[0;34m\u001b[0m\u001b[0m\n\u001b[0;32m--> 185\u001b[0;31m                 \u001b[0;32mraise\u001b[0m \u001b[0mconverted\u001b[0m \u001b[0;32mfrom\u001b[0m \u001b[0;32mNone\u001b[0m\u001b[0;34m\u001b[0m\u001b[0;34m\u001b[0m\u001b[0m\n\u001b[0m\u001b[1;32m    186\u001b[0m             \u001b[0;32melse\u001b[0m\u001b[0;34m:\u001b[0m\u001b[0;34m\u001b[0m\u001b[0;34m\u001b[0m\u001b[0m\n\u001b[1;32m    187\u001b[0m                 \u001b[0;32mraise\u001b[0m\u001b[0;34m\u001b[0m\u001b[0;34m\u001b[0m\u001b[0m\n",
            "\u001b[0;31mAnalysisException\u001b[0m: [UNRESOLVED_COLUMN.WITH_SUGGESTION] A column or function parameter with name `seasonal_closure_clean` cannot be resolved. Did you mean one of the following? [`seasonal_closure`, `sonar_equipped`, `total_sale_value`, `visual_inspection`, `annual_quota_kg`].;\n'Aggregate [species#18, 'seasonal_closure_clean], [species#18, 'seasonal_closure_clean, sum(total_catch_this_year#906) AS total_catch#5567L]\n+- Project [vessel_id#27, lobster_id#17, fishing_ground_id#28, fisher_id#26, species#18, catch_date#1644, length_cm#355, weight_grams#484, carapace_length_cm#22, grade#23, shell_condition#615, catch_method#25, market_price_per_kg#29, is_alive#30, inspection_passed#31, export_ready#32, fisher_name#894, license_number#895, address#896, city#897, state#898, phone#899, email#900, experience_years#901, ... 60 more fields]\n   +- Join Inner, (vessel_id#27 = vessel_id#1361)\n      :- Project [lobster_id#17, fishing_ground_id#28, fisher_id#26, species#18, catch_date#1644, length_cm#355, weight_grams#484, carapace_length_cm#22, grade#23, shell_condition#615, catch_method#25, vessel_id#27, market_price_per_kg#29, is_alive#30, inspection_passed#31, export_ready#32, fisher_name#894, license_number#895, address#896, city#897, state#898, phone#899, email#900, experience_years#901, ... 46 more fields]\n      :  +- Join Inner, (lobster_id#17 = lobster_id#1245)\n      :     :- Project [lobster_id#17, fishing_ground_id#28, fisher_id#26, species#18, catch_date#1644, length_cm#355, weight_grams#484, carapace_length_cm#22, grade#23, shell_condition#615, catch_method#25, vessel_id#27, market_price_per_kg#29, is_alive#30, inspection_passed#31, export_ready#32, fisher_name#894, license_number#895, address#896, city#897, state#898, phone#899, email#900, experience_years#901, ... 33 more fields]\n      :     :  +- Project [lobster_id#17, fishing_ground_id#28, fisher_id#26, species#18, catch_date#1644, length_cm#355, weight_grams#484, carapace_length_cm#22, grade#23, shell_condition#615, catch_method#25, vessel_id#27, market_price_per_kg#29, is_alive#30, inspection_passed#31, export_ready#32, fisher_name#894, license_number#895, address#896, city#897, state#898, phone#899, email#900, experience_years#901, ... 32 more fields]\n      :     :     +- Join Inner, (lobster_id#17 = lobster_id#1128)\n      :     :        :- Project [fishing_ground_id#28, fisher_id#26, lobster_id#17, species#18, catch_date#1644, length_cm#355, weight_grams#484, carapace_length_cm#22, grade#23, shell_condition#615, catch_method#25, vessel_id#27, market_price_per_kg#29, is_alive#30, inspection_passed#31, export_ready#32, fisher_name#894, license_number#895, address#896, city#897, state#898, phone#899, email#900, experience_years#901, ... 19 more fields]\n      :     :        :  +- Join Inner, (fishing_ground_id#28 = fishing_ground_id#1010)\n      :     :        :     :- Project [fisher_id#26, lobster_id#17, species#18, catch_date#1644, length_cm#355, weight_grams#484, carapace_length_cm#22, grade#23, shell_condition#615, catch_method#25, vessel_id#27, fishing_ground_id#28, market_price_per_kg#29, is_alive#30, inspection_passed#31, export_ready#32, fisher_name#894, license_number#895, address#896, city#897, state#898, phone#899, email#900, experience_years#901, ... 6 more fields]\n      :     :        :     :  +- Project [fisher_id#26, lobster_id#17, species#18, to_date(catch_date#19, Some(M/d/yyyy), Some(Etc/UTC), false) AS catch_date#1644, length_cm#355, weight_grams#484, carapace_length_cm#22, grade#23, shell_condition#615, catch_method#25, vessel_id#27, fishing_ground_id#28, market_price_per_kg#29, is_alive#30, inspection_passed#31, export_ready#32, fisher_name#894, license_number#895, address#896, city#897, state#898, phone#899, email#900, experience_years#901, ... 5 more fields]\n      :     :        :     :     +- Project [fisher_id#26, lobster_id#17, species#18, catch_date#19, length_cm#355, weight_grams#484, carapace_length_cm#22, grade#23, shell_condition#615, catch_method#25, vessel_id#27, fishing_ground_id#28, market_price_per_kg#29, is_alive#30, inspection_passed#31, export_ready#32, fisher_name#894, license_number#895, address#896, city#897, state#898, phone#899, email#900, experience_years#901, ... 5 more fields]\n      :     :        :     :        +- Join Inner, (fisher_id#26 = fisher_id#893)\n      :     :        :     :           :- Project [lobster_id#17, species#18, catch_date#19, length_cm#355, weight_grams#484, carapace_length_cm#22, grade#23, coalesce(shell_condition#582, cast(Unknown as string)) AS shell_condition#615, catch_method#25, fisher_id#26, vessel_id#27, fishing_ground_id#28, market_price_per_kg#29, is_alive#30, inspection_passed#31, export_ready#32]\n      :     :        :     :           :  +- Project [lobster_id#17, species#18, catch_date#19, length_cm#355, weight_grams#484, carapace_length_cm#22, grade#23, cast(shell_condition#24 as string) AS shell_condition#582, catch_method#25, fisher_id#26, vessel_id#27, fishing_ground_id#28, market_price_per_kg#29, is_alive#30, inspection_passed#31, export_ready#32]\n      :     :        :     :           :     +- Project [lobster_id#17, species#18, catch_date#19, length_cm#355, coalesce(nanvl(weight_grams#21, cast(null as double)), cast(844.05 as double)) AS weight_grams#484, carapace_length_cm#22, grade#23, shell_condition#24, catch_method#25, fisher_id#26, vessel_id#27, fishing_ground_id#28, market_price_per_kg#29, is_alive#30, inspection_passed#31, export_ready#32]\n      :     :        :     :           :        +- Project [lobster_id#17, species#18, catch_date#19, coalesce(nanvl(length_cm#20, cast(null as double)), cast(30.02 as double)) AS length_cm#355, weight_grams#21, carapace_length_cm#22, grade#23, shell_condition#24, catch_method#25, fisher_id#26, vessel_id#27, fishing_ground_id#28, market_price_per_kg#29, is_alive#30, inspection_passed#31, export_ready#32]\n      :     :        :     :           :           +- Relation [lobster_id#17,species#18,catch_date#19,length_cm#20,weight_grams#21,carapace_length_cm#22,grade#23,shell_condition#24,catch_method#25,fisher_id#26,vessel_id#27,fishing_ground_id#28,market_price_per_kg#29,is_alive#30,inspection_passed#31,export_ready#32] csv\n      :     :        :     :           +- Relation [fisher_id#893,fisher_name#894,license_number#895,address#896,city#897,state#898,phone#899,email#900,experience_years#901,license_expiry#902,vessel_owner#903,crew_size#904,annual_quota_kg#905,total_catch_this_year#906] csv\n      :     :        :     +- Relation [fishing_ground_id#1010,ground_name#1011,latitude#1012,longitude#1013,water_depth_meters#1014,water_type#1015,average_temperature_c#1016,lobster_density_per_sqkm#1017,seasonal_closure#1018,protected_area#1019,distance_from_shore_km#1020,bottom_type#1021,current_strength#1022,accessibility_rating#1023] csv\n      :     :        +- Relation [sale_id#1127,lobster_id#1128,sale_date#1129,buyer_name#1130,sale_channel#1131,quantity_sold_kg#1132,price_per_kg#1133,transport_cost#1134,commission_percent#1135,payment_terms#1136,delivery_location#1137,customer_rating#1138,total_sale_value#1139,net_profit#1140] csv\n      :     +- Relation [inspection_id#1244,lobster_id#1245,inspection_date#1246,inspector_name#1247,visual_inspection#1248,size_compliance#1249,shell_integrity#1250,meat_quality#1251,parasite_check#1252,contamination_test#1253,overall_result#1254,inspection_cost#1255,certificate_issued#1256,notes#1257] csv\n      +- Relation [vessel_id#1361,vessel_name#1362,vessel_type#1363,length_feet#1364,beam_feet#1365,hull_material#1366,engine_horsepower#1367,fuel_capacity_gallons#1368,crew_capacity#1369,built_year#1370,home_port#1371,registration_number#1372,insurance_value#1373,gps_equipped#1374,sonar_equipped#1375] csv\n"
          ]
        }
      ]
    },
    {
      "cell_type": "markdown",
      "source": [
        "# INNER JOIN KE DATASET 1 DAN 4"
      ],
      "metadata": {
        "id": "VoedJyPzii0t"
      }
    },
    {
      "cell_type": "code",
      "source": [
        "# 8. Lakukan inner join antara joined_df dan df_lobster_market_sales_dataset (Corrected based on 'on' column)\n",
        "joined_df = joined_df.join(df_lobster_market_sales_dataset, on=[\"lobster_id\"], how=\"inner\")\n",
        "\n",
        "joined_df.show()"
      ],
      "metadata": {
        "colab": {
          "base_uri": "https://localhost:8080/"
        },
        "id": "PL9ilCETirau",
        "outputId": "1889a12d-6497-4779-9b95-61e6769fc12e"
      },
      "execution_count": null,
      "outputs": [
        {
          "output_type": "stream",
          "name": "stdout",
          "text": [
            "+----------+-----------------+---------+----------------+----------+---------+------------+------------------+-------+---------------+------------+---------+-------------------+--------+-----------------+------------+-----------------+--------------+--------------------+--------------------+--------------+--------------------+--------------------+----------------+--------------+------------+---------+---------------+---------------------+----------+--------------------+---------+----------+------------------+-----------------+---------------------+------------------------+----------------+--------------+----------------------+-----------+----------------+--------------------+---------+----------+-------------------+---------------+----------------+------------+--------------+------------------+-------------+-----------------+---------------+------------------+-------------------+\n",
            "|lobster_id|fishing_ground_id|fisher_id|         species|catch_date|length_cm|weight_grams|carapace_length_cm|  grade|shell_condition|catch_method|vessel_id|market_price_per_kg|is_alive|inspection_passed|export_ready|      fisher_name|license_number|             address|                city|         state|               phone|               email|experience_years|license_expiry|vessel_owner|crew_size|annual_quota_kg|total_catch_this_year|catch_year|         ground_name| latitude| longitude|water_depth_meters|       water_type|average_temperature_c|lobster_density_per_sqkm|seasonal_closure|protected_area|distance_from_shore_km|bottom_type|current_strength|accessibility_rating|  sale_id| sale_date|         buyer_name|   sale_channel|quantity_sold_kg|price_per_kg|transport_cost|commission_percent|payment_terms|delivery_location|customer_rating|  total_sale_value|         net_profit|\n",
            "+----------+-----------------+---------+----------------+----------+---------+------------+------------------+-------+---------------+------------+---------+-------------------+--------+-----------------+------------+-----------------+--------------+--------------------+--------------------+--------------+--------------------+--------------------+----------------+--------------+------------+---------+---------------+---------------------+----------+--------------------+---------+----------+------------------+-----------------+---------------------+------------------------+----------------+--------------+----------------------+-----------+----------------+--------------------+---------+----------+-------------------+---------------+----------------+------------+--------------+------------------+-------------+-----------------+---------------+------------------+-------------------+\n",
            "|  LOB00001|            FG003|   FSH005|American Lobster|2023-10-05|    15.75|       557.5|             10.23|Grade A|     Hard Shell|Hand Picking|   VSL002|              37.03|    true|             true|       false|     Keith Miller|      LIC31000|74293 Jessica Fal...|          West David|      Illinois|   454-659-2473x8532| lfranco@example.net|              16|    2026-02-18|        true|        7|           4098|                 3631|      2023|  Lake Melissa Ridge|43.151354|-70.060466|               186|       Deep Water|                  8.5|                     417|            true|         false|                  59.9|      Rocky|        Moderate|                   2|SALE02966|2024-10-29|   Seafood Market A|       Contract|            1.08|       30.39|          9.23|               6.6|       Net 15| New Jennifertown|              5|32.821200000000005| 21.425000800000003|\n",
            "|  LOB00002|            FG007|   FSH036|European Lobster|2024-08-09|    28.48|       561.6|             16.69|Grade B|    Paper Shell|    Trawling|   VSL010|              77.65|   false|             true|        true|     Timothy Hall|      LIC59702|3871 Vanessa Park...|North Deborahborough|      Virginia|  223.290.7348x93467|hfitzgerald@examp...|               3|    2026-11-04|       false|        6|           2767|                 1336|      2024|    Keychester Shelf|41.234383|-73.786059|               183|       Deep Water|                 13.6|                     201|            true|          true|                  47.1|      Mixed|          Strong|                   5|SALE04742|2024-10-18| Restaurant Chain B|    Direct Sale|            0.71|       36.62|         23.42|               8.4|       Net 30|   South Joyville|              3|26.000199999999996| 0.3961831999999945|\n",
            "|  LOB00004|            FG021|   FSH036|American Lobster|2024-10-25|    34.84|      1205.0|             17.85|Grade B|     Hard Shell|Hand Picking|   VSL030|              70.88|    true|            false|       false|     Timothy Hall|      LIC59702|3871 Vanessa Park...|North Deborahborough|      Virginia|  223.290.7348x93467|hfitzgerald@examp...|               3|    2026-11-04|       false|        6|           2767|                 1336|      2024|West Benjaminboro...|37.864626|-67.354359|                29|Continental Shelf|                 14.7|                     226|           false|          true|                  36.5|      Rocky|        Moderate|                   9|SALE05981|2024-09-12|Local Distributor D|        Auction|             1.2|       85.87|          5.33|              11.0|       Net 15|     Port Kristen|              2|           103.044|           86.37916|\n",
            "|  LOB00005|            FG013|   FSH021|European Lobster|2024-09-22|    35.11|      1112.4|             14.84|Grade A|     Soft Shell|      Diving|   VSL030|              39.85|    true|            false|        true|    Erin Atkinson|      LIC15806|5722 Mueller Terr...|      North Jennifer|         Texas|    001-344-417-0544|kylealvarez@examp...|              10|    2025-12-19|        true|        7|           1087|                 1754|      2024|      Joshuaton Area|35.973523|-70.581948|                41|          Coastal|                 11.8|                     327|            true|         false|                  45.3|      Rocky|            Weak|                   3|SALE04395|2025-03-02|Local Distributor D|       Contract|            1.14|       63.54|         36.06|               9.7|       Net 15|      Kennedybury|              4|           72.4356| 29.349346799999992|\n",
            "|  LOB00006|            FG016|   FSH028|European Lobster|2024-01-26|    39.65|      1246.6|             12.01|Grade A|     Soft Shell|    Trawling|   VSL042|              46.76|   false|             true|       false|   Krystal Palmer|      LIC54809|3049 Mann Squares...|  West Jennifermouth|       Georgia|        478.287.1823| dylan46@example.com|              23|    2027-04-21|        true|        3|           1205|                  840|      2024|    East Donna Ridge|40.442365| -67.18777|                75|     Sandy Bottom|                 10.0|                     145|           false|         false|                  74.4|      Muddy|        Moderate|                   5|SALE05068|2025-05-29| Processing Plant E|    Direct Sale|            0.82|       50.53|          32.1|               6.8|       Net 15|       Lake Diane|              4|41.434599999999996|  6.517047199999995|\n",
            "|  LOB00007|            FG017|   FSH029|European Lobster|2024-12-01|     22.4|       929.8|             10.63| Reject|    Paper Shell|    Trawling|   VSL009|              52.14|    true|             true|        true|    Lauren Kramer|      LIC47022|830 Tucker Tunnel...|           East Paul|      New York|        679-496-2997| derek49@example.org|              29|    2025-12-17|       false|        3|           2092|                 1650|      2024|   New Melissa Banks|45.446216|-69.982816|               143|          Coastal|                 14.3|                     169|           false|          true|                  94.3|      Rocky|            Weak|                   1|SALE05389|2024-08-18|   Seafood Market A|    Direct Sale|            1.42|       62.54|         35.78|              12.3|         Cash|       Connorland|              3|           88.8068| 42.103563599999994|\n",
            "|  LOB00008|            FG022|   FSH071|European Lobster|2024-02-24|    38.76|       748.8|              8.64| Reject|    Paper Shell|    Trawling|   VSL001|              64.64|   false|            false|        true|     Thomas Stone|      LIC94687|USNS Evans\\nFPO A...|          Andreafort|      Arkansas|  (781)839-4554x5051|danielle11@exampl...|              27|    2027-02-09|       false|        7|           4069|                 1921|      2024|      Erinton Ground| 42.45049|-67.379435|                27|       Deep Water|                 11.5|                     186|           false|          true|                  96.7|      Mixed|        Moderate|                   6|SALE03556|2024-09-17|Local Distributor D|Online Platform|            1.15|       37.11|         49.09|              11.4|          COD|      Winterstown|              2|           42.6765|-11.278621000000005|\n",
            "|  LOB00009|            FG021|   FSH081|   Spiny Lobster|2024-08-10|    28.04|       789.8|             17.54|Grade C|     Soft Shell|        Trap|   VSL020|              52.92|    true|             true|       false|       Tyler West|      LIC61415|1447 Brenda Garde...|     Port Brianville|       Vermont|   (342)207-4373x017|michaelrodriguez@...|              10|    2026-05-01|        true|        6|           3894|                 1161|      2024|West Benjaminboro...|37.864626|-67.354359|                29|Continental Shelf|                 14.7|                     226|           false|          true|                  36.5|      Rocky|        Moderate|                   9|SALE03335|2025-03-14| Restaurant Chain B|        Auction|            0.84|       88.96|         43.04|               9.6|         Cash|   Port Aaronfurt|              3|           74.7264|         24.5126656|\n",
            "|  LOB00010|            FG012|   FSH003|European Lobster|2025-04-15|    31.18|      1212.2|              13.3|Grade A|         Peeler|Hand Picking|   VSL008|              73.33|   false|             true|        true|      Julie Smith|      LIC23718|PSC 6720, Box 576...|          Ortizhaven|      Delaware|          9266691811|gregory22@example...|              13|    2026-08-14|        true|        1|           4194|                 1600|      2025|   Michaelbury Banks|39.214566| -69.61368|                26|Continental Shelf|                 11.0|                     120|           false|         false|                  62.6|      Mixed|        Moderate|                   2|SALE05770|2024-10-20|   Export Company C|       Contract|            1.46|       85.97|         47.06|               7.1|          COD|    Port Jennifer|              5|          125.5162|         69.5445498|\n",
            "|  LOB00012|            FG015|   FSH057|European Lobster|2023-10-09|    42.87|      1181.8|              14.9|Grade C|    Paper Shell|    Trawling|   VSL034|              31.66|    true|             true|       false|   Logan Randolph|      LIC33067|02797 Mills Shore...|       Kathleenmouth|        Oregon|001-246-608-0294x265|  kclark@example.org|              28|    2025-09-10|       false|        6|           2347|                 3829|      2023|   New Thomas Ground|38.604152|-65.333126|               160|          Coastal|                 10.7|                     114|           false|         false|                  48.4|      Mixed|          Strong|                   5|SALE01207|2024-07-04| Restaurant Chain B|Online Platform|            0.91|       76.56|         42.61|               5.9|       Net 15|     Port Richard|              2|           69.6696| 22.949093600000005|\n",
            "|  LOB00014|            FG004|   FSH053|European Lobster|2024-09-26|    31.18|      1140.4|             16.82| Reject|     Soft Shell|Hand Picking|   VSL013|              30.33|   false|            false|       false|  Laura Blanchard|      LIC65632|87286 Theresa Pla...|         Harpershire|South Carolina|    438-541-7130x133|joshuajackson@exa...|              17|    2027-01-27|        true|        1|           4363|                  375|      2024| Morenoborough Ridge|44.937554|-71.608866|                65|     Sandy Bottom|                 16.0|                     266|           false|          true|                  20.1|      Sandy|          Strong|                   7|SALE01210|2025-03-20| Processing Plant E|       Contract|             1.0|       43.15|         14.04|               9.8|          COD|      West Robert|              2|             43.15|            24.8813|\n",
            "|  LOB00015|            FG004|   FSH094|    Rock Lobster|2023-08-11|    29.01|      1147.8|             14.73|Grade A|     Hard Shell|Hand Picking|   VSL022|              38.68|    true|            false|        true|     Lisa Freeman|      LIC63799|5624 Cindy Brook\\...|           Jamesport|    New Mexico|+1-487-602-2743x0504|joseph47@example.com|              28|    2025-11-05|        true|        7|           3633|                 1183|      2023| Morenoborough Ridge|44.937554|-71.608866|                65|     Sandy Bottom|                 16.0|                     266|           false|          true|                  20.1|      Sandy|          Strong|                   7|SALE03445|2024-07-15|   Export Company C|Online Platform|            1.13|       73.34|          45.2|               7.2|       Net 15|     Aaronchester|              5|           82.8742|         31.7072576|\n",
            "|  LOB00016|            FG018|   FSH007|    Rock Lobster|2024-10-19|     20.5|       801.4|             16.74|Grade A|        Unknown|        Trap|   VSL042|              70.98|    true|             true|        true|      Bruce Brown|      LIC97752|5787 Mclaughlin V...|         Allisonside|      Colorado|        380-762-7748|  adam46@example.net|              27|    2026-07-23|        true|        4|           4311|                 2808|      2024|  Mckinneyport Shelf|42.243998|-71.638338|               177|     Sandy Bottom|                 17.9|                     219|            true|          true|                  23.6|      Sandy|        Moderate|                   3|SALE00828|2024-11-23| Restaurant Chain B|       Contract|            1.14|       63.94|          33.9|               5.7|         Cash|        Hollyport|              1|           72.8916|         34.8367788|\n",
            "|  LOB00018|            FG002|   FSH096| Slipper Lobster|2023-10-24|    34.86|       832.7|               9.9|Grade B|     Hard Shell|        Trap|   VSL021|              27.76|   false|             true|        true|      Kyle Nguyen|      LIC48437|3346 Fowler Orcha...|     Benjaminborough|      Missouri|       (253)946-0394|melanieallen@exam...|              25|    2027-02-23|        true|        4|           2153|                 1721|      2023| Lake Amberton Ridge|37.909529|-68.968687|                46|          Coastal|                 15.9|                     358|           false|         false|                  63.6|      Mixed|          Strong|                   8|SALE02823|2024-08-21| Restaurant Chain B|    Direct Sale|            0.57|       61.83|          9.81|               9.4|       Net 15|      Schultzbury|              5|           35.2431| 22.120248599999996|\n",
            "|  LOB00019|            FG019|   FSH073| Slipper Lobster|2023-10-08|     17.4|       441.6|             13.95|Grade B|    Paper Shell|        Trap|   VSL016|               57.7|    true|            false|       false|Jacqueline Harris|      LIC35637|6329 Joseph Garde...|          South Anne| Massachusetts|    001-699-876-1043|rferguson@example...|              36|    2026-01-10|        true|        2|           1790|                 2988|      2023|West Brittanyches...|45.140069|-70.941468|                27|     Rocky Bottom|                  9.7|                      75|            true|          true|                  87.1|      Mixed|            Weak|                   2|SALE01882|2025-02-16|   Seafood Market A|Online Platform|            0.29|       58.36|         26.42|              10.7|          COD|  East Justinfort|              2|           16.9244|-11.306510800000003|\n",
            "|  LOB00020|            FG025|   FSH059|   Spiny Lobster|2024-03-19|    21.13|      1131.0|             10.39| Reject|     Soft Shell|    Trawling|   VSL021|              76.47|    true|            false|        true|     Carol Hayden|      LIC37521|USCGC Whitaker\\nF...|       South Jessica|  North Dakota|    001-243-644-1108|qkennedy@example.com|               5|    2026-08-26|       false|        6|           2153|                  459|      2024|   Lake Donald Shelf|39.601839| -72.03405|               160|     Rocky Bottom|                 16.3|                     474|           false|         false|                  29.5|      Muddy|          Strong|                   7|SALE04821|2024-11-02|   Export Company C|        Auction|            0.88|       51.59|         15.43|              12.0|         Cash| South Henryville|              1|           45.3992|          24.521296|\n",
            "|  LOB00021|            FG006|   FSH048|American Lobster|2023-06-25|    31.13|       857.7|              9.32|Grade C|     Hard Shell|      Diving|   VSL019|               49.1|   false|             true|       false|    John Matthews|      LIC38903|8797 Ryan Dam Sui...|       West Kimberly|        Oregon| +1-903-717-8841x843|jonespatrick@exam...|              31|    2025-06-27|       false|        6|           4091|                 1833|      2023|   West Ashley Shelf|37.701107|-68.981238|               192|          Coastal|                 14.3|                     299|           false|         false|                  43.3|      Rocky|            Weak|                   6|SALE07748|2025-03-03| Restaurant Chain B|       Contract|            0.39|       68.45|         30.85|               9.7|         Cash|     North Leslie|              5|26.695500000000003| -6.743963499999999|\n",
            "|  LOB00023|            FG025|   FSH001|   Spiny Lobster|2023-08-14|    42.16|      1299.9|              8.92| Reject|         Peeler|        Trap|   VSL022|               32.2|   false|             true|       false|  Courtney Harris|      LIC31125|624 Samantha Aven...|          Port Robin|     Minnesota|     +1-416-342-6015|hamiltoncassandra...|               1|    2027-01-10|        true|        8|           1329|                 2819|      2023|   Lake Donald Shelf|39.601839| -72.03405|               160|     Rocky Bottom|                 16.3|                     474|           false|         false|                  29.5|      Muddy|          Strong|                   7|SALE03631|2024-11-24| Processing Plant E|Online Platform|            1.15|       77.88|         32.82|              13.3|         Cash|  Kimberlyborough|              5| 89.56199999999998|  44.83025399999998|\n",
            "|  LOB00026|            FG004|   FSH021|    Rock Lobster|2023-08-12|    15.74|      1157.5|             11.32| Reject|     Soft Shell|    Trawling|   VSL045|              46.04|    true|            false|        true|    Erin Atkinson|      LIC15806|5722 Mueller Terr...|      North Jennifer|         Texas|    001-344-417-0544|kylealvarez@examp...|              10|    2025-12-19|        true|        7|           1087|                 1754|      2023| Morenoborough Ridge|44.937554|-71.608866|                65|     Sandy Bottom|                 16.0|                     266|           false|          true|                  20.1|      Sandy|          Strong|                   7|SALE05526|2025-01-17|   Export Company C|Online Platform|            0.47|       45.23|         30.35|              10.5|       Net 30|   Lake Carolfort|              5|           21.2581|-11.324000500000002|\n",
            "|  LOB00027|            FG013|   FSH085|European Lobster|2023-07-15|     39.5|       798.4|             11.05|Grade B|     Soft Shell|        Trap|   VSL013|              43.05|    true|            false|       false|    Jennifer Hill|      LIC79462|13872 Jerry Summi...|          Robertstad|       Arizona|  (494)240-4279x2014|fordstacey@exampl...|              22|    2025-08-21|        true|        2|           2893|                 1623|      2023|      Joshuaton Area|35.973523|-70.581948|                41|          Coastal|                 11.8|                     327|            true|         false|                  45.3|      Rocky|            Weak|                   3|SALE06977|2025-02-15| Processing Plant E|       Contract|            0.26|       63.87|         45.54|              13.0|          COD|    Port Johnland|              4|           16.6062|-31.092605999999996|\n",
            "+----------+-----------------+---------+----------------+----------+---------+------------+------------------+-------+---------------+------------+---------+-------------------+--------+-----------------+------------+-----------------+--------------+--------------------+--------------------+--------------+--------------------+--------------------+----------------+--------------+------------+---------+---------------+---------------------+----------+--------------------+---------+----------+------------------+-----------------+---------------------+------------------------+----------------+--------------+----------------------+-----------+----------------+--------------------+---------+----------+-------------------+---------------+----------------+------------+--------------+------------------+-------------+-----------------+---------------+------------------+-------------------+\n",
            "only showing top 20 rows\n",
            "\n"
          ]
        }
      ]
    },
    {
      "cell_type": "code",
      "source": [
        "from pyspark.sql.functions import year, col\n",
        "\n",
        "# Extract 'sale_year' from the 'sale_date' column\n",
        "# 'sale_date' is already a DateType according to the schema, so no need to convert with to_date\n",
        "joined_df = joined_df.withColumn('sale_year', year(col('sale_date')))\n",
        "\n",
        "# For seeing the results\n",
        "joined_df.select(\"sale_date\", \"sale_year\").show(5)\n",
        "joined_df.printSchema()"
      ],
      "metadata": {
        "colab": {
          "base_uri": "https://localhost:8080/"
        },
        "id": "wb8Bw3C-kPu2",
        "outputId": "547e7632-478b-420e-ee96-67192dd7be7e"
      },
      "execution_count": null,
      "outputs": [
        {
          "output_type": "stream",
          "name": "stdout",
          "text": [
            "+----------+---------+\n",
            "| sale_date|sale_year|\n",
            "+----------+---------+\n",
            "|2024-10-29|     2024|\n",
            "|2024-10-18|     2024|\n",
            "|2024-09-12|     2024|\n",
            "|2025-03-02|     2025|\n",
            "|2025-05-29|     2025|\n",
            "+----------+---------+\n",
            "only showing top 5 rows\n",
            "\n",
            "root\n",
            " |-- lobster_id: string (nullable = true)\n",
            " |-- fishing_ground_id: string (nullable = true)\n",
            " |-- fisher_id: string (nullable = true)\n",
            " |-- species: string (nullable = true)\n",
            " |-- catch_date: date (nullable = true)\n",
            " |-- length_cm: double (nullable = false)\n",
            " |-- weight_grams: double (nullable = false)\n",
            " |-- carapace_length_cm: double (nullable = true)\n",
            " |-- grade: string (nullable = true)\n",
            " |-- shell_condition: string (nullable = false)\n",
            " |-- catch_method: string (nullable = true)\n",
            " |-- vessel_id: string (nullable = true)\n",
            " |-- market_price_per_kg: double (nullable = true)\n",
            " |-- is_alive: boolean (nullable = true)\n",
            " |-- inspection_passed: boolean (nullable = true)\n",
            " |-- export_ready: boolean (nullable = true)\n",
            " |-- fisher_name: string (nullable = true)\n",
            " |-- license_number: string (nullable = true)\n",
            " |-- address: string (nullable = true)\n",
            " |-- city: string (nullable = true)\n",
            " |-- state: string (nullable = true)\n",
            " |-- phone: string (nullable = true)\n",
            " |-- email: string (nullable = true)\n",
            " |-- experience_years: integer (nullable = true)\n",
            " |-- license_expiry: date (nullable = true)\n",
            " |-- vessel_owner: boolean (nullable = true)\n",
            " |-- crew_size: integer (nullable = true)\n",
            " |-- annual_quota_kg: integer (nullable = true)\n",
            " |-- total_catch_this_year: integer (nullable = true)\n",
            " |-- catch_year: integer (nullable = true)\n",
            " |-- ground_name: string (nullable = true)\n",
            " |-- latitude: double (nullable = true)\n",
            " |-- longitude: double (nullable = true)\n",
            " |-- water_depth_meters: integer (nullable = true)\n",
            " |-- water_type: string (nullable = true)\n",
            " |-- average_temperature_c: double (nullable = true)\n",
            " |-- lobster_density_per_sqkm: integer (nullable = true)\n",
            " |-- seasonal_closure: boolean (nullable = true)\n",
            " |-- protected_area: boolean (nullable = true)\n",
            " |-- distance_from_shore_km: double (nullable = true)\n",
            " |-- bottom_type: string (nullable = true)\n",
            " |-- current_strength: string (nullable = true)\n",
            " |-- accessibility_rating: integer (nullable = true)\n",
            " |-- sale_id: string (nullable = true)\n",
            " |-- sale_date: date (nullable = true)\n",
            " |-- buyer_name: string (nullable = true)\n",
            " |-- sale_channel: string (nullable = true)\n",
            " |-- quantity_sold_kg: double (nullable = true)\n",
            " |-- price_per_kg: double (nullable = true)\n",
            " |-- transport_cost: double (nullable = true)\n",
            " |-- commission_percent: double (nullable = true)\n",
            " |-- payment_terms: string (nullable = true)\n",
            " |-- delivery_location: string (nullable = true)\n",
            " |-- customer_rating: integer (nullable = true)\n",
            " |-- total_sale_value: double (nullable = true)\n",
            " |-- net_profit: double (nullable = true)\n",
            " |-- sale_year: integer (nullable = true)\n",
            "\n"
          ]
        }
      ]
    },
    {
      "cell_type": "code",
      "source": [
        "joined_df.show()"
      ],
      "metadata": {
        "colab": {
          "base_uri": "https://localhost:8080/"
        },
        "id": "gJbeg-J1lcek",
        "outputId": "0ad00159-a53f-43e5-d953-db79aa40f57d"
      },
      "execution_count": null,
      "outputs": [
        {
          "output_type": "stream",
          "name": "stdout",
          "text": [
            "+----------+-----------------+---------+----------------+----------+---------+------------+------------------+-------+---------------+------------+---------+-------------------+--------+-----------------+------------+-----------------+--------------+--------------------+--------------------+--------------+--------------------+--------------------+----------------+--------------+------------+---------+---------------+---------------------+----------+--------------------+---------+----------+------------------+-----------------+---------------------+------------------------+----------------+--------------+----------------------+-----------+----------------+--------------------+---------+----------+-------------------+---------------+----------------+------------+--------------+------------------+-------------+-----------------+---------------+------------------+-------------------+---------+\n",
            "|lobster_id|fishing_ground_id|fisher_id|         species|catch_date|length_cm|weight_grams|carapace_length_cm|  grade|shell_condition|catch_method|vessel_id|market_price_per_kg|is_alive|inspection_passed|export_ready|      fisher_name|license_number|             address|                city|         state|               phone|               email|experience_years|license_expiry|vessel_owner|crew_size|annual_quota_kg|total_catch_this_year|catch_year|         ground_name| latitude| longitude|water_depth_meters|       water_type|average_temperature_c|lobster_density_per_sqkm|seasonal_closure|protected_area|distance_from_shore_km|bottom_type|current_strength|accessibility_rating|  sale_id| sale_date|         buyer_name|   sale_channel|quantity_sold_kg|price_per_kg|transport_cost|commission_percent|payment_terms|delivery_location|customer_rating|  total_sale_value|         net_profit|sale_year|\n",
            "+----------+-----------------+---------+----------------+----------+---------+------------+------------------+-------+---------------+------------+---------+-------------------+--------+-----------------+------------+-----------------+--------------+--------------------+--------------------+--------------+--------------------+--------------------+----------------+--------------+------------+---------+---------------+---------------------+----------+--------------------+---------+----------+------------------+-----------------+---------------------+------------------------+----------------+--------------+----------------------+-----------+----------------+--------------------+---------+----------+-------------------+---------------+----------------+------------+--------------+------------------+-------------+-----------------+---------------+------------------+-------------------+---------+\n",
            "|  LOB00001|            FG003|   FSH005|American Lobster|2023-10-05|    15.75|       557.5|             10.23|Grade A|     Hard Shell|Hand Picking|   VSL002|              37.03|    true|             true|       false|     Keith Miller|      LIC31000|74293 Jessica Fal...|          West David|      Illinois|   454-659-2473x8532| lfranco@example.net|              16|    2026-02-18|        true|        7|           4098|                 3631|      2023|  Lake Melissa Ridge|43.151354|-70.060466|               186|       Deep Water|                  8.5|                     417|            true|         false|                  59.9|      Rocky|        Moderate|                   2|SALE02966|2024-10-29|   Seafood Market A|       Contract|            1.08|       30.39|          9.23|               6.6|       Net 15| New Jennifertown|              5|32.821200000000005| 21.425000800000003|     2024|\n",
            "|  LOB00002|            FG007|   FSH036|European Lobster|2024-08-09|    28.48|       561.6|             16.69|Grade B|    Paper Shell|    Trawling|   VSL010|              77.65|   false|             true|        true|     Timothy Hall|      LIC59702|3871 Vanessa Park...|North Deborahborough|      Virginia|  223.290.7348x93467|hfitzgerald@examp...|               3|    2026-11-04|       false|        6|           2767|                 1336|      2024|    Keychester Shelf|41.234383|-73.786059|               183|       Deep Water|                 13.6|                     201|            true|          true|                  47.1|      Mixed|          Strong|                   5|SALE04742|2024-10-18| Restaurant Chain B|    Direct Sale|            0.71|       36.62|         23.42|               8.4|       Net 30|   South Joyville|              3|26.000199999999996| 0.3961831999999945|     2024|\n",
            "|  LOB00004|            FG021|   FSH036|American Lobster|2024-10-25|    34.84|      1205.0|             17.85|Grade B|     Hard Shell|Hand Picking|   VSL030|              70.88|    true|            false|       false|     Timothy Hall|      LIC59702|3871 Vanessa Park...|North Deborahborough|      Virginia|  223.290.7348x93467|hfitzgerald@examp...|               3|    2026-11-04|       false|        6|           2767|                 1336|      2024|West Benjaminboro...|37.864626|-67.354359|                29|Continental Shelf|                 14.7|                     226|           false|          true|                  36.5|      Rocky|        Moderate|                   9|SALE05981|2024-09-12|Local Distributor D|        Auction|             1.2|       85.87|          5.33|              11.0|       Net 15|     Port Kristen|              2|           103.044|           86.37916|     2024|\n",
            "|  LOB00005|            FG013|   FSH021|European Lobster|2024-09-22|    35.11|      1112.4|             14.84|Grade A|     Soft Shell|      Diving|   VSL030|              39.85|    true|            false|        true|    Erin Atkinson|      LIC15806|5722 Mueller Terr...|      North Jennifer|         Texas|    001-344-417-0544|kylealvarez@examp...|              10|    2025-12-19|        true|        7|           1087|                 1754|      2024|      Joshuaton Area|35.973523|-70.581948|                41|          Coastal|                 11.8|                     327|            true|         false|                  45.3|      Rocky|            Weak|                   3|SALE04395|2025-03-02|Local Distributor D|       Contract|            1.14|       63.54|         36.06|               9.7|       Net 15|      Kennedybury|              4|           72.4356| 29.349346799999992|     2025|\n",
            "|  LOB00006|            FG016|   FSH028|European Lobster|2024-01-26|    39.65|      1246.6|             12.01|Grade A|     Soft Shell|    Trawling|   VSL042|              46.76|   false|             true|       false|   Krystal Palmer|      LIC54809|3049 Mann Squares...|  West Jennifermouth|       Georgia|        478.287.1823| dylan46@example.com|              23|    2027-04-21|        true|        3|           1205|                  840|      2024|    East Donna Ridge|40.442365| -67.18777|                75|     Sandy Bottom|                 10.0|                     145|           false|         false|                  74.4|      Muddy|        Moderate|                   5|SALE05068|2025-05-29| Processing Plant E|    Direct Sale|            0.82|       50.53|          32.1|               6.8|       Net 15|       Lake Diane|              4|41.434599999999996|  6.517047199999995|     2025|\n",
            "|  LOB00007|            FG017|   FSH029|European Lobster|2024-12-01|     22.4|       929.8|             10.63| Reject|    Paper Shell|    Trawling|   VSL009|              52.14|    true|             true|        true|    Lauren Kramer|      LIC47022|830 Tucker Tunnel...|           East Paul|      New York|        679-496-2997| derek49@example.org|              29|    2025-12-17|       false|        3|           2092|                 1650|      2024|   New Melissa Banks|45.446216|-69.982816|               143|          Coastal|                 14.3|                     169|           false|          true|                  94.3|      Rocky|            Weak|                   1|SALE05389|2024-08-18|   Seafood Market A|    Direct Sale|            1.42|       62.54|         35.78|              12.3|         Cash|       Connorland|              3|           88.8068| 42.103563599999994|     2024|\n",
            "|  LOB00008|            FG022|   FSH071|European Lobster|2024-02-24|    38.76|       748.8|              8.64| Reject|    Paper Shell|    Trawling|   VSL001|              64.64|   false|            false|        true|     Thomas Stone|      LIC94687|USNS Evans\\nFPO A...|          Andreafort|      Arkansas|  (781)839-4554x5051|danielle11@exampl...|              27|    2027-02-09|       false|        7|           4069|                 1921|      2024|      Erinton Ground| 42.45049|-67.379435|                27|       Deep Water|                 11.5|                     186|           false|          true|                  96.7|      Mixed|        Moderate|                   6|SALE03556|2024-09-17|Local Distributor D|Online Platform|            1.15|       37.11|         49.09|              11.4|          COD|      Winterstown|              2|           42.6765|-11.278621000000005|     2024|\n",
            "|  LOB00009|            FG021|   FSH081|   Spiny Lobster|2024-08-10|    28.04|       789.8|             17.54|Grade C|     Soft Shell|        Trap|   VSL020|              52.92|    true|             true|       false|       Tyler West|      LIC61415|1447 Brenda Garde...|     Port Brianville|       Vermont|   (342)207-4373x017|michaelrodriguez@...|              10|    2026-05-01|        true|        6|           3894|                 1161|      2024|West Benjaminboro...|37.864626|-67.354359|                29|Continental Shelf|                 14.7|                     226|           false|          true|                  36.5|      Rocky|        Moderate|                   9|SALE03335|2025-03-14| Restaurant Chain B|        Auction|            0.84|       88.96|         43.04|               9.6|         Cash|   Port Aaronfurt|              3|           74.7264|         24.5126656|     2025|\n",
            "|  LOB00010|            FG012|   FSH003|European Lobster|2025-04-15|    31.18|      1212.2|              13.3|Grade A|         Peeler|Hand Picking|   VSL008|              73.33|   false|             true|        true|      Julie Smith|      LIC23718|PSC 6720, Box 576...|          Ortizhaven|      Delaware|          9266691811|gregory22@example...|              13|    2026-08-14|        true|        1|           4194|                 1600|      2025|   Michaelbury Banks|39.214566| -69.61368|                26|Continental Shelf|                 11.0|                     120|           false|         false|                  62.6|      Mixed|        Moderate|                   2|SALE05770|2024-10-20|   Export Company C|       Contract|            1.46|       85.97|         47.06|               7.1|          COD|    Port Jennifer|              5|          125.5162|         69.5445498|     2024|\n",
            "|  LOB00012|            FG015|   FSH057|European Lobster|2023-10-09|    42.87|      1181.8|              14.9|Grade C|    Paper Shell|    Trawling|   VSL034|              31.66|    true|             true|       false|   Logan Randolph|      LIC33067|02797 Mills Shore...|       Kathleenmouth|        Oregon|001-246-608-0294x265|  kclark@example.org|              28|    2025-09-10|       false|        6|           2347|                 3829|      2023|   New Thomas Ground|38.604152|-65.333126|               160|          Coastal|                 10.7|                     114|           false|         false|                  48.4|      Mixed|          Strong|                   5|SALE01207|2024-07-04| Restaurant Chain B|Online Platform|            0.91|       76.56|         42.61|               5.9|       Net 15|     Port Richard|              2|           69.6696| 22.949093600000005|     2024|\n",
            "|  LOB00014|            FG004|   FSH053|European Lobster|2024-09-26|    31.18|      1140.4|             16.82| Reject|     Soft Shell|Hand Picking|   VSL013|              30.33|   false|            false|       false|  Laura Blanchard|      LIC65632|87286 Theresa Pla...|         Harpershire|South Carolina|    438-541-7130x133|joshuajackson@exa...|              17|    2027-01-27|        true|        1|           4363|                  375|      2024| Morenoborough Ridge|44.937554|-71.608866|                65|     Sandy Bottom|                 16.0|                     266|           false|          true|                  20.1|      Sandy|          Strong|                   7|SALE01210|2025-03-20| Processing Plant E|       Contract|             1.0|       43.15|         14.04|               9.8|          COD|      West Robert|              2|             43.15|            24.8813|     2025|\n",
            "|  LOB00015|            FG004|   FSH094|    Rock Lobster|2023-08-11|    29.01|      1147.8|             14.73|Grade A|     Hard Shell|Hand Picking|   VSL022|              38.68|    true|            false|        true|     Lisa Freeman|      LIC63799|5624 Cindy Brook\\...|           Jamesport|    New Mexico|+1-487-602-2743x0504|joseph47@example.com|              28|    2025-11-05|        true|        7|           3633|                 1183|      2023| Morenoborough Ridge|44.937554|-71.608866|                65|     Sandy Bottom|                 16.0|                     266|           false|          true|                  20.1|      Sandy|          Strong|                   7|SALE03445|2024-07-15|   Export Company C|Online Platform|            1.13|       73.34|          45.2|               7.2|       Net 15|     Aaronchester|              5|           82.8742|         31.7072576|     2024|\n",
            "|  LOB00016|            FG018|   FSH007|    Rock Lobster|2024-10-19|     20.5|       801.4|             16.74|Grade A|        Unknown|        Trap|   VSL042|              70.98|    true|             true|        true|      Bruce Brown|      LIC97752|5787 Mclaughlin V...|         Allisonside|      Colorado|        380-762-7748|  adam46@example.net|              27|    2026-07-23|        true|        4|           4311|                 2808|      2024|  Mckinneyport Shelf|42.243998|-71.638338|               177|     Sandy Bottom|                 17.9|                     219|            true|          true|                  23.6|      Sandy|        Moderate|                   3|SALE00828|2024-11-23| Restaurant Chain B|       Contract|            1.14|       63.94|          33.9|               5.7|         Cash|        Hollyport|              1|           72.8916|         34.8367788|     2024|\n",
            "|  LOB00018|            FG002|   FSH096| Slipper Lobster|2023-10-24|    34.86|       832.7|               9.9|Grade B|     Hard Shell|        Trap|   VSL021|              27.76|   false|             true|        true|      Kyle Nguyen|      LIC48437|3346 Fowler Orcha...|     Benjaminborough|      Missouri|       (253)946-0394|melanieallen@exam...|              25|    2027-02-23|        true|        4|           2153|                 1721|      2023| Lake Amberton Ridge|37.909529|-68.968687|                46|          Coastal|                 15.9|                     358|           false|         false|                  63.6|      Mixed|          Strong|                   8|SALE02823|2024-08-21| Restaurant Chain B|    Direct Sale|            0.57|       61.83|          9.81|               9.4|       Net 15|      Schultzbury|              5|           35.2431| 22.120248599999996|     2024|\n",
            "|  LOB00019|            FG019|   FSH073| Slipper Lobster|2023-10-08|     17.4|       441.6|             13.95|Grade B|    Paper Shell|        Trap|   VSL016|               57.7|    true|            false|       false|Jacqueline Harris|      LIC35637|6329 Joseph Garde...|          South Anne| Massachusetts|    001-699-876-1043|rferguson@example...|              36|    2026-01-10|        true|        2|           1790|                 2988|      2023|West Brittanyches...|45.140069|-70.941468|                27|     Rocky Bottom|                  9.7|                      75|            true|          true|                  87.1|      Mixed|            Weak|                   2|SALE01882|2025-02-16|   Seafood Market A|Online Platform|            0.29|       58.36|         26.42|              10.7|          COD|  East Justinfort|              2|           16.9244|-11.306510800000003|     2025|\n",
            "|  LOB00020|            FG025|   FSH059|   Spiny Lobster|2024-03-19|    21.13|      1131.0|             10.39| Reject|     Soft Shell|    Trawling|   VSL021|              76.47|    true|            false|        true|     Carol Hayden|      LIC37521|USCGC Whitaker\\nF...|       South Jessica|  North Dakota|    001-243-644-1108|qkennedy@example.com|               5|    2026-08-26|       false|        6|           2153|                  459|      2024|   Lake Donald Shelf|39.601839| -72.03405|               160|     Rocky Bottom|                 16.3|                     474|           false|         false|                  29.5|      Muddy|          Strong|                   7|SALE04821|2024-11-02|   Export Company C|        Auction|            0.88|       51.59|         15.43|              12.0|         Cash| South Henryville|              1|           45.3992|          24.521296|     2024|\n",
            "|  LOB00021|            FG006|   FSH048|American Lobster|2023-06-25|    31.13|       857.7|              9.32|Grade C|     Hard Shell|      Diving|   VSL019|               49.1|   false|             true|       false|    John Matthews|      LIC38903|8797 Ryan Dam Sui...|       West Kimberly|        Oregon| +1-903-717-8841x843|jonespatrick@exam...|              31|    2025-06-27|       false|        6|           4091|                 1833|      2023|   West Ashley Shelf|37.701107|-68.981238|               192|          Coastal|                 14.3|                     299|           false|         false|                  43.3|      Rocky|            Weak|                   6|SALE07748|2025-03-03| Restaurant Chain B|       Contract|            0.39|       68.45|         30.85|               9.7|         Cash|     North Leslie|              5|26.695500000000003| -6.743963499999999|     2025|\n",
            "|  LOB00023|            FG025|   FSH001|   Spiny Lobster|2023-08-14|    42.16|      1299.9|              8.92| Reject|         Peeler|        Trap|   VSL022|               32.2|   false|             true|       false|  Courtney Harris|      LIC31125|624 Samantha Aven...|          Port Robin|     Minnesota|     +1-416-342-6015|hamiltoncassandra...|               1|    2027-01-10|        true|        8|           1329|                 2819|      2023|   Lake Donald Shelf|39.601839| -72.03405|               160|     Rocky Bottom|                 16.3|                     474|           false|         false|                  29.5|      Muddy|          Strong|                   7|SALE03631|2024-11-24| Processing Plant E|Online Platform|            1.15|       77.88|         32.82|              13.3|         Cash|  Kimberlyborough|              5| 89.56199999999998|  44.83025399999998|     2024|\n",
            "|  LOB00026|            FG004|   FSH021|    Rock Lobster|2023-08-12|    15.74|      1157.5|             11.32| Reject|     Soft Shell|    Trawling|   VSL045|              46.04|    true|            false|        true|    Erin Atkinson|      LIC15806|5722 Mueller Terr...|      North Jennifer|         Texas|    001-344-417-0544|kylealvarez@examp...|              10|    2025-12-19|        true|        7|           1087|                 1754|      2023| Morenoborough Ridge|44.937554|-71.608866|                65|     Sandy Bottom|                 16.0|                     266|           false|          true|                  20.1|      Sandy|          Strong|                   7|SALE05526|2025-01-17|   Export Company C|Online Platform|            0.47|       45.23|         30.35|              10.5|       Net 30|   Lake Carolfort|              5|           21.2581|-11.324000500000002|     2025|\n",
            "|  LOB00027|            FG013|   FSH085|European Lobster|2023-07-15|     39.5|       798.4|             11.05|Grade B|     Soft Shell|        Trap|   VSL013|              43.05|    true|            false|       false|    Jennifer Hill|      LIC79462|13872 Jerry Summi...|          Robertstad|       Arizona|  (494)240-4279x2014|fordstacey@exampl...|              22|    2025-08-21|        true|        2|           2893|                 1623|      2023|      Joshuaton Area|35.973523|-70.581948|                41|          Coastal|                 11.8|                     327|            true|         false|                  45.3|      Rocky|            Weak|                   3|SALE06977|2025-02-15| Processing Plant E|       Contract|            0.26|       63.87|         45.54|              13.0|          COD|    Port Johnland|              4|           16.6062|-31.092605999999996|     2025|\n",
            "+----------+-----------------+---------+----------------+----------+---------+------------+------------------+-------+---------------+------------+---------+-------------------+--------+-----------------+------------+-----------------+--------------+--------------------+--------------------+--------------+--------------------+--------------------+----------------+--------------+------------+---------+---------------+---------------------+----------+--------------------+---------+----------+------------------+-----------------+---------------------+------------------------+----------------+--------------+----------------------+-----------+----------------+--------------------+---------+----------+-------------------+---------------+----------------+------------+--------------+------------------+-------------+-----------------+---------------+------------------+-------------------+---------+\n",
            "only showing top 20 rows\n",
            "\n"
          ]
        }
      ]
    },
    {
      "cell_type": "markdown",
      "source": [
        "6. **Mengitung Tren Nilai Penjualan Total berdasarkan Spesies Lobster (2024-2025)**"
      ],
      "metadata": {
        "id": "GqBgXSM-prvL"
      }
    },
    {
      "cell_type": "code",
      "source": [
        "# Syntax PySpark untuk groupby, sum, dan sort\n",
        "from pyspark.sql.functions import sum as spark_sum\n",
        "\n",
        "sales_date_year = joined_df.groupBy(['species', 'sale_year']) \\\n",
        "    .agg(spark_sum('total_sale_value').alias('total_sale_value')) \\\n",
        "    .orderBy('sale_year')\n",
        "sales_date_year.show()"
      ],
      "metadata": {
        "colab": {
          "base_uri": "https://localhost:8080/"
        },
        "id": "fBbYzcRro5J6",
        "outputId": "9a9ab132-ca61-492b-fafe-12b9696421b1"
      },
      "execution_count": null,
      "outputs": [
        {
          "output_type": "stream",
          "name": "stdout",
          "text": [
            "+----------------+---------+------------------+\n",
            "|         species|sale_year|  total_sale_value|\n",
            "+----------------+---------+------------------+\n",
            "|    Rock Lobster|     2024|49013.945699999975|\n",
            "| Slipper Lobster|     2024|48478.391299999974|\n",
            "|European Lobster|     2024| 49564.14919999997|\n",
            "|   Spiny Lobster|     2024| 46104.57119999994|\n",
            "|American Lobster|     2024|45929.464899999984|\n",
            "|   Spiny Lobster|     2025|32235.837799999976|\n",
            "|American Lobster|     2025|        34756.7866|\n",
            "|    Rock Lobster|     2025| 34046.98710000002|\n",
            "| Slipper Lobster|     2025| 33623.10110000001|\n",
            "|European Lobster|     2025| 34308.90299999997|\n",
            "+----------------+---------+------------------+\n",
            "\n"
          ]
        }
      ]
    },
    {
      "cell_type": "markdown",
      "source": [
        "**7.Menghitung Kuantitas Terjual berdasarkan Spesies (2024 vs 2025)'**\n",
        "\n",
        "---\n",
        "\n"
      ],
      "metadata": {
        "id": "Sx432O2Up1zE"
      }
    },
    {
      "cell_type": "code",
      "source": [
        "from pyspark.sql.functions import sum\n",
        "\n",
        "# Pastikan 'sale_year' sudah ada dan tipenya benar (int atau string)\n",
        "# Jika 'sale_year' belum ada, Anda mungkin perlu membuatnya terlebih dahulu\n",
        "# Contoh jika 'sale_date' ada dan Anda ingin mengekstrak tahunnya:\n",
        "# joined_df3 = joined_df3.withColumn('sale_year', year(joined_df3['sale_date']))\n",
        "\n",
        "quantity = joined_df.groupBy('species', 'sale_year').agg(sum('quantity_sold_kg').alias('total_quantity_sold_kg'))\n",
        "\n",
        "# Untuk melihat hasilnya\n",
        "quantity.show()\n",
        "quantity.printSchema()"
      ],
      "metadata": {
        "colab": {
          "base_uri": "https://localhost:8080/"
        },
        "id": "fQhBrGMkpjSY",
        "outputId": "c27aa032-80f0-4227-cef5-443ffc108321"
      },
      "execution_count": null,
      "outputs": [
        {
          "output_type": "stream",
          "name": "stdout",
          "text": [
            "+----------------+---------+----------------------+\n",
            "|         species|sale_year|total_quantity_sold_kg|\n",
            "+----------------+---------+----------------------+\n",
            "|   Spiny Lobster|     2025|     541.7800000000002|\n",
            "|American Lobster|     2025|     563.0800000000006|\n",
            "|    Rock Lobster|     2025|     569.7000000000005|\n",
            "|    Rock Lobster|     2024|     805.0899999999998|\n",
            "| Slipper Lobster|     2024|     808.5300000000009|\n",
            "|European Lobster|     2024|     822.6200000000013|\n",
            "| Slipper Lobster|     2025|     576.9400000000005|\n",
            "|   Spiny Lobster|     2024|     774.0500000000001|\n",
            "|American Lobster|     2024|     760.0700000000005|\n",
            "|European Lobster|     2025|     567.5699999999994|\n",
            "+----------------+---------+----------------------+\n",
            "\n",
            "root\n",
            " |-- species: string (nullable = true)\n",
            " |-- sale_year: integer (nullable = true)\n",
            " |-- total_quantity_sold_kg: double (nullable = true)\n",
            "\n"
          ]
        }
      ]
    },
    {
      "cell_type": "markdown",
      "source": [
        "**8.  Menghitung Rata-rata harga per kg berdasarkan Spesies (2024 vs 2025)**"
      ],
      "metadata": {
        "id": "kGBw6tL-qhqE"
      }
    },
    {
      "cell_type": "code",
      "source": [
        "from pyspark.sql.functions import percentile_approx\n",
        "\n",
        "# Hitung median price_per_kg per species dan sale_year\n",
        "price = joined_df.groupBy('species', 'sale_year') \\\n",
        "                  .agg(percentile_approx('price_per_kg', 0.5).alias('median_price_per_kg'))\n",
        "\n",
        "# Untuk melihat hasilnya\n",
        "price.show()\n",
        "price.printSchema()"
      ],
      "metadata": {
        "colab": {
          "base_uri": "https://localhost:8080/"
        },
        "id": "vZkGCLnnqY2q",
        "outputId": "fe19a848-20e0-42c7-c9f2-0ce2a800be92"
      },
      "execution_count": null,
      "outputs": [
        {
          "output_type": "stream",
          "name": "stdout",
          "text": [
            "+----------------+---------+-------------------+\n",
            "|         species|sale_year|median_price_per_kg|\n",
            "+----------------+---------+-------------------+\n",
            "|   Spiny Lobster|     2025|               58.3|\n",
            "|American Lobster|     2025|              61.87|\n",
            "|    Rock Lobster|     2025|               59.4|\n",
            "|    Rock Lobster|     2024|              60.44|\n",
            "| Slipper Lobster|     2024|               59.8|\n",
            "|European Lobster|     2024|              59.57|\n",
            "| Slipper Lobster|     2025|              58.61|\n",
            "|   Spiny Lobster|     2024|              59.66|\n",
            "|American Lobster|     2024|              61.81|\n",
            "|European Lobster|     2025|              61.54|\n",
            "+----------------+---------+-------------------+\n",
            "\n",
            "root\n",
            " |-- species: string (nullable = true)\n",
            " |-- sale_year: integer (nullable = true)\n",
            " |-- median_price_per_kg: double (nullable = true)\n",
            "\n"
          ]
        }
      ]
    },
    {
      "cell_type": "markdown",
      "source": [
        "# INNER JOIN DATASET KE 1 DAN 5"
      ],
      "metadata": {
        "id": "ii5d4ADqreKT"
      }
    },
    {
      "cell_type": "code",
      "source": [
        "joined_df = joined_df.join(lobster_quality_inspections, on=[\"lobster_id\"], how=\"inner\")\n",
        "\n",
        "joined_df.show()"
      ],
      "metadata": {
        "colab": {
          "base_uri": "https://localhost:8080/"
        },
        "id": "0D5cKBsQrK_5",
        "outputId": "2598ffd6-15cb-4ac1-d02a-4b2a2635f158"
      },
      "execution_count": null,
      "outputs": [
        {
          "output_type": "stream",
          "name": "stdout",
          "text": [
            "+----------+-----------------+---------+----------------+----------+---------+------------+------------------+-------+---------------+------------+---------+-------------------+--------+-----------------+------------+----------------+--------------+--------------------+--------------------+--------------+--------------------+--------------------+----------------+--------------+------------+---------+---------------+---------------------+----------+--------------------+---------+----------+------------------+-----------------+---------------------+------------------------+----------------+--------------+----------------------+-----------+----------------+--------------------+---------+----------+-------------------+---------------+----------------+------------+--------------+------------------+-------------+-------------------+---------------+------------------+--------------------+---------+-------------+---------------+--------------+-----------------+---------------+---------------+--------------+--------------+------------------+----------------+---------------+------------------+--------------------+\n",
            "|lobster_id|fishing_ground_id|fisher_id|         species|catch_date|length_cm|weight_grams|carapace_length_cm|  grade|shell_condition|catch_method|vessel_id|market_price_per_kg|is_alive|inspection_passed|export_ready|     fisher_name|license_number|             address|                city|         state|               phone|               email|experience_years|license_expiry|vessel_owner|crew_size|annual_quota_kg|total_catch_this_year|catch_year|         ground_name| latitude| longitude|water_depth_meters|       water_type|average_temperature_c|lobster_density_per_sqkm|seasonal_closure|protected_area|distance_from_shore_km|bottom_type|current_strength|accessibility_rating|  sale_id| sale_date|         buyer_name|   sale_channel|quantity_sold_kg|price_per_kg|transport_cost|commission_percent|payment_terms|  delivery_location|customer_rating|  total_sale_value|          net_profit|sale_year|inspection_id|inspection_date|inspector_name|visual_inspection|size_compliance|shell_integrity|  meat_quality|parasite_check|contamination_test|  overall_result|inspection_cost|certificate_issued|               notes|\n",
            "+----------+-----------------+---------+----------------+----------+---------+------------+------------------+-------+---------------+------------+---------+-------------------+--------+-----------------+------------+----------------+--------------+--------------------+--------------------+--------------+--------------------+--------------------+----------------+--------------+------------+---------+---------------+---------------------+----------+--------------------+---------+----------+------------------+-----------------+---------------------+------------------------+----------------+--------------+----------------------+-----------+----------------+--------------------+---------+----------+-------------------+---------------+----------------+------------+--------------+------------------+-------------+-------------------+---------------+------------------+--------------------+---------+-------------+---------------+--------------+-----------------+---------------+---------------+--------------+--------------+------------------+----------------+---------------+------------------+--------------------+\n",
            "|  LOB00001|            FG003|   FSH005|American Lobster|2023-10-05|    15.75|       557.5|             10.23|Grade A|     Hard Shell|Hand Picking|   VSL002|              37.03|    true|             true|       false|    Keith Miller|      LIC31000|74293 Jessica Fal...|          West David|      Illinois|   454-659-2473x8532| lfranco@example.net|              16|    2026-02-18|        true|        7|           4098|                 3631|      2023|  Lake Melissa Ridge|43.151354|-70.060466|               186|       Deep Water|                  8.5|                     417|            true|         false|                  59.9|      Rocky|        Moderate|                   2|SALE02966|2024-10-29|   Seafood Market A|       Contract|            1.08|       30.39|          9.23|               6.6|       Net 15|   New Jennifertown|              5|32.821200000000005|  21.425000800000003|     2024|     INS00323|     2025-03-20|  Sarah Wilson|             Fail|           true|           Fair|      Standard|         Minor|          Positive|            Pass|          13.02|              true|Evening family ei...|\n",
            "|  LOB00014|            FG004|   FSH053|European Lobster|2024-09-26|    31.18|      1140.4|             16.82| Reject|     Soft Shell|Hand Picking|   VSL013|              30.33|   false|            false|       false| Laura Blanchard|      LIC65632|87286 Theresa Pla...|         Harpershire|South Carolina|    438-541-7130x133|joshuajackson@exa...|              17|    2027-01-27|        true|        1|           4363|                  375|      2024| Morenoborough Ridge|44.937554|-71.608866|                65|     Sandy Bottom|                 16.0|                     266|           false|          true|                  20.1|      Sandy|          Strong|                   7|SALE01210|2025-03-20| Processing Plant E|       Contract|             1.0|       43.15|         14.04|               9.8|          COD|        West Robert|              2|             43.15|             24.8813|     2025|     INS00090|     2025-04-05|  Maria Garcia| Conditional Pass|          false|           Good|Below Standard|         Minor|          Positive|Conditional Pass|          22.39|             false|Size community de...|\n",
            "|  LOB00018|            FG002|   FSH096| Slipper Lobster|2023-10-24|    34.86|       832.7|               9.9|Grade B|     Hard Shell|        Trap|   VSL021|              27.76|   false|             true|        true|     Kyle Nguyen|      LIC48437|3346 Fowler Orcha...|     Benjaminborough|      Missouri|       (253)946-0394|melanieallen@exam...|              25|    2027-02-23|        true|        4|           2153|                 1721|      2023| Lake Amberton Ridge|37.909529|-68.968687|                46|          Coastal|                 15.9|                     358|           false|         false|                  63.6|      Mixed|          Strong|                   8|SALE02823|2024-08-21| Restaurant Chain B|    Direct Sale|            0.57|       61.83|          9.81|               9.4|       Net 15|        Schultzbury|              5|           35.2431|  22.120248599999996|     2024|     INS00784|     2025-04-04|  Sarah Wilson| Conditional Pass|           true|           Poor|       Premium|   Significant|          Positive|            Fail|          13.86|             false|News system dark ...|\n",
            "|  LOB00040|            FG011|   FSH059|    Rock Lobster|2025-03-29|    19.07|       800.2|               8.5| Reject|         Peeler|      Diving|   VSL021|              66.87|   false|            false|       false|    Carol Hayden|      LIC37521|USCGC Whitaker\\nF...|       South Jessica|  North Dakota|    001-243-644-1108|qkennedy@example.com|               5|    2026-08-26|       false|        6|           2153|                  459|      2025|South Johnathansi...|42.409871|-70.202806|               120|       Deep Water|                 10.4|                     159|           false|          true|                  87.5|      Rocky|            Weak|                   6|SALE00263|2024-09-23|Local Distributor D|Online Platform|             1.1|        67.1|         15.88|              10.6|       Net 15|     East Wendyview|              2|             73.81|  50.106139999999996|     2024|     INS00683|     2025-02-19|    John Smith| Conditional Pass|           true|           Poor|       Premium|         Minor|          Negative| Retest Required|          11.91|              true|Wait what cost be...|\n",
            "|  LOB00044|            FG003|   FSH085| Slipper Lobster|2024-12-14|    39.17|      1235.1|             13.66|Grade A|         Peeler|Hand Picking|   VSL024|              52.83|   false|             true|       false|   Jennifer Hill|      LIC79462|13872 Jerry Summi...|          Robertstad|       Arizona|  (494)240-4279x2014|fordstacey@exampl...|              22|    2025-08-21|        true|        2|           2893|                 1623|      2024|  Lake Melissa Ridge|43.151354|-70.060466|               186|       Deep Water|                  8.5|                     417|            true|         false|                  59.9|      Rocky|        Moderate|                   2|SALE04971|2025-01-08| Restaurant Chain B|       Contract|            1.31|       78.48|         36.47|              13.6|         Cash|      North Rebecca|              5|          102.8088|   52.35680320000001|     2025|     INS00004|     2025-03-09|  Sarah Wilson| Conditional Pass|          false|           Poor|      Standard|         Clear|          Negative|Conditional Pass|          15.31|             false|Participant espec...|\n",
            "|  LOB00080|            FG009|   FSH008|European Lobster|2024-04-13|     28.3|      1435.7|             16.55|Grade A|         Peeler|    Trawling|   VSL026|              35.44|    true|            false|        true| Kristen Goodwin|      LIC94065|920 Sherry Gatewa...|            Josefort|      Illinois|  (840)817-9974x9327|kaitlyncherry@exa...|              12|    2027-01-28|        true|        3|           2676|                 1728|      2024|Port Pamelaland S...|43.064806|-65.171953|                64|          Coastal|                 11.0|                      57|            true|         false|                   7.8|      Mixed|        Moderate|                   1|SALE04239|2024-12-12|Local Distributor D|Online Platform|            0.75|       44.74|         39.41|              11.9|         Cash|     Claudiachester|              3|            33.555|  -9.848044999999997|     2024|     INS00434|     2025-04-03|  Sarah Wilson|             Pass|           true|           Poor|Below Standard|         Minor|          Negative|Conditional Pass|          21.88|             false|Building material...|\n",
            "|  LOB00099|            FG010|   FSH065|European Lobster|2023-10-14|    28.19|       809.6|             14.31|Grade C|     Hard Shell|    Trawling|   VSL005|               50.4|    true|             true|       false|   William Lopez|      LIC47014|922 Paul Forks Ap...|        Sarahchester|    New Jersey|        306-370-5415| karen51@example.net|              37|    2027-05-20|        true|        4|            759|                 3144|      2023|   South Brent Banks|35.774054|-66.967428|                96|     Rocky Bottom|                 10.0|                     146|            true|         false|                  54.5|      Sandy|            Weak|                   3|SALE02170|2024-10-19|   Seafood Market A|Online Platform|            1.37|       39.94|         39.69|               7.1|       Net 30|        West Rachel|              5|54.717800000000004|  11.142836200000007|     2024|     INS00466|     2025-04-29|  Maria Garcia|             Pass|          false|           Fair|       Premium|   Significant|          Positive|Conditional Pass|          16.87|             false|Not fight alone r...|\n",
            "|  LOB00107|            FG005|   FSH026| Slipper Lobster|2024-02-27|    44.53|       800.2|             10.82| Reject|    Paper Shell|      Diving|   VSL039|              73.02|    true|            false|       false| Courtney Wilson|      LIC62298|3004 Buchanan Gre...|         Williamside|       Wyoming|          6707889780|gsanchez@example.com|              20|    2026-11-28|       false|        2|           3772|                 1859|      2024|North Brandiberg ...|35.569966|-72.575325|                31|          Coastal|                 17.9|                     333|           false|          true|                  94.2|      Mixed|        Moderate|                   3|SALE02378|2024-12-30|   Export Company C|        Auction|            1.22|       87.34|         49.24|               5.2|          COD|           Ricefort|              3|          106.5548|          51.7739504|     2024|     INS00693|     2025-02-18| Michael Brown|             Fail|          false|           Good|      Standard|   Significant|          Positive|            Pass|          21.97|              true|Eye quite drive y...|\n",
            "|  LOB00109|            FG008|   FSH065|European Lobster|2023-12-15|     39.5|      1350.0|              17.3| Reject|     Hard Shell|Hand Picking|   VSL024|              46.24|    true|            false|        true|   William Lopez|      LIC47014|922 Paul Forks Ap...|        Sarahchester|    New Jersey|        306-370-5415| karen51@example.net|              37|    2027-05-20|        true|        4|            759|                 3144|      2023|   Justinstad Ground|  43.2841|-67.726324|                85|       Deep Water|                 16.6|                     173|            true|         false|                   6.8|      Sandy|            Weak|                   3|SALE02664|2024-12-14| Processing Plant E|Online Platform|            0.93|       42.93|         42.17|               5.7|          COD|   New Zacharymouth|              4|           39.9249|  -4.520819300000001|     2024|     INS00626|     2025-03-14| Michael Brown|             Pass|          false|           Good|       Premium|   Significant|          Negative| Retest Required|           9.27|              true|Letter well from ...|\n",
            "|  LOB00124|            FG023|   FSH040|    Rock Lobster|2025-05-01|    15.79|       920.2|             11.69|Grade B|     Hard Shell|        Trap|   VSL026|              64.54|   false|            false|        true|Michelle Schmidt|      LIC91339|5302 Goodman Squa...|      Barbaraborough|   Connecticut|    294.933.0205x840|cristinasimpson@e...|              23|    2026-08-09|       false|        8|           2284|                 3756|      2025|    Nathantown Banks|35.216612|-70.410582|               167|          Coastal|                  8.4|                     340|            true|         false|                  99.8|      Sandy|            Weak|                   2|SALE00247|2025-03-16| Restaurant Chain B|       Contract|            1.16|       50.98|          8.96|              11.6|       Net 15|        North Scott|              1|59.136799999999994|   43.31693119999999|     2025|     INS00248|     2025-04-18| Michael Brown|             Fail|           true|      Excellent|      Standard|   Significant|          Negative| Retest Required|           25.0|             false|Discussion natura...|\n",
            "|  LOB00135|            FG020|   FSH021|   Spiny Lobster|2025-04-01|    39.12|       875.1|              9.49|Grade B|         Peeler|    Trawling|   VSL026|              65.66|   false|            false|       false|   Erin Atkinson|      LIC15806|5722 Mueller Terr...|      North Jennifer|         Texas|    001-344-417-0544|kylealvarez@examp...|              10|    2025-12-19|        true|        7|           1087|                 1754|      2025|  Randallmouth Ridge|40.551138|-73.466709|               133|Continental Shelf|                 10.8|                     416|           false|         false|                  18.5|      Mixed|            Weak|                   2|SALE05448|2024-12-08|   Seafood Market A|    Direct Sale|            0.52|       67.92|          9.13|               9.8|         Cash|          Port John|              5|35.318400000000004|          22.7271968|     2024|     INS00007|     2025-03-28|    John Smith|             Fail|          false|           Fair|Below Standard|   Significant|          Negative| Retest Required|          24.39|             false|Single real relat...|\n",
            "|  LOB00147|            FG008|   FSH034|    Rock Lobster|2023-12-11|    35.08|       440.2|              9.41|Grade C|     Soft Shell|        Trap|   VSL025|              49.57|   false|            false|       false|   Thomas Medina|      LIC39076|12926 Frey Spring...|   Lake Shawnchester| New Hampshire|001-827-965-3006x...| vtaylor@example.net|              31|    2025-11-23|       false|        4|           2101|                 3877|      2023|   Justinstad Ground|  43.2841|-67.726324|                85|       Deep Water|                 16.6|                     173|            true|         false|                   6.8|      Sandy|            Weak|                   3|SALE04221|2024-09-14| Processing Plant E|       Contract|            0.57|       34.85|         19.47|               6.2|         Cash|     Lake Jacobfurt|              1|           19.8645| -0.8370989999999994|     2024|     INS00388|     2025-02-25| Michael Brown|             Pass|          false|           Fair|      Standard|         Clear|          Negative|            Fail|           5.04|             false|Answer market lat...|\n",
            "|  LOB00148|            FG006|   FSH060| Slipper Lobster|2024-04-15|    36.69|       214.9|             14.54|Grade B|     Hard Shell|        Trap|   VSL020|               47.3|   false|             true|       false|  Victoria Ortiz|      LIC24841|86730 Pugh Underp...|          Tylershire|         Maine| (713)746-2767x84777|latoyasellers@exa...|              28|    2025-11-21|        true|        3|           2297|                 3112|      2024|   West Ashley Shelf|37.701107|-68.981238|               192|          Coastal|                 14.3|                     299|           false|         false|                  43.3|      Rocky|            Weak|                   6|SALE07054|2024-12-14|   Export Company C|    Direct Sale|             0.6|       48.64|         17.74|              10.5|          COD|North Traceychester|              5|29.183999999999997|             8.37968|     2024|     INS00442|     2025-01-31| Michael Brown|  Retest Required|           true|      Excellent|       Premium|   Significant|          Negative|            Pass|           7.38|             false|Senior find head ...|\n",
            "|  LOB00184|            FG025|   FSH051|    Rock Lobster|2024-04-19|    18.18|       328.2|             10.22|Grade B|    Paper Shell|    Trawling|   VSL030|              62.38|    true|            false|        true|Jeremy Rodriguez|      LIC72330|3908 Willie Point...|           Cookmouth|  North Dakota|        620.348.9127| jmiller@example.net|               5|    2026-10-30|       false|        6|           4408|                 3736|      2024|   Lake Donald Shelf|39.601839| -72.03405|               160|     Rocky Bottom|                 16.3|                     474|           false|         false|                  29.5|      Muddy|          Strong|                   7|SALE06381|2024-10-17| Restaurant Chain B|    Direct Sale|            0.42|        43.2|         15.69|              13.3|       Net 15|South Samanthashire|              2|18.144000000000002|0.040848000000002216|     2024|     INS00164|     2025-04-22|  Maria Garcia|             Pass|           true|           Fair|Below Standard|         Minor|          Negative| Retest Required|          22.15|              true|End far small env...|\n",
            "|  LOB00194|            FG003|   FSH034|    Rock Lobster|2024-08-24|    18.07|      1279.1|             15.51|Grade C|     Hard Shell|Hand Picking|   VSL023|              49.15|    true|             true|        true|   Thomas Medina|      LIC39076|12926 Frey Spring...|   Lake Shawnchester| New Hampshire|001-827-965-3006x...| vtaylor@example.net|              31|    2025-11-23|       false|        4|           2101|                 3877|      2024|  Lake Melissa Ridge|43.151354|-70.060466|               186|       Deep Water|                  8.5|                     417|            true|         false|                  59.9|      Rocky|        Moderate|                   2|SALE04786|2025-01-14|   Export Company C|       Contract|            1.45|       85.56|         37.05|              14.0|          COD|       Traciborough|              2|           124.062|            69.64332|     2025|     INS00067|     2025-02-11| Michael Brown| Conditional Pass|          false|           Poor|      Standard|   Significant|          Negative|            Fail|          10.39|              true|Practice not proj...|\n",
            "|  LOB00200|            FG003|   FSH021|European Lobster|2024-08-27|    28.24|       200.9|            100.58|Grade B|     Soft Shell|    Trawling|   VSL018|               61.0|   false|             true|       false|   Erin Atkinson|      LIC15806|5722 Mueller Terr...|      North Jennifer|         Texas|    001-344-417-0544|kylealvarez@examp...|              10|    2025-12-19|        true|        7|           1087|                 1754|      2024|  Lake Melissa Ridge|43.151354|-70.060466|               186|       Deep Water|                  8.5|                     417|            true|         false|                  59.9|      Rocky|        Moderate|                   2|SALE07516|2024-06-14| Restaurant Chain B|    Direct Sale|             0.6|       36.61|         31.08|               8.1|          COD|        Simmonsside|              2|21.965999999999998| -10.893246000000001|     2024|     INS00465|     2025-02-25| David Johnson|             Fail|           true|           Fair|      Standard|         Clear|          Positive|            Pass|          17.38|              true|High hot for sell...|\n",
            "|  LOB00201|            FG001|   FSH091|European Lobster|2024-09-24|    16.55|      1013.3|             15.26|Grade B|    Paper Shell|        Trap|   VSL007|              36.74|    true|             true|        true| Danielle Barnes|      LIC62250|56747 Benjamin Di...|          New Amanda|    New Mexico|     +1-780-706-9503|natalie35@example...|              23|    2026-06-30|       false|        7|           1040|                 2026|      2024|     Bobbyland Ridge|41.093432|-74.396275|                53|       Deep Water|                  8.6|                     285|           false|         false|                  31.6|      Rocky|            Weak|                   8|SALE04704|2025-01-19| Processing Plant E|        Auction|             0.9|       84.25|         38.76|              13.7|         Cash|       Karenborough|              1|            75.825|  26.676975000000006|     2025|     INS00058|     2025-01-16| Michael Brown|             Fail|          false|      Excellent|      Standard|         Clear|          Positive|            Pass|           13.9|             false|Apply leg ground ...|\n",
            "|  LOB00255|            FG008|   FSH093|   Spiny Lobster|2024-12-29|    22.78|       744.1|             11.88|Grade A|     Soft Shell|    Trawling|   VSL046|              62.75|   false|            false|       false| Derrick Jenkins|      LIC34946|Unit 5937 Box 885...|           Port Jose|         Maine|       (822)764-5090|steinjill@example...|              24|    2026-05-03|       false|        4|           3478|                 1016|      2024|   Justinstad Ground|  43.2841|-67.726324|                85|       Deep Water|                 16.6|                     173|            true|         false|                   6.8|      Sandy|            Weak|                   3|SALE01498|2024-10-01| Restaurant Chain B|Online Platform|            0.92|       70.15|          27.0|              13.5|         Cash|         Delgadoton|              3| 64.53800000000001|   28.82537000000001|     2024|     INS00748|     2025-01-16|  Sarah Wilson|  Retest Required|          false|           Poor|Below Standard|         Clear|          Negative|            Fail|          15.58|             false|Believe activity ...|\n",
            "|  LOB00256|            FG024|   FSH095|European Lobster|2025-03-03|    40.22|      1339.4|              9.81|Grade A|    Paper Shell|      Diving|   VSL017|              69.46|    true|            false|        true|      Adam Silva|      LIC41605|8322 Alan Falls\\n...|     South Julieberg| West Virginia|001-766-671-1193x...|alexis83@example.net|              21|    2027-01-05|        true|        6|            716|                 3650|      2025|   Torresville Shelf|35.030167|-70.317368|               125|Continental Shelf|                 14.7|                     294|           false|         false|                  23.5|      Mixed|            Weak|                   3|SALE02202|2024-08-31|   Seafood Market A|    Direct Sale|            1.22|       39.96|         42.47|               6.5|         Cash|      South Phillip|              4|           48.7512|   3.112371999999999|     2024|     INS00375|     2025-06-01| David Johnson|             Fail|          false|           Good|Below Standard|   Significant|          Positive|            Pass|           5.88|             false|Agreement technol...|\n",
            "|  LOB00309|            FG015|   FSH011|American Lobster|2023-07-03|    19.99|      1399.2|             13.17| Reject|     Hard Shell|    Trawling|   VSL014|              58.36|   false|            false|        true|    George Smith|      LIC32027|75588 Brandon Sky...|South Allisonchester|      Illinois|001-270-282-7379x...|zoesmall@example.org|              14|    2026-03-29|       false|        6|            989|                 2570|      2023|   New Thomas Ground|38.604152|-65.333126|               160|          Coastal|                 10.7|                     114|           false|         false|                  48.4|      Mixed|          Strong|                   5|SALE04472|2024-08-07| Restaurant Chain B|       Contract|            1.29|       39.14|         11.23|               8.8|         Cash|         Port Nancy|              3|           50.4906|          34.8174272|     2024|     INS00572|     2025-01-21|  Maria Garcia|             Fail|          false|      Excellent|Below Standard|         Clear|          Negative| Retest Required|           19.5|             false|Pattern worry rea...|\n",
            "+----------+-----------------+---------+----------------+----------+---------+------------+------------------+-------+---------------+------------+---------+-------------------+--------+-----------------+------------+----------------+--------------+--------------------+--------------------+--------------+--------------------+--------------------+----------------+--------------+------------+---------+---------------+---------------------+----------+--------------------+---------+----------+------------------+-----------------+---------------------+------------------------+----------------+--------------+----------------------+-----------+----------------+--------------------+---------+----------+-------------------+---------------+----------------+------------+--------------+------------------+-------------+-------------------+---------------+------------------+--------------------+---------+-------------+---------------+--------------+-----------------+---------------+---------------+--------------+--------------+------------------+----------------+---------------+------------------+--------------------+\n",
            "only showing top 20 rows\n",
            "\n"
          ]
        }
      ]
    },
    {
      "cell_type": "markdown",
      "source": [
        "**9. menghitung Total Tangkapan per Spesies berdasarkan Kualitas Daging (dengan Nilai)**"
      ],
      "metadata": {
        "id": "LD3q1Br9xZZg"
      }
    },
    {
      "cell_type": "code",
      "source": [
        "from pyspark.sql.functions import sum\n",
        "\n",
        "pivot_table4 = joined_df.groupBy(\"species\") \\\n",
        "    .pivot(\"meat_quality\") \\\n",
        "    .agg(sum(\"total_catch_this_year\"))\n",
        "\n",
        "pivot_table4.show()\n"
      ],
      "metadata": {
        "colab": {
          "base_uri": "https://localhost:8080/"
        },
        "id": "xr4B6Evtsskz",
        "outputId": "b17b5103-5861-4a11-c168-ea12416173f4"
      },
      "execution_count": null,
      "outputs": [
        {
          "output_type": "stream",
          "name": "stdout",
          "text": [
            "+----------------+--------------+-------+--------+\n",
            "|         species|Below Standard|Premium|Standard|\n",
            "+----------------+--------------+-------+--------+\n",
            "|American Lobster|        110501|  93419|  107517|\n",
            "|    Rock Lobster|         60457|  99629|  114143|\n",
            "| Slipper Lobster|        105069| 126221|  130468|\n",
            "|   Spiny Lobster|         76903|  45089|  101580|\n",
            "|European Lobster|         89363| 113561|  109086|\n",
            "+----------------+--------------+-------+--------+\n",
            "\n"
          ]
        }
      ]
    },
    {
      "cell_type": "markdown",
      "source": [
        "# INNER JOIN DATASET KE 1 DAN 6"
      ],
      "metadata": {
        "id": "CHrdsMTtxkJP"
      }
    },
    {
      "cell_type": "code",
      "source": [
        "# inner join dataset 1-6 (now including vessel data)\n",
        "# Join with lobster_vessels_dataset using 'vessel_id' as the join key\n",
        "joined_df = joined_df.join(lobster_vessels_dataset, on=[\"vessel_id\"], how=\"inner\")\n",
        "\n",
        "joined_df.show()"
      ],
      "metadata": {
        "colab": {
          "base_uri": "https://localhost:8080/"
        },
        "id": "KLuvQlkCxoXY",
        "outputId": "459959fc-f058-483d-e8d7-54d8a548f907"
      },
      "execution_count": null,
      "outputs": [
        {
          "output_type": "stream",
          "name": "stdout",
          "text": [
            "+---------+----------+-----------------+---------+----------------+----------+---------+------------+------------------+-------+---------------+------------+-------------------+--------+-----------------+------------+----------------+--------------+--------------------+--------------------+--------------+--------------------+--------------------+----------------+--------------+------------+---------+---------------+---------------------+----------+--------------------+---------+----------+------------------+-----------------+---------------------+------------------------+----------------+--------------+----------------------+-----------+----------------+--------------------+---------+----------+-------------------+---------------+----------------+------------+--------------+------------------+-------------+-------------------+---------------+------------------+--------------------+---------+-------------+---------------+--------------+-----------------+---------------+---------------+--------------+--------------+------------------+----------------+---------------+------------------+--------------------+--------------------+---------------+-----------+---------+-------------+-----------------+---------------------+-------------+----------+-----------------+-------------------+---------------+------------+--------------+\n",
            "|vessel_id|lobster_id|fishing_ground_id|fisher_id|         species|catch_date|length_cm|weight_grams|carapace_length_cm|  grade|shell_condition|catch_method|market_price_per_kg|is_alive|inspection_passed|export_ready|     fisher_name|license_number|             address|                city|         state|               phone|               email|experience_years|license_expiry|vessel_owner|crew_size|annual_quota_kg|total_catch_this_year|catch_year|         ground_name| latitude| longitude|water_depth_meters|       water_type|average_temperature_c|lobster_density_per_sqkm|seasonal_closure|protected_area|distance_from_shore_km|bottom_type|current_strength|accessibility_rating|  sale_id| sale_date|         buyer_name|   sale_channel|quantity_sold_kg|price_per_kg|transport_cost|commission_percent|payment_terms|  delivery_location|customer_rating|  total_sale_value|          net_profit|sale_year|inspection_id|inspection_date|inspector_name|visual_inspection|size_compliance|shell_integrity|  meat_quality|parasite_check|contamination_test|  overall_result|inspection_cost|certificate_issued|               notes|         vessel_name|    vessel_type|length_feet|beam_feet|hull_material|engine_horsepower|fuel_capacity_gallons|crew_capacity|built_year|        home_port|registration_number|insurance_value|gps_equipped|sonar_equipped|\n",
            "+---------+----------+-----------------+---------+----------------+----------+---------+------------+------------------+-------+---------------+------------+-------------------+--------+-----------------+------------+----------------+--------------+--------------------+--------------------+--------------+--------------------+--------------------+----------------+--------------+------------+---------+---------------+---------------------+----------+--------------------+---------+----------+------------------+-----------------+---------------------+------------------------+----------------+--------------+----------------------+-----------+----------------+--------------------+---------+----------+-------------------+---------------+----------------+------------+--------------+------------------+-------------+-------------------+---------------+------------------+--------------------+---------+-------------+---------------+--------------+-----------------+---------------+---------------+--------------+--------------+------------------+----------------+---------------+------------------+--------------------+--------------------+---------------+-----------+---------+-------------+-----------------+---------------------+-------------+----------+-----------------+-------------------+---------------+------------+--------------+\n",
            "|   VSL002|  LOB00001|            FG003|   FSH005|American Lobster|2023-10-05|    15.75|       557.5|             10.23|Grade A|     Hard Shell|Hand Picking|              37.03|    true|             true|       false|    Keith Miller|      LIC31000|74293 Jessica Fal...|          West David|      Illinois|   454-659-2473x8532| lfranco@example.net|              16|    2026-02-18|        true|        7|           4098|                 3631|      2023|  Lake Melissa Ridge|43.151354|-70.060466|               186|       Deep Water|                  8.5|                     417|            true|         false|                  59.9|      Rocky|        Moderate|                   2|SALE02966|2024-10-29|   Seafood Market A|       Contract|            1.08|       30.39|          9.23|               6.6|       Net 15|   New Jennifertown|              5|32.821200000000005|  21.425000800000003|     2024|     INS00323|     2025-03-20|  Sarah Wilson|             Fail|           true|           Fair|      Standard|         Minor|          Positive|            Pass|          13.02|              true|Evening family ei...|Hamilton-Osborne ...|Offshore Vessel|        112|       19|     Aluminum|             1450|                  833|            7|      2018|   West Johnmouth|            REG2268|         238090|        true|         false|\n",
            "|   VSL013|  LOB00014|            FG004|   FSH053|European Lobster|2024-09-26|    31.18|      1140.4|             16.82| Reject|     Soft Shell|Hand Picking|              30.33|   false|            false|       false| Laura Blanchard|      LIC65632|87286 Theresa Pla...|         Harpershire|South Carolina|    438-541-7130x133|joshuajackson@exa...|              17|    2027-01-27|        true|        1|           4363|                  375|      2024| Morenoborough Ridge|44.937554|-71.608866|                65|     Sandy Bottom|                 16.0|                     266|           false|          true|                  20.1|      Sandy|          Strong|                   7|SALE01210|2025-03-20| Processing Plant E|       Contract|             1.0|       43.15|         14.04|               9.8|          COD|        West Robert|              2|             43.15|             24.8813|     2025|     INS00090|     2025-04-05|  Maria Garcia| Conditional Pass|          false|           Good|Below Standard|         Minor|          Positive|Conditional Pass|          22.39|             false|Size community de...|Edwards, Elliott ...|   Lobster Boat|         61|       12|     Aluminum|              783|                  153|            6|      1982|      Timothyport|            REG1609|         106319|       false|          true|\n",
            "|   VSL021|  LOB00018|            FG002|   FSH096| Slipper Lobster|2023-10-24|    34.86|       832.7|               9.9|Grade B|     Hard Shell|        Trap|              27.76|   false|             true|        true|     Kyle Nguyen|      LIC48437|3346 Fowler Orcha...|     Benjaminborough|      Missouri|       (253)946-0394|melanieallen@exam...|              25|    2027-02-23|        true|        4|           2153|                 1721|      2023| Lake Amberton Ridge|37.909529|-68.968687|                46|          Coastal|                 15.9|                     358|           false|         false|                  63.6|      Mixed|          Strong|                   8|SALE02823|2024-08-21| Restaurant Chain B|    Direct Sale|            0.57|       61.83|          9.81|               9.4|       Net 15|        Schultzbury|              5|           35.2431|  22.120248599999996|     2024|     INS00784|     2025-04-04|  Sarah Wilson| Conditional Pass|           true|           Poor|       Premium|   Significant|          Positive|            Fail|          13.86|             false|News system dark ...|Green, Pratt and ...|   Lobster Boat|         93|       22|     Aluminum|              496|                 1785|           12|      2006|      Zacharyland|            REG8299|        1762130|       false|         false|\n",
            "|   VSL021|  LOB00040|            FG011|   FSH059|    Rock Lobster|2025-03-29|    19.07|       800.2|               8.5| Reject|         Peeler|      Diving|              66.87|   false|            false|       false|    Carol Hayden|      LIC37521|USCGC Whitaker\\nF...|       South Jessica|  North Dakota|    001-243-644-1108|qkennedy@example.com|               5|    2026-08-26|       false|        6|           2153|                  459|      2025|South Johnathansi...|42.409871|-70.202806|               120|       Deep Water|                 10.4|                     159|           false|          true|                  87.5|      Rocky|            Weak|                   6|SALE00263|2024-09-23|Local Distributor D|Online Platform|             1.1|        67.1|         15.88|              10.6|       Net 15|     East Wendyview|              2|             73.81|  50.106139999999996|     2024|     INS00683|     2025-02-19|    John Smith| Conditional Pass|           true|           Poor|       Premium|         Minor|          Negative| Retest Required|          11.91|              true|Wait what cost be...|Green, Pratt and ...|   Lobster Boat|         93|       22|     Aluminum|              496|                 1785|           12|      2006|      Zacharyland|            REG8299|        1762130|       false|         false|\n",
            "|   VSL024|  LOB00044|            FG003|   FSH085| Slipper Lobster|2024-12-14|    39.17|      1235.1|             13.66|Grade A|         Peeler|Hand Picking|              52.83|   false|             true|       false|   Jennifer Hill|      LIC79462|13872 Jerry Summi...|          Robertstad|       Arizona|  (494)240-4279x2014|fordstacey@exampl...|              22|    2025-08-21|        true|        2|           2893|                 1623|      2024|  Lake Melissa Ridge|43.151354|-70.060466|               186|       Deep Water|                  8.5|                     417|            true|         false|                  59.9|      Rocky|        Moderate|                   2|SALE04971|2025-01-08| Restaurant Chain B|       Contract|            1.31|       78.48|         36.47|              13.6|         Cash|      North Rebecca|              5|          102.8088|   52.35680320000001|     2025|     INS00004|     2025-03-09|  Sarah Wilson| Conditional Pass|          false|           Poor|      Standard|         Clear|          Negative|Conditional Pass|          15.31|             false|Participant espec...|   Huber PLC Catcher|   Lobster Boat|         44|       22|   Fiberglass|             1388|                  468|            9|      2020|   Port Christina|            REG3807|         458010|        true|          true|\n",
            "|   VSL026|  LOB00080|            FG009|   FSH008|European Lobster|2024-04-13|     28.3|      1435.7|             16.55|Grade A|         Peeler|    Trawling|              35.44|    true|            false|        true| Kristen Goodwin|      LIC94065|920 Sherry Gatewa...|            Josefort|      Illinois|  (840)817-9974x9327|kaitlyncherry@exa...|              12|    2027-01-28|        true|        3|           2676|                 1728|      2024|Port Pamelaland S...|43.064806|-65.171953|                64|          Coastal|                 11.0|                      57|            true|         false|                   7.8|      Mixed|        Moderate|                   1|SALE04239|2024-12-12|Local Distributor D|Online Platform|            0.75|       44.74|         39.41|              11.9|         Cash|     Claudiachester|              3|            33.555|  -9.848044999999997|     2024|     INS00434|     2025-04-03|  Sarah Wilson|             Pass|           true|           Poor|Below Standard|         Minor|          Negative|Conditional Pass|          21.88|             false|Building material...|Hernandez-Ramirez...|        Trawler|         51|       21|     Aluminum|             1494|                  149|            7|      1986|       North John|            REG2734|         250381|        true|          true|\n",
            "|   VSL005|  LOB00099|            FG010|   FSH065|European Lobster|2023-10-14|    28.19|       809.6|             14.31|Grade C|     Hard Shell|    Trawling|               50.4|    true|             true|       false|   William Lopez|      LIC47014|922 Paul Forks Ap...|        Sarahchester|    New Jersey|        306-370-5415| karen51@example.net|              37|    2027-05-20|        true|        4|            759|                 3144|      2023|   South Brent Banks|35.774054|-66.967428|                96|     Rocky Bottom|                 10.0|                     146|            true|         false|                  54.5|      Sandy|            Weak|                   3|SALE02170|2024-10-19|   Seafood Market A|Online Platform|            1.37|       39.94|         39.69|               7.1|       Net 30|        West Rachel|              5|54.717800000000004|  11.142836200000007|     2024|     INS00466|     2025-04-29|  Maria Garcia|             Pass|          false|           Fair|       Premium|   Significant|          Positive|Conditional Pass|          16.87|             false|Not fight alone r...|Whitaker, Montoya...|   Lobster Boat|         88|       22|   Fiberglass|              556|                 1266|           10|      2000|  Port Gracemouth|            REG3407|         406909|       false|         false|\n",
            "|   VSL039|  LOB00107|            FG005|   FSH026| Slipper Lobster|2024-02-27|    44.53|       800.2|             10.82| Reject|    Paper Shell|      Diving|              73.02|    true|            false|       false| Courtney Wilson|      LIC62298|3004 Buchanan Gre...|         Williamside|       Wyoming|          6707889780|gsanchez@example.com|              20|    2026-11-28|       false|        2|           3772|                 1859|      2024|North Brandiberg ...|35.569966|-72.575325|                31|          Coastal|                 17.9|                     333|           false|          true|                  94.2|      Mixed|        Moderate|                   3|SALE02378|2024-12-30|   Export Company C|        Auction|            1.22|       87.34|         49.24|               5.2|          COD|           Ricefort|              3|          106.5548|          51.7739504|     2024|     INS00693|     2025-02-18| Michael Brown|             Fail|          false|           Good|      Standard|   Significant|          Positive|            Pass|          21.97|              true|Eye quite drive y...|Gutierrez, Alliso...|        Trawler|        105|       12|        Steel|              816|                 1964|            6|      2005|      Meadowsside|            REG7673|        1160122|       false|         false|\n",
            "|   VSL024|  LOB00109|            FG008|   FSH065|European Lobster|2023-12-15|     39.5|      1350.0|              17.3| Reject|     Hard Shell|Hand Picking|              46.24|    true|            false|        true|   William Lopez|      LIC47014|922 Paul Forks Ap...|        Sarahchester|    New Jersey|        306-370-5415| karen51@example.net|              37|    2027-05-20|        true|        4|            759|                 3144|      2023|   Justinstad Ground|  43.2841|-67.726324|                85|       Deep Water|                 16.6|                     173|            true|         false|                   6.8|      Sandy|            Weak|                   3|SALE02664|2024-12-14| Processing Plant E|Online Platform|            0.93|       42.93|         42.17|               5.7|          COD|   New Zacharymouth|              4|           39.9249|  -4.520819300000001|     2024|     INS00626|     2025-03-14| Michael Brown|             Pass|          false|           Good|       Premium|   Significant|          Negative| Retest Required|           9.27|              true|Letter well from ...|   Huber PLC Catcher|   Lobster Boat|         44|       22|   Fiberglass|             1388|                  468|            9|      2020|   Port Christina|            REG3807|         458010|        true|          true|\n",
            "|   VSL026|  LOB00124|            FG023|   FSH040|    Rock Lobster|2025-05-01|    15.79|       920.2|             11.69|Grade B|     Hard Shell|        Trap|              64.54|   false|            false|        true|Michelle Schmidt|      LIC91339|5302 Goodman Squa...|      Barbaraborough|   Connecticut|    294.933.0205x840|cristinasimpson@e...|              23|    2026-08-09|       false|        8|           2284|                 3756|      2025|    Nathantown Banks|35.216612|-70.410582|               167|          Coastal|                  8.4|                     340|            true|         false|                  99.8|      Sandy|            Weak|                   2|SALE00247|2025-03-16| Restaurant Chain B|       Contract|            1.16|       50.98|          8.96|              11.6|       Net 15|        North Scott|              1|59.136799999999994|   43.31693119999999|     2025|     INS00248|     2025-04-18| Michael Brown|             Fail|           true|      Excellent|      Standard|   Significant|          Negative| Retest Required|           25.0|             false|Discussion natura...|Hernandez-Ramirez...|        Trawler|         51|       21|     Aluminum|             1494|                  149|            7|      1986|       North John|            REG2734|         250381|        true|          true|\n",
            "|   VSL026|  LOB00135|            FG020|   FSH021|   Spiny Lobster|2025-04-01|    39.12|       875.1|              9.49|Grade B|         Peeler|    Trawling|              65.66|   false|            false|       false|   Erin Atkinson|      LIC15806|5722 Mueller Terr...|      North Jennifer|         Texas|    001-344-417-0544|kylealvarez@examp...|              10|    2025-12-19|        true|        7|           1087|                 1754|      2025|  Randallmouth Ridge|40.551138|-73.466709|               133|Continental Shelf|                 10.8|                     416|           false|         false|                  18.5|      Mixed|            Weak|                   2|SALE05448|2024-12-08|   Seafood Market A|    Direct Sale|            0.52|       67.92|          9.13|               9.8|         Cash|          Port John|              5|35.318400000000004|          22.7271968|     2024|     INS00007|     2025-03-28|    John Smith|             Fail|          false|           Fair|Below Standard|   Significant|          Negative| Retest Required|          24.39|             false|Single real relat...|Hernandez-Ramirez...|        Trawler|         51|       21|     Aluminum|             1494|                  149|            7|      1986|       North John|            REG2734|         250381|        true|          true|\n",
            "|   VSL025|  LOB00147|            FG008|   FSH034|    Rock Lobster|2023-12-11|    35.08|       440.2|              9.41|Grade C|     Soft Shell|        Trap|              49.57|   false|            false|       false|   Thomas Medina|      LIC39076|12926 Frey Spring...|   Lake Shawnchester| New Hampshire|001-827-965-3006x...| vtaylor@example.net|              31|    2025-11-23|       false|        4|           2101|                 3877|      2023|   Justinstad Ground|  43.2841|-67.726324|                85|       Deep Water|                 16.6|                     173|            true|         false|                   6.8|      Sandy|            Weak|                   3|SALE04221|2024-09-14| Processing Plant E|       Contract|            0.57|       34.85|         19.47|               6.2|         Cash|     Lake Jacobfurt|              1|           19.8645| -0.8370989999999994|     2024|     INS00388|     2025-02-25| Michael Brown|             Pass|          false|           Fair|      Standard|         Clear|          Negative|            Fail|           5.04|             false|Answer market lat...| Johnson Ltd Catcher|       Day Boat|         70|       25|        Steel|              608|                 1524|           10|      2014|       Sharonfort|            REG1404|        1208855|       false|          true|\n",
            "|   VSL020|  LOB00148|            FG006|   FSH060| Slipper Lobster|2024-04-15|    36.69|       214.9|             14.54|Grade B|     Hard Shell|        Trap|               47.3|   false|             true|       false|  Victoria Ortiz|      LIC24841|86730 Pugh Underp...|          Tylershire|         Maine| (713)746-2767x84777|latoyasellers@exa...|              28|    2025-11-21|        true|        3|           2297|                 3112|      2024|   West Ashley Shelf|37.701107|-68.981238|               192|          Coastal|                 14.3|                     299|           false|         false|                  43.3|      Rocky|            Weak|                   6|SALE07054|2024-12-14|   Export Company C|    Direct Sale|             0.6|       48.64|         17.74|              10.5|          COD|North Traceychester|              5|29.183999999999997|             8.37968|     2024|     INS00442|     2025-01-31| Michael Brown|  Retest Required|           true|      Excellent|       Premium|   Significant|          Negative|            Pass|           7.38|             false|Senior find head ...|Carr and Sons Hunter|        Trawler|         64|        8|   Fiberglass|             1116|                  559|            3|      2019|       Kiaraburgh|            REG4116|        1318949|       false|         false|\n",
            "|   VSL030|  LOB00184|            FG025|   FSH051|    Rock Lobster|2024-04-19|    18.18|       328.2|             10.22|Grade B|    Paper Shell|    Trawling|              62.38|    true|            false|        true|Jeremy Rodriguez|      LIC72330|3908 Willie Point...|           Cookmouth|  North Dakota|        620.348.9127| jmiller@example.net|               5|    2026-10-30|       false|        6|           4408|                 3736|      2024|   Lake Donald Shelf|39.601839| -72.03405|               160|     Rocky Bottom|                 16.3|                     474|           false|         false|                  29.5|      Muddy|          Strong|                   7|SALE06381|2024-10-17| Restaurant Chain B|    Direct Sale|            0.42|        43.2|         15.69|              13.3|       Net 15|South Samanthashire|              2|18.144000000000002|0.040848000000002216|     2024|     INS00164|     2025-04-22|  Maria Garcia|             Pass|           true|           Fair|Below Standard|         Minor|          Negative| Retest Required|          22.15|              true|End far small env...|Hughes, Taylor an...|        Trawler|         73|       22|     Aluminum|             1007|                 1103|            2|      1995| South Angelaview|            REG2516|         100944|       false|          true|\n",
            "|   VSL023|  LOB00194|            FG003|   FSH034|    Rock Lobster|2024-08-24|    18.07|      1279.1|             15.51|Grade C|     Hard Shell|Hand Picking|              49.15|    true|             true|        true|   Thomas Medina|      LIC39076|12926 Frey Spring...|   Lake Shawnchester| New Hampshire|001-827-965-3006x...| vtaylor@example.net|              31|    2025-11-23|       false|        4|           2101|                 3877|      2024|  Lake Melissa Ridge|43.151354|-70.060466|               186|       Deep Water|                  8.5|                     417|            true|         false|                  59.9|      Rocky|        Moderate|                   2|SALE04786|2025-01-14|   Export Company C|       Contract|            1.45|       85.56|         37.05|              14.0|          COD|       Traciborough|              2|           124.062|            69.64332|     2025|     INS00067|     2025-02-11| Michael Brown| Conditional Pass|          false|           Poor|      Standard|   Significant|          Negative|            Fail|          10.39|              true|Practice not proj...|  Huerta PLC Catcher|Offshore Vessel|         37|       22|   Fiberglass|              626|                 1394|           11|      2012|        Erinmouth|            REG7079|        1708513|       false|         false|\n",
            "|   VSL018|  LOB00200|            FG003|   FSH021|European Lobster|2024-08-27|    28.24|       200.9|            100.58|Grade B|     Soft Shell|    Trawling|               61.0|   false|             true|       false|   Erin Atkinson|      LIC15806|5722 Mueller Terr...|      North Jennifer|         Texas|    001-344-417-0544|kylealvarez@examp...|              10|    2025-12-19|        true|        7|           1087|                 1754|      2024|  Lake Melissa Ridge|43.151354|-70.060466|               186|       Deep Water|                  8.5|                     417|            true|         false|                  59.9|      Rocky|        Moderate|                   2|SALE07516|2024-06-14| Restaurant Chain B|    Direct Sale|             0.6|       36.61|         31.08|               8.1|          COD|        Simmonsside|              2|21.965999999999998| -10.893246000000001|     2024|     INS00465|     2025-02-25| David Johnson|             Fail|           true|           Fair|      Standard|         Clear|          Positive|            Pass|          17.38|              true|High hot for sell...| Torres LLC Explorer|   Lobster Boat|         34|       25|     Aluminum|              759|                 1482|            8|      1991|         Bushland|            REG7700|        1736386|       false|          true|\n",
            "|   VSL007|  LOB00201|            FG001|   FSH091|European Lobster|2024-09-24|    16.55|      1013.3|             15.26|Grade B|    Paper Shell|        Trap|              36.74|    true|             true|        true| Danielle Barnes|      LIC62250|56747 Benjamin Di...|          New Amanda|    New Mexico|     +1-780-706-9503|natalie35@example...|              23|    2026-06-30|       false|        7|           1040|                 2026|      2024|     Bobbyland Ridge|41.093432|-74.396275|                53|       Deep Water|                  8.6|                     285|           false|         false|                  31.6|      Rocky|            Weak|                   8|SALE04704|2025-01-19| Processing Plant E|        Auction|             0.9|       84.25|         38.76|              13.7|         Cash|       Karenborough|              1|            75.825|  26.676975000000006|     2025|     INS00058|     2025-01-16| Michael Brown|             Fail|          false|      Excellent|      Standard|         Clear|          Positive|            Pass|           13.9|             false|Apply leg ground ...| Love-Bates Explorer|       Day Boat|         54|        9|     Aluminum|             1428|                 1100|            5|      2012|East Michelleport|            REG2982|        1997014|       false|         false|\n",
            "|   VSL046|  LOB00255|            FG008|   FSH093|   Spiny Lobster|2024-12-29|    22.78|       744.1|             11.88|Grade A|     Soft Shell|    Trawling|              62.75|   false|            false|       false| Derrick Jenkins|      LIC34946|Unit 5937 Box 885...|           Port Jose|         Maine|       (822)764-5090|steinjill@example...|              24|    2026-05-03|       false|        4|           3478|                 1016|      2024|   Justinstad Ground|  43.2841|-67.726324|                85|       Deep Water|                 16.6|                     173|            true|         false|                   6.8|      Sandy|            Weak|                   3|SALE01498|2024-10-01| Restaurant Chain B|Online Platform|            0.92|       70.15|          27.0|              13.5|         Cash|         Delgadoton|              3| 64.53800000000001|   28.82537000000001|     2024|     INS00748|     2025-01-16|  Sarah Wilson|  Retest Required|          false|           Poor|Below Standard|         Clear|          Negative|            Fail|          15.58|             false|Believe activity ...|Hendrix Group Hunter|Offshore Vessel|        115|       21|        Steel|              684|                 1251|           11|      1990|     Port Matthew|            REG3653|        1522668|       false|          true|\n",
            "|   VSL017|  LOB00256|            FG024|   FSH095|European Lobster|2025-03-03|    40.22|      1339.4|              9.81|Grade A|    Paper Shell|      Diving|              69.46|    true|            false|        true|      Adam Silva|      LIC41605|8322 Alan Falls\\n...|     South Julieberg| West Virginia|001-766-671-1193x...|alexis83@example.net|              21|    2027-01-05|        true|        6|            716|                 3650|      2025|   Torresville Shelf|35.030167|-70.317368|               125|Continental Shelf|                 14.7|                     294|           false|         false|                  23.5|      Mixed|            Weak|                   3|SALE02202|2024-08-31|   Seafood Market A|    Direct Sale|            1.22|       39.96|         42.47|               6.5|         Cash|      South Phillip|              4|           48.7512|   3.112371999999999|     2024|     INS00375|     2025-06-01| David Johnson|             Fail|          false|           Good|Below Standard|   Significant|          Positive|            Pass|           5.88|             false|Agreement technol...|Erickson Group Ca...|   Lobster Boat|         82|       15|     Aluminum|             1087|                  841|            7|      2018|     Johnsonmouth|            REG5422|         404123|       false|         false|\n",
            "|   VSL014|  LOB00309|            FG015|   FSH011|American Lobster|2023-07-03|    19.99|      1399.2|             13.17| Reject|     Hard Shell|    Trawling|              58.36|   false|            false|        true|    George Smith|      LIC32027|75588 Brandon Sky...|South Allisonchester|      Illinois|001-270-282-7379x...|zoesmall@example.org|              14|    2026-03-29|       false|        6|            989|                 2570|      2023|   New Thomas Ground|38.604152|-65.333126|               160|          Coastal|                 10.7|                     114|           false|         false|                  48.4|      Mixed|          Strong|                   5|SALE04472|2024-08-07| Restaurant Chain B|       Contract|            1.29|       39.14|         11.23|               8.8|         Cash|         Port Nancy|              3|           50.4906|          34.8174272|     2024|     INS00572|     2025-01-21|  Maria Garcia|             Fail|          false|      Excellent|Below Standard|         Clear|          Negative| Retest Required|           19.5|             false|Pattern worry rea...|   Pope PLC Explorer|       Day Boat|         79|       11|         Wood|              825|                  674|           10|      1985|       Wattsmouth|            REG8268|         290678|       false|         false|\n",
            "+---------+----------+-----------------+---------+----------------+----------+---------+------------+------------------+-------+---------------+------------+-------------------+--------+-----------------+------------+----------------+--------------+--------------------+--------------------+--------------+--------------------+--------------------+----------------+--------------+------------+---------+---------------+---------------------+----------+--------------------+---------+----------+------------------+-----------------+---------------------+------------------------+----------------+--------------+----------------------+-----------+----------------+--------------------+---------+----------+-------------------+---------------+----------------+------------+--------------+------------------+-------------+-------------------+---------------+------------------+--------------------+---------+-------------+---------------+--------------+-----------------+---------------+---------------+--------------+--------------+------------------+----------------+---------------+------------------+--------------------+--------------------+---------------+-----------+---------+-------------+-----------------+---------------------+-------------+----------+-----------------+-------------------+---------------+------------+--------------+\n",
            "only showing top 20 rows\n",
            "\n"
          ]
        }
      ]
    },
    {
      "cell_type": "markdown",
      "source": [
        "**10. menghitung Rincian Total Tangkapan per Spesies menurut Jenis Kapal (Bertumpuk)**"
      ],
      "metadata": {
        "id": "yxem0flQyNkP"
      }
    },
    {
      "cell_type": "code",
      "source": [
        "from pyspark.sql.functions import sum\n",
        "\n",
        "aa = joined_df.groupBy(\"species\") \\\n",
        "    .pivot(\"vessel_type\") \\\n",
        "    .agg(sum(\"total_catch_this_year\"))\n",
        "\n",
        "aa.show()\n"
      ],
      "metadata": {
        "colab": {
          "base_uri": "https://localhost:8080/"
        },
        "id": "hj_Pdz17x82g",
        "outputId": "89d94e9c-6cd8-4527-915b-7c88b51a34e7"
      },
      "execution_count": null,
      "outputs": [
        {
          "output_type": "stream",
          "name": "stdout",
          "text": [
            "+----------------+--------+------------+---------------+-------+\n",
            "|         species|Day Boat|Lobster Boat|Offshore Vessel|Trawler|\n",
            "+----------------+--------+------------+---------------+-------+\n",
            "|American Lobster|   97567|       84934|          78221|  50715|\n",
            "|    Rock Lobster|   74612|       64792|          71562|  63263|\n",
            "| Slipper Lobster|  117996|       77056|          81603|  85103|\n",
            "|   Spiny Lobster|   52594|       43262|          61819|  65897|\n",
            "|European Lobster|   78668|       77282|          88954|  67106|\n",
            "+----------------+--------+------------+---------------+-------+\n",
            "\n"
          ]
        }
      ]
    }
  ]
}